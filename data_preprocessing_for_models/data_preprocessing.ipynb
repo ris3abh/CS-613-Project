{
 "cells": [
  {
   "cell_type": "code",
   "execution_count": 33,
   "metadata": {},
   "outputs": [],
   "source": [
    "import pandas as pd\n",
    "import numpy as np\n",
    "import matplotlib.pyplot as plt \n",
    "import seaborn as sns\n",
    "import warnings\n",
    "warnings.filterwarnings('ignore')\n",
    "%matplotlib inline"
   ]
  },
  {
   "cell_type": "code",
   "execution_count": 34,
   "metadata": {},
   "outputs": [],
   "source": [
    "df = pd.read_csv('/Users/rishabhsharma/Documents/GitHub/Sentencing_prediction/data/df_complete.csv')"
   ]
  },
  {
   "cell_type": "code",
   "execution_count": 35,
   "metadata": {},
   "outputs": [
    {
     "data": {
      "text/plain": [
       "(185405, 31)"
      ]
     },
     "execution_count": 35,
     "metadata": {},
     "output_type": "execute_result"
    }
   ],
   "source": [
    "df.shape"
   ]
  },
  {
   "cell_type": "markdown",
   "metadata": {},
   "source": []
  },
  {
   "cell_type": "code",
   "execution_count": 36,
   "metadata": {},
   "outputs": [
    {
     "data": {
      "text/plain": [
       "Probation             110355\n",
       "Confinement            46705\n",
       "No Further Penalty     17693\n",
       "Merged                  8196\n",
       "IPP                     2456\n",
       "Name: sentence_type, dtype: int64"
      ]
     },
     "execution_count": 36,
     "metadata": {},
     "output_type": "execute_result"
    }
   ],
   "source": [
    "df['sentence_type'].value_counts()"
   ]
  },
  {
   "cell_type": "code",
   "execution_count": 37,
   "metadata": {},
   "outputs": [],
   "source": [
    "df.drop(['docket_id', 'defendant_id', 'sequence_number', 'Unnamed: 0'], axis = 1, inplace = True)"
   ]
  },
  {
   "cell_type": "code",
   "execution_count": 38,
   "metadata": {},
   "outputs": [
    {
     "data": {
      "text/plain": [
       "Index(['gender_x', 'race_x', 'date_of_birth_x', 'arrest_date_x',\n",
       "       'filing_date_x', 'initiation_date_x', 'status_name_x',\n",
       "       'court_office__court__display_name_x',\n",
       "       'current_processing_status__status_change_datetime',\n",
       "       'judicial_districts', 'court_office_types', 'court_types',\n",
       "       'representation_type', 'description', 'statute_description',\n",
       "       'disposing_authority__title', 'sentence_type', 'gender_y', 'race_y',\n",
       "       'date_of_birth_y', 'arrest_date_y', 'disposition_date', 'filing_date_y',\n",
       "       'initiation_date_y', 'status_name_y',\n",
       "       'court_office__court__display_name_y', 'disposing_authority'],\n",
       "      dtype='object')"
      ]
     },
     "execution_count": 38,
     "metadata": {},
     "output_type": "execute_result"
    }
   ],
   "source": [
    "df.columns"
   ]
  },
  {
   "cell_type": "code",
   "execution_count": 39,
   "metadata": {},
   "outputs": [],
   "source": [
    "df.drop(['gender_y', 'race_y',\n",
    "       'date_of_birth_y', 'arrest_date_y', 'disposition_date', 'filing_date_y',\n",
    "       'initiation_date_y', 'status_name_y',\n",
    "       'court_office__court__display_name_y'], axis = 1, inplace = True)"
   ]
  },
  {
   "cell_type": "code",
   "execution_count": 40,
   "metadata": {},
   "outputs": [
    {
     "data": {
      "text/plain": [
       "Index(['gender_x', 'race_x', 'date_of_birth_x', 'arrest_date_x',\n",
       "       'filing_date_x', 'initiation_date_x', 'status_name_x',\n",
       "       'court_office__court__display_name_x',\n",
       "       'current_processing_status__status_change_datetime',\n",
       "       'judicial_districts', 'court_office_types', 'court_types',\n",
       "       'representation_type', 'description', 'statute_description',\n",
       "       'disposing_authority__title', 'sentence_type', 'disposing_authority'],\n",
       "      dtype='object')"
      ]
     },
     "execution_count": 40,
     "metadata": {},
     "output_type": "execute_result"
    }
   ],
   "source": [
    "df.columns"
   ]
  },
  {
   "cell_type": "code",
   "execution_count": 41,
   "metadata": {},
   "outputs": [
    {
     "data": {
      "text/plain": [
       "Philadelphia                               182521\n",
       "Delaware, Philadelphia                        946\n",
       "Bucks, Philadelphia                           624\n",
       "Montgomery, Philadelphia                      541\n",
       "Chester, Philadelphia                         195\n",
       "                                            ...  \n",
       "Lancaster, York, Philadelphia                   1\n",
       "Berks, Montgomery, Lehigh, Philadelphia         1\n",
       "Philadelphia, Tioga                             1\n",
       "Carbon, Lehigh, Philadelphia                    1\n",
       "Clinton, Philadelphia                           1\n",
       "Name: judicial_districts, Length: 85, dtype: int64"
      ]
     },
     "execution_count": 41,
     "metadata": {},
     "output_type": "execute_result"
    }
   ],
   "source": [
    "df['judicial_districts'].value_counts()"
   ]
  },
  {
   "cell_type": "code",
   "execution_count": 42,
   "metadata": {},
   "outputs": [],
   "source": [
    "## 'ifjudicial_districts' is not philadelphia, then drop the row\n",
    "df = df[df['judicial_districts'] == 'Philadelphia']"
   ]
  },
  {
   "cell_type": "code",
   "execution_count": 43,
   "metadata": {},
   "outputs": [],
   "source": [
    "df.drop(['court_office_types'], axis = 1, inplace = True)"
   ]
  },
  {
   "cell_type": "code",
   "execution_count": 44,
   "metadata": {},
   "outputs": [],
   "source": [
    "df.drop(['representation_type'], axis = 1, inplace = True)"
   ]
  },
  {
   "cell_type": "code",
   "execution_count": 45,
   "metadata": {},
   "outputs": [
    {
     "data": {
      "text/plain": [
       "<seaborn.axisgrid.FacetGrid at 0x12737f8e0>"
      ]
     },
     "execution_count": 45,
     "metadata": {},
     "output_type": "execute_result"
    },
    {
     "data": {
      "image/png": "[encoded data removed]",
      "text/plain": [
       "<Figure size 500x500 with 1 Axes>"
      ]
     },
     "metadata": {},
     "output_type": "display_data"
    }
   ],
   "source": [
    "## plotting the genders in the dataset\n",
    "sns.displot(data=df, x=\"gender_x\")\n"
   ]
  },
  {
   "cell_type": "code",
   "execution_count": 46,
   "metadata": {},
   "outputs": [
    {
     "data": {
      "text/plain": [
       "Black                             109632\n",
       "White                              67514\n",
       "Asian/Pacific Islander              2654\n",
       "Unknown/Unreported                  2519\n",
       "Native American/Alaskan Native       111\n",
       "Bi-Racial                             46\n",
       "Asian                                 45\n",
       "Name: race_x, dtype: int64"
      ]
     },
     "execution_count": 46,
     "metadata": {},
     "output_type": "execute_result"
    }
   ],
   "source": [
    "df['race_x'].value_counts()"
   ]
  },
  {
   "cell_type": "code",
   "execution_count": 47,
   "metadata": {},
   "outputs": [],
   "source": [
    "## lable encoding the categorical variables\n",
    "\n",
    "from sklearn.preprocessing import LabelEncoder\n",
    "le = LabelEncoder()"
   ]
  },
  {
   "cell_type": "code",
   "execution_count": 48,
   "metadata": {},
   "outputs": [],
   "source": [
    "df['race_x']= le.fit_transform(df['race_x'])\n",
    "df['gender_x'] = le.fit_transform(df['gender_x'])\n",
    "df['status_name_x'] = le.fit_transform(df['status_name_x'])\n",
    "df['court_office__court__display_name_x'] = le.fit_transform(df['court_office__court__display_name_x'])\n",
    "df['court_types'] = le.fit_transform(df['court_types'])"
   ]
  },
  {
   "cell_type": "code",
   "execution_count": 49,
   "metadata": {},
   "outputs": [],
   "source": [
    "df['sentence_type'] = le.fit_transform(df['sentence_type'])\n",
    "df.drop(['judicial_districts'], axis = 1, inplace = True)"
   ]
  },
  {
   "cell_type": "code",
   "execution_count": 50,
   "metadata": {},
   "outputs": [
    {
     "data": {
      "text/html": [
       "<div>\n",
       "<style scoped>\n",
       "    .dataframe tbody tr th:only-of-type {\n",
       "        vertical-align: middle;\n",
       "    }\n",
       "\n",
       "    .dataframe tbody tr th {\n",
       "        vertical-align: top;\n",
       "    }\n",
       "\n",
       "    .dataframe thead th {\n",
       "        text-align: right;\n",
       "    }\n",
       "</style>\n",
       "<table border=\"1\" class=\"dataframe\">\n",
       "  <thead>\n",
       "    <tr style=\"text-align: right;\">\n",
       "      <th></th>\n",
       "      <th>gender_x</th>\n",
       "      <th>race_x</th>\n",
       "      <th>date_of_birth_x</th>\n",
       "      <th>arrest_date_x</th>\n",
       "      <th>filing_date_x</th>\n",
       "      <th>initiation_date_x</th>\n",
       "      <th>status_name_x</th>\n",
       "      <th>court_office__court__display_name_x</th>\n",
       "      <th>current_processing_status__status_change_datetime</th>\n",
       "      <th>court_types</th>\n",
       "      <th>description</th>\n",
       "      <th>statute_description</th>\n",
       "      <th>disposing_authority__title</th>\n",
       "      <th>sentence_type</th>\n",
       "      <th>disposing_authority</th>\n",
       "    </tr>\n",
       "  </thead>\n",
       "  <tbody>\n",
       "    <tr>\n",
       "      <th>1</th>\n",
       "      <td>0</td>\n",
       "      <td>3</td>\n",
       "      <td>1970-01-01</td>\n",
       "      <td>2010-03-01</td>\n",
       "      <td>2010-03-01</td>\n",
       "      <td>2010-03-01</td>\n",
       "      <td>3</td>\n",
       "      <td>0</td>\n",
       "      <td>0001-01-01</td>\n",
       "      <td>3</td>\n",
       "      <td>DUI: Gen Imp/Inc of Driving Safely - 1st Off</td>\n",
       "      <td>DUI: Gen Imp/Inc of Driving Safely - 1st Off</td>\n",
       "      <td>Judge</td>\n",
       "      <td>2</td>\n",
       "      <td>Thomas F. Gehret</td>\n",
       "    </tr>\n",
       "    <tr>\n",
       "      <th>3</th>\n",
       "      <td>1</td>\n",
       "      <td>3</td>\n",
       "      <td>1953-01-01</td>\n",
       "      <td>2010-05-01</td>\n",
       "      <td>2010-10-01</td>\n",
       "      <td>2010-10-01</td>\n",
       "      <td>3</td>\n",
       "      <td>1</td>\n",
       "      <td>0001-01-01</td>\n",
       "      <td>4</td>\n",
       "      <td>Manufacture, Delivery, or Possession With Inte...</td>\n",
       "      <td>Manufacture, Delivery, or Possession With Inte...</td>\n",
       "      <td>Judge</td>\n",
       "      <td>0</td>\n",
       "      <td>Daniel J. Anders</td>\n",
       "    </tr>\n",
       "    <tr>\n",
       "      <th>4</th>\n",
       "      <td>1</td>\n",
       "      <td>5</td>\n",
       "      <td>1950-01-01</td>\n",
       "      <td>2010-05-01</td>\n",
       "      <td>2010-06-01</td>\n",
       "      <td>2010-06-01</td>\n",
       "      <td>3</td>\n",
       "      <td>1</td>\n",
       "      <td>0001-01-01</td>\n",
       "      <td>4</td>\n",
       "      <td>Retail Theft-Take Mdse</td>\n",
       "      <td>Retail Theft-Take Mdse</td>\n",
       "      <td>Judge</td>\n",
       "      <td>4</td>\n",
       "      <td>Rayford A. Means</td>\n",
       "    </tr>\n",
       "    <tr>\n",
       "      <th>7</th>\n",
       "      <td>1</td>\n",
       "      <td>1</td>\n",
       "      <td>1972-01-01</td>\n",
       "      <td>2011-01-01</td>\n",
       "      <td>2011-01-01</td>\n",
       "      <td>2011-01-01</td>\n",
       "      <td>3</td>\n",
       "      <td>0</td>\n",
       "      <td>0001-01-01</td>\n",
       "      <td>3</td>\n",
       "      <td>DUI: Controlled Substance or Metabolite 1st Of...</td>\n",
       "      <td>DUI: Controlled Substance or Metabolite 1st Of...</td>\n",
       "      <td>Judge</td>\n",
       "      <td>2</td>\n",
       "      <td>Joseph J. O'Neill</td>\n",
       "    </tr>\n",
       "    <tr>\n",
       "      <th>8</th>\n",
       "      <td>1</td>\n",
       "      <td>6</td>\n",
       "      <td>1968-01-01</td>\n",
       "      <td>2011-04-01</td>\n",
       "      <td>2011-04-01</td>\n",
       "      <td>2011-04-01</td>\n",
       "      <td>3</td>\n",
       "      <td>1</td>\n",
       "      <td>0001-01-01</td>\n",
       "      <td>4</td>\n",
       "      <td>Manufacture, Delivery, or Possession With Inte...</td>\n",
       "      <td>Manufacture, Delivery, or Possession With Inte...</td>\n",
       "      <td>Judge</td>\n",
       "      <td>0</td>\n",
       "      <td>Adam nan Beloff</td>\n",
       "    </tr>\n",
       "  </tbody>\n",
       "</table>\n",
       "</div>"
      ],
      "text/plain": [
       "   gender_x  race_x date_of_birth_x arrest_date_x filing_date_x  \\\n",
       "1         0       3      1970-01-01    2010-03-01    2010-03-01   \n",
       "3         1       3      1953-01-01    2010-05-01    2010-10-01   \n",
       "4         1       5      1950-01-01    2010-05-01    2010-06-01   \n",
       "7         1       1      1972-01-01    2011-01-01    2011-01-01   \n",
       "8         1       6      1968-01-01    2011-04-01    2011-04-01   \n",
       "\n",
       "  initiation_date_x  status_name_x  court_office__court__display_name_x  \\\n",
       "1        2010-03-01              3                                    0   \n",
       "3        2010-10-01              3                                    1   \n",
       "4        2010-06-01              3                                    1   \n",
       "7        2011-01-01              3                                    0   \n",
       "8        2011-04-01              3                                    1   \n",
       "\n",
       "  current_processing_status__status_change_datetime  court_types  \\\n",
       "1                                        0001-01-01            3   \n",
       "3                                        0001-01-01            4   \n",
       "4                                        0001-01-01            4   \n",
       "7                                        0001-01-01            3   \n",
       "8                                        0001-01-01            4   \n",
       "\n",
       "                                         description  \\\n",
       "1       DUI: Gen Imp/Inc of Driving Safely - 1st Off   \n",
       "3  Manufacture, Delivery, or Possession With Inte...   \n",
       "4                             Retail Theft-Take Mdse   \n",
       "7  DUI: Controlled Substance or Metabolite 1st Of...   \n",
       "8  Manufacture, Delivery, or Possession With Inte...   \n",
       "\n",
       "                                 statute_description  \\\n",
       "1       DUI: Gen Imp/Inc of Driving Safely - 1st Off   \n",
       "3  Manufacture, Delivery, or Possession With Inte...   \n",
       "4                             Retail Theft-Take Mdse   \n",
       "7  DUI: Controlled Substance or Metabolite 1st Of...   \n",
       "8  Manufacture, Delivery, or Possession With Inte...   \n",
       "\n",
       "  disposing_authority__title  sentence_type disposing_authority  \n",
       "1                      Judge              2    Thomas F. Gehret  \n",
       "3                      Judge              0    Daniel J. Anders  \n",
       "4                      Judge              4    Rayford A. Means  \n",
       "7                      Judge              2   Joseph J. O'Neill  \n",
       "8                      Judge              0     Adam nan Beloff  "
      ]
     },
     "execution_count": 50,
     "metadata": {},
     "output_type": "execute_result"
    }
   ],
   "source": [
    "df.head()"
   ]
  },
  {
   "cell_type": "code",
   "execution_count": 51,
   "metadata": {},
   "outputs": [
    {
     "data": {
      "text/plain": [
       "'Manufacture, Delivery, or Possession With Intent to Manufacture or Deliver'"
      ]
     },
     "execution_count": 51,
     "metadata": {},
     "output_type": "execute_result"
    }
   ],
   "source": [
    "df['statute_description'][8]"
   ]
  },
  {
   "cell_type": "code",
   "execution_count": 52,
   "metadata": {},
   "outputs": [
    {
     "data": {
      "text/plain": [
       "'Manufacture, Delivery, or Possession With Intent to Manufacture or Deliver'"
      ]
     },
     "execution_count": 52,
     "metadata": {},
     "output_type": "execute_result"
    }
   ],
   "source": [
    "df['description'][8]"
   ]
  },
  {
   "cell_type": "code",
   "execution_count": 53,
   "metadata": {},
   "outputs": [],
   "source": [
    "df.drop(['statute_description'], axis = 1, inplace = True)"
   ]
  },
  {
   "cell_type": "code",
   "execution_count": 54,
   "metadata": {},
   "outputs": [
    {
     "data": {
      "text/html": [
       "<div>\n",
       "<style scoped>\n",
       "    .dataframe tbody tr th:only-of-type {\n",
       "        vertical-align: middle;\n",
       "    }\n",
       "\n",
       "    .dataframe tbody tr th {\n",
       "        vertical-align: top;\n",
       "    }\n",
       "\n",
       "    .dataframe thead th {\n",
       "        text-align: right;\n",
       "    }\n",
       "</style>\n",
       "<table border=\"1\" class=\"dataframe\">\n",
       "  <thead>\n",
       "    <tr style=\"text-align: right;\">\n",
       "      <th></th>\n",
       "      <th>gender_x</th>\n",
       "      <th>race_x</th>\n",
       "      <th>date_of_birth_x</th>\n",
       "      <th>arrest_date_x</th>\n",
       "      <th>filing_date_x</th>\n",
       "      <th>initiation_date_x</th>\n",
       "      <th>status_name_x</th>\n",
       "      <th>court_office__court__display_name_x</th>\n",
       "      <th>current_processing_status__status_change_datetime</th>\n",
       "      <th>court_types</th>\n",
       "      <th>description</th>\n",
       "      <th>disposing_authority__title</th>\n",
       "      <th>sentence_type</th>\n",
       "      <th>disposing_authority</th>\n",
       "    </tr>\n",
       "  </thead>\n",
       "  <tbody>\n",
       "    <tr>\n",
       "      <th>1</th>\n",
       "      <td>0</td>\n",
       "      <td>3</td>\n",
       "      <td>1970-01-01</td>\n",
       "      <td>2010-03-01</td>\n",
       "      <td>2010-03-01</td>\n",
       "      <td>2010-03-01</td>\n",
       "      <td>3</td>\n",
       "      <td>0</td>\n",
       "      <td>0001-01-01</td>\n",
       "      <td>3</td>\n",
       "      <td>DUI: Gen Imp/Inc of Driving Safely - 1st Off</td>\n",
       "      <td>Judge</td>\n",
       "      <td>2</td>\n",
       "      <td>Thomas F. Gehret</td>\n",
       "    </tr>\n",
       "    <tr>\n",
       "      <th>3</th>\n",
       "      <td>1</td>\n",
       "      <td>3</td>\n",
       "      <td>1953-01-01</td>\n",
       "      <td>2010-05-01</td>\n",
       "      <td>2010-10-01</td>\n",
       "      <td>2010-10-01</td>\n",
       "      <td>3</td>\n",
       "      <td>1</td>\n",
       "      <td>0001-01-01</td>\n",
       "      <td>4</td>\n",
       "      <td>Manufacture, Delivery, or Possession With Inte...</td>\n",
       "      <td>Judge</td>\n",
       "      <td>0</td>\n",
       "      <td>Daniel J. Anders</td>\n",
       "    </tr>\n",
       "    <tr>\n",
       "      <th>4</th>\n",
       "      <td>1</td>\n",
       "      <td>5</td>\n",
       "      <td>1950-01-01</td>\n",
       "      <td>2010-05-01</td>\n",
       "      <td>2010-06-01</td>\n",
       "      <td>2010-06-01</td>\n",
       "      <td>3</td>\n",
       "      <td>1</td>\n",
       "      <td>0001-01-01</td>\n",
       "      <td>4</td>\n",
       "      <td>Retail Theft-Take Mdse</td>\n",
       "      <td>Judge</td>\n",
       "      <td>4</td>\n",
       "      <td>Rayford A. Means</td>\n",
       "    </tr>\n",
       "    <tr>\n",
       "      <th>7</th>\n",
       "      <td>1</td>\n",
       "      <td>1</td>\n",
       "      <td>1972-01-01</td>\n",
       "      <td>2011-01-01</td>\n",
       "      <td>2011-01-01</td>\n",
       "      <td>2011-01-01</td>\n",
       "      <td>3</td>\n",
       "      <td>0</td>\n",
       "      <td>0001-01-01</td>\n",
       "      <td>3</td>\n",
       "      <td>DUI: Controlled Substance or Metabolite 1st Of...</td>\n",
       "      <td>Judge</td>\n",
       "      <td>2</td>\n",
       "      <td>Joseph J. O'Neill</td>\n",
       "    </tr>\n",
       "    <tr>\n",
       "      <th>8</th>\n",
       "      <td>1</td>\n",
       "      <td>6</td>\n",
       "      <td>1968-01-01</td>\n",
       "      <td>2011-04-01</td>\n",
       "      <td>2011-04-01</td>\n",
       "      <td>2011-04-01</td>\n",
       "      <td>3</td>\n",
       "      <td>1</td>\n",
       "      <td>0001-01-01</td>\n",
       "      <td>4</td>\n",
       "      <td>Manufacture, Delivery, or Possession With Inte...</td>\n",
       "      <td>Judge</td>\n",
       "      <td>0</td>\n",
       "      <td>Adam nan Beloff</td>\n",
       "    </tr>\n",
       "  </tbody>\n",
       "</table>\n",
       "</div>"
      ],
      "text/plain": [
       "   gender_x  race_x date_of_birth_x arrest_date_x filing_date_x  \\\n",
       "1         0       3      1970-01-01    2010-03-01    2010-03-01   \n",
       "3         1       3      1953-01-01    2010-05-01    2010-10-01   \n",
       "4         1       5      1950-01-01    2010-05-01    2010-06-01   \n",
       "7         1       1      1972-01-01    2011-01-01    2011-01-01   \n",
       "8         1       6      1968-01-01    2011-04-01    2011-04-01   \n",
       "\n",
       "  initiation_date_x  status_name_x  court_office__court__display_name_x  \\\n",
       "1        2010-03-01              3                                    0   \n",
       "3        2010-10-01              3                                    1   \n",
       "4        2010-06-01              3                                    1   \n",
       "7        2011-01-01              3                                    0   \n",
       "8        2011-04-01              3                                    1   \n",
       "\n",
       "  current_processing_status__status_change_datetime  court_types  \\\n",
       "1                                        0001-01-01            3   \n",
       "3                                        0001-01-01            4   \n",
       "4                                        0001-01-01            4   \n",
       "7                                        0001-01-01            3   \n",
       "8                                        0001-01-01            4   \n",
       "\n",
       "                                         description  \\\n",
       "1       DUI: Gen Imp/Inc of Driving Safely - 1st Off   \n",
       "3  Manufacture, Delivery, or Possession With Inte...   \n",
       "4                             Retail Theft-Take Mdse   \n",
       "7  DUI: Controlled Substance or Metabolite 1st Of...   \n",
       "8  Manufacture, Delivery, or Possession With Inte...   \n",
       "\n",
       "  disposing_authority__title  sentence_type disposing_authority  \n",
       "1                      Judge              2    Thomas F. Gehret  \n",
       "3                      Judge              0    Daniel J. Anders  \n",
       "4                      Judge              4    Rayford A. Means  \n",
       "7                      Judge              2   Joseph J. O'Neill  \n",
       "8                      Judge              0     Adam nan Beloff  "
      ]
     },
     "execution_count": 54,
     "metadata": {},
     "output_type": "execute_result"
    }
   ],
   "source": [
    "df.head()"
   ]
  },
  {
   "cell_type": "code",
   "execution_count": 55,
   "metadata": {},
   "outputs": [],
   "source": [
    "## creating a data attribute for the age of criminal at the time of arrest and deleting the date of birth column and arrest date column\n",
    "\n",
    "df['age'] = df['arrest_date_x'].str.split('-').str[0].astype(int) - df['date_of_birth_x'].str.split('-').str[0].astype(int)\n",
    "\n",
    "df.drop(['date_of_birth_x'], axis = 1, inplace = True)\n",
    "df.drop('arrest_date_x', axis = 1, inplace = True)\n",
    "\n",
    "\n"
   ]
  },
  {
   "cell_type": "code",
   "execution_count": 56,
   "metadata": {},
   "outputs": [
    {
     "data": {
      "text/html": [
       "<div>\n",
       "<style scoped>\n",
       "    .dataframe tbody tr th:only-of-type {\n",
       "        vertical-align: middle;\n",
       "    }\n",
       "\n",
       "    .dataframe tbody tr th {\n",
       "        vertical-align: top;\n",
       "    }\n",
       "\n",
       "    .dataframe thead th {\n",
       "        text-align: right;\n",
       "    }\n",
       "</style>\n",
       "<table border=\"1\" class=\"dataframe\">\n",
       "  <thead>\n",
       "    <tr style=\"text-align: right;\">\n",
       "      <th></th>\n",
       "      <th>gender_x</th>\n",
       "      <th>race_x</th>\n",
       "      <th>filing_date_x</th>\n",
       "      <th>initiation_date_x</th>\n",
       "      <th>status_name_x</th>\n",
       "      <th>court_office__court__display_name_x</th>\n",
       "      <th>current_processing_status__status_change_datetime</th>\n",
       "      <th>court_types</th>\n",
       "      <th>description</th>\n",
       "      <th>disposing_authority__title</th>\n",
       "      <th>sentence_type</th>\n",
       "      <th>disposing_authority</th>\n",
       "      <th>age</th>\n",
       "    </tr>\n",
       "  </thead>\n",
       "  <tbody>\n",
       "    <tr>\n",
       "      <th>1</th>\n",
       "      <td>0</td>\n",
       "      <td>3</td>\n",
       "      <td>2010-03-01</td>\n",
       "      <td>2010-03-01</td>\n",
       "      <td>3</td>\n",
       "      <td>0</td>\n",
       "      <td>0001-01-01</td>\n",
       "      <td>3</td>\n",
       "      <td>DUI: Gen Imp/Inc of Driving Safely - 1st Off</td>\n",
       "      <td>Judge</td>\n",
       "      <td>2</td>\n",
       "      <td>Thomas F. Gehret</td>\n",
       "      <td>40</td>\n",
       "    </tr>\n",
       "    <tr>\n",
       "      <th>3</th>\n",
       "      <td>1</td>\n",
       "      <td>3</td>\n",
       "      <td>2010-10-01</td>\n",
       "      <td>2010-10-01</td>\n",
       "      <td>3</td>\n",
       "      <td>1</td>\n",
       "      <td>0001-01-01</td>\n",
       "      <td>4</td>\n",
       "      <td>Manufacture, Delivery, or Possession With Inte...</td>\n",
       "      <td>Judge</td>\n",
       "      <td>0</td>\n",
       "      <td>Daniel J. Anders</td>\n",
       "      <td>57</td>\n",
       "    </tr>\n",
       "    <tr>\n",
       "      <th>4</th>\n",
       "      <td>1</td>\n",
       "      <td>5</td>\n",
       "      <td>2010-06-01</td>\n",
       "      <td>2010-06-01</td>\n",
       "      <td>3</td>\n",
       "      <td>1</td>\n",
       "      <td>0001-01-01</td>\n",
       "      <td>4</td>\n",
       "      <td>Retail Theft-Take Mdse</td>\n",
       "      <td>Judge</td>\n",
       "      <td>4</td>\n",
       "      <td>Rayford A. Means</td>\n",
       "      <td>60</td>\n",
       "    </tr>\n",
       "    <tr>\n",
       "      <th>7</th>\n",
       "      <td>1</td>\n",
       "      <td>1</td>\n",
       "      <td>2011-01-01</td>\n",
       "      <td>2011-01-01</td>\n",
       "      <td>3</td>\n",
       "      <td>0</td>\n",
       "      <td>0001-01-01</td>\n",
       "      <td>3</td>\n",
       "      <td>DUI: Controlled Substance or Metabolite 1st Of...</td>\n",
       "      <td>Judge</td>\n",
       "      <td>2</td>\n",
       "      <td>Joseph J. O'Neill</td>\n",
       "      <td>39</td>\n",
       "    </tr>\n",
       "    <tr>\n",
       "      <th>8</th>\n",
       "      <td>1</td>\n",
       "      <td>6</td>\n",
       "      <td>2011-04-01</td>\n",
       "      <td>2011-04-01</td>\n",
       "      <td>3</td>\n",
       "      <td>1</td>\n",
       "      <td>0001-01-01</td>\n",
       "      <td>4</td>\n",
       "      <td>Manufacture, Delivery, or Possession With Inte...</td>\n",
       "      <td>Judge</td>\n",
       "      <td>0</td>\n",
       "      <td>Adam nan Beloff</td>\n",
       "      <td>43</td>\n",
       "    </tr>\n",
       "  </tbody>\n",
       "</table>\n",
       "</div>"
      ],
      "text/plain": [
       "   gender_x  race_x filing_date_x initiation_date_x  status_name_x  \\\n",
       "1         0       3    2010-03-01        2010-03-01              3   \n",
       "3         1       3    2010-10-01        2010-10-01              3   \n",
       "4         1       5    2010-06-01        2010-06-01              3   \n",
       "7         1       1    2011-01-01        2011-01-01              3   \n",
       "8         1       6    2011-04-01        2011-04-01              3   \n",
       "\n",
       "   court_office__court__display_name_x  \\\n",
       "1                                    0   \n",
       "3                                    1   \n",
       "4                                    1   \n",
       "7                                    0   \n",
       "8                                    1   \n",
       "\n",
       "  current_processing_status__status_change_datetime  court_types  \\\n",
       "1                                        0001-01-01            3   \n",
       "3                                        0001-01-01            4   \n",
       "4                                        0001-01-01            4   \n",
       "7                                        0001-01-01            3   \n",
       "8                                        0001-01-01            4   \n",
       "\n",
       "                                         description  \\\n",
       "1       DUI: Gen Imp/Inc of Driving Safely - 1st Off   \n",
       "3  Manufacture, Delivery, or Possession With Inte...   \n",
       "4                             Retail Theft-Take Mdse   \n",
       "7  DUI: Controlled Substance or Metabolite 1st Of...   \n",
       "8  Manufacture, Delivery, or Possession With Inte...   \n",
       "\n",
       "  disposing_authority__title  sentence_type disposing_authority  age  \n",
       "1                      Judge              2    Thomas F. Gehret   40  \n",
       "3                      Judge              0    Daniel J. Anders   57  \n",
       "4                      Judge              4    Rayford A. Means   60  \n",
       "7                      Judge              2   Joseph J. O'Neill   39  \n",
       "8                      Judge              0     Adam nan Beloff   43  "
      ]
     },
     "execution_count": 56,
     "metadata": {},
     "output_type": "execute_result"
    }
   ],
   "source": [
    "df.head()"
   ]
  },
  {
   "cell_type": "code",
   "execution_count": 57,
   "metadata": {},
   "outputs": [],
   "source": [
    "df['disposing_authority__title'] = le.fit_transform(df['disposing_authority__title'])"
   ]
  },
  {
   "cell_type": "code",
   "execution_count": 58,
   "metadata": {},
   "outputs": [],
   "source": [
    "df['disposing_authority'] = le.fit_transform(df['disposing_authority'])"
   ]
  },
  {
   "cell_type": "code",
   "execution_count": 59,
   "metadata": {},
   "outputs": [],
   "source": [
    "from sklearn.preprocessing import OneHotEncoder\n",
    "\n",
    "ohe = OneHotEncoder()\n",
    "\n",
    "##one hot encoding the description column\n",
    "\n",
    "##df['description'] = ohe.fit_transform(df['description'].values.reshape(-1,1)).toarray()\n"
   ]
  },
  {
   "cell_type": "code",
   "execution_count": 60,
   "metadata": {},
   "outputs": [
    {
     "data": {
      "text/html": [
       "<div>\n",
       "<style scoped>\n",
       "    .dataframe tbody tr th:only-of-type {\n",
       "        vertical-align: middle;\n",
       "    }\n",
       "\n",
       "    .dataframe tbody tr th {\n",
       "        vertical-align: top;\n",
       "    }\n",
       "\n",
       "    .dataframe thead th {\n",
       "        text-align: right;\n",
       "    }\n",
       "</style>\n",
       "<table border=\"1\" class=\"dataframe\">\n",
       "  <thead>\n",
       "    <tr style=\"text-align: right;\">\n",
       "      <th></th>\n",
       "      <th>gender_x</th>\n",
       "      <th>race_x</th>\n",
       "      <th>filing_date_x</th>\n",
       "      <th>initiation_date_x</th>\n",
       "      <th>status_name_x</th>\n",
       "      <th>court_office__court__display_name_x</th>\n",
       "      <th>current_processing_status__status_change_datetime</th>\n",
       "      <th>court_types</th>\n",
       "      <th>description</th>\n",
       "      <th>disposing_authority__title</th>\n",
       "      <th>sentence_type</th>\n",
       "      <th>disposing_authority</th>\n",
       "      <th>age</th>\n",
       "    </tr>\n",
       "  </thead>\n",
       "  <tbody>\n",
       "    <tr>\n",
       "      <th>1</th>\n",
       "      <td>0</td>\n",
       "      <td>3</td>\n",
       "      <td>2010-03-01</td>\n",
       "      <td>2010-03-01</td>\n",
       "      <td>3</td>\n",
       "      <td>0</td>\n",
       "      <td>0001-01-01</td>\n",
       "      <td>3</td>\n",
       "      <td>DUI: Gen Imp/Inc of Driving Safely - 1st Off</td>\n",
       "      <td>3</td>\n",
       "      <td>2</td>\n",
       "      <td>170</td>\n",
       "      <td>40</td>\n",
       "    </tr>\n",
       "    <tr>\n",
       "      <th>3</th>\n",
       "      <td>1</td>\n",
       "      <td>3</td>\n",
       "      <td>2010-10-01</td>\n",
       "      <td>2010-10-01</td>\n",
       "      <td>3</td>\n",
       "      <td>1</td>\n",
       "      <td>0001-01-01</td>\n",
       "      <td>4</td>\n",
       "      <td>Manufacture, Delivery, or Possession With Inte...</td>\n",
       "      <td>3</td>\n",
       "      <td>0</td>\n",
       "      <td>39</td>\n",
       "      <td>57</td>\n",
       "    </tr>\n",
       "    <tr>\n",
       "      <th>4</th>\n",
       "      <td>1</td>\n",
       "      <td>5</td>\n",
       "      <td>2010-06-01</td>\n",
       "      <td>2010-06-01</td>\n",
       "      <td>3</td>\n",
       "      <td>1</td>\n",
       "      <td>0001-01-01</td>\n",
       "      <td>4</td>\n",
       "      <td>Retail Theft-Take Mdse</td>\n",
       "      <td>3</td>\n",
       "      <td>4</td>\n",
       "      <td>136</td>\n",
       "      <td>60</td>\n",
       "    </tr>\n",
       "    <tr>\n",
       "      <th>7</th>\n",
       "      <td>1</td>\n",
       "      <td>1</td>\n",
       "      <td>2011-01-01</td>\n",
       "      <td>2011-01-01</td>\n",
       "      <td>3</td>\n",
       "      <td>0</td>\n",
       "      <td>0001-01-01</td>\n",
       "      <td>3</td>\n",
       "      <td>DUI: Controlled Substance or Metabolite 1st Of...</td>\n",
       "      <td>3</td>\n",
       "      <td>2</td>\n",
       "      <td>95</td>\n",
       "      <td>39</td>\n",
       "    </tr>\n",
       "    <tr>\n",
       "      <th>8</th>\n",
       "      <td>1</td>\n",
       "      <td>6</td>\n",
       "      <td>2011-04-01</td>\n",
       "      <td>2011-04-01</td>\n",
       "      <td>3</td>\n",
       "      <td>1</td>\n",
       "      <td>0001-01-01</td>\n",
       "      <td>4</td>\n",
       "      <td>Manufacture, Delivery, or Possession With Inte...</td>\n",
       "      <td>3</td>\n",
       "      <td>0</td>\n",
       "      <td>3</td>\n",
       "      <td>43</td>\n",
       "    </tr>\n",
       "  </tbody>\n",
       "</table>\n",
       "</div>"
      ],
      "text/plain": [
       "   gender_x  race_x filing_date_x initiation_date_x  status_name_x  \\\n",
       "1         0       3    2010-03-01        2010-03-01              3   \n",
       "3         1       3    2010-10-01        2010-10-01              3   \n",
       "4         1       5    2010-06-01        2010-06-01              3   \n",
       "7         1       1    2011-01-01        2011-01-01              3   \n",
       "8         1       6    2011-04-01        2011-04-01              3   \n",
       "\n",
       "   court_office__court__display_name_x  \\\n",
       "1                                    0   \n",
       "3                                    1   \n",
       "4                                    1   \n",
       "7                                    0   \n",
       "8                                    1   \n",
       "\n",
       "  current_processing_status__status_change_datetime  court_types  \\\n",
       "1                                        0001-01-01            3   \n",
       "3                                        0001-01-01            4   \n",
       "4                                        0001-01-01            4   \n",
       "7                                        0001-01-01            3   \n",
       "8                                        0001-01-01            4   \n",
       "\n",
       "                                         description  \\\n",
       "1       DUI: Gen Imp/Inc of Driving Safely - 1st Off   \n",
       "3  Manufacture, Delivery, or Possession With Inte...   \n",
       "4                             Retail Theft-Take Mdse   \n",
       "7  DUI: Controlled Substance or Metabolite 1st Of...   \n",
       "8  Manufacture, Delivery, or Possession With Inte...   \n",
       "\n",
       "   disposing_authority__title  sentence_type  disposing_authority  age  \n",
       "1                           3              2                  170   40  \n",
       "3                           3              0                   39   57  \n",
       "4                           3              4                  136   60  \n",
       "7                           3              2                   95   39  \n",
       "8                           3              0                    3   43  "
      ]
     },
     "execution_count": 60,
     "metadata": {},
     "output_type": "execute_result"
    }
   ],
   "source": [
    "df.head()"
   ]
  },
  {
   "cell_type": "code",
   "execution_count": 61,
   "metadata": {},
   "outputs": [],
   "source": [
    "\n",
    "from sklearn.model_selection import train_test_split\n",
    "\n",
    "Y = df['sentence_type']\n",
    "X = df.drop(['sentence_type'], axis = 1)\n",
    "\n",
    "X_train, X_test, Y_train, Y_test = train_test_split(X,Y, test_size = 0.33, random_state = 42)"
   ]
  },
  {
   "cell_type": "code",
   "execution_count": 68,
   "metadata": {},
   "outputs": [
    {
     "data": {
      "text/plain": [
       "array(['DUI: Controlled Substance or Metabolite 1st Offense',\n",
       "       'Manuf/Del/Poss/W Int Manuf Or Del',\n",
       "       'Manufacture, Delivery, or Possession With Intent to Manufacture or Deliver',\n",
       "       ..., 'Theft By Unlaw Taking-Movable Prop',\n",
       "       'Int Poss Contr Subst By Per Not Reg',\n",
       "       'Manufacture, Delivery, or Possession With Intent to Manufacture or Deliver'],\n",
       "      dtype=object)"
      ]
     },
     "execution_count": 68,
     "metadata": {},
     "output_type": "execute_result"
    }
   ],
   "source": [
    "X_train['description'].to_numpy()"
   ]
  },
  {
   "cell_type": "code",
   "execution_count": 71,
   "metadata": {},
   "outputs": [
    {
     "data": {
      "text/plain": [
       "numpy.ndarray"
      ]
     },
     "execution_count": 71,
     "metadata": {},
     "output_type": "execute_result"
    }
   ],
   "source": [
    "type(X_train['description'].values)"
   ]
  },
  {
   "cell_type": "code",
   "execution_count": 72,
   "metadata": {},
   "outputs": [],
   "source": [
    "from sklearn.feature_extraction.text import CountVectorizer\n",
    "\n",
    "cv = CountVectorizer()\n",
    "\n",
    "X_train_cv = cv.fit_transform(X_train['description'].values)\n",
    "X_test_cv = cv.transform(X_test['description'].values)"
   ]
  },
  {
   "cell_type": "code",
   "execution_count": 75,
   "metadata": {},
   "outputs": [
    {
     "data": {
      "text/plain": [
       "array([[0, 0, 0, ..., 0, 0, 0],\n",
       "       [0, 0, 0, ..., 0, 0, 0],\n",
       "       [0, 0, 0, ..., 0, 0, 0],\n",
       "       ...,\n",
       "       [0, 0, 0, ..., 0, 0, 0],\n",
       "       [0, 0, 0, ..., 0, 0, 0],\n",
       "       [0, 0, 0, ..., 0, 0, 0]])"
      ]
     },
     "execution_count": 75,
     "metadata": {},
     "output_type": "execute_result"
    }
   ],
   "source": [
    "X_train_cv.toarray()"
   ]
  },
  {
   "cell_type": "code",
   "execution_count": 76,
   "metadata": {},
   "outputs": [
    {
     "data": {
      "text/plain": [
       "array(['02', '025', '08', '10', '11', '12', '13', '1547b1', '16', '18',\n",
       "       '1st', '21', '2nd', '3802', '3rd', '48', '4th', '5000', 'ability',\n",
       "       'about', 'above', 'abs', 'abuse', 'acc', 'accept', 'access',\n",
       "       'acci', 'accident', 'accidents', 'accom', 'accommodation',\n",
       "       'accommodations', 'accurate', 'acq', 'acqu', 'acquis',\n",
       "       'acquisition', 'act', 'activities', 'acts', 'actual', 'adapted',\n",
       "       'address', 'admin', 'after', 'against', 'age', 'agency', 'agg',\n",
       "       'aggrav', 'aggravated', 'agreement', 'agricultural', 'aid',\n",
       "       'aiding', 'alarm', 'alc', 'alcholol', 'alco', 'alcoh', 'alcohol',\n",
       "       'alcoholic', 'allow', 'alter', 'alteration', 'altered', 'amt',\n",
       "       'amusement', 'and', 'anim', 'animal', 'animals', 'anonymous',\n",
       "       'another', 'anothr', 'antiquity', 'any', 'app', 'apparatus',\n",
       "       'appearance', 'appli', 'application', 'applying', 'appreh',\n",
       "       'arrest', 'arson', 'as', 'assault', 'assent', 'assist',\n",
       "       'assistance', 'asslt', 'at', 'att', 'attempt', 'attempting',\n",
       "       'attempts', 'attended', 'auth', 'authorities', 'authorization',\n",
       "       'authorized', 'automobile', 'avoid', 'bac', 'bad', 'be',\n",
       "       'behavior', 'belief', 'benefit', 'benefits', 'bev', 'beverages',\n",
       "       'bi', 'bl', 'bldg', 'blocking', 'bod', 'bodily', 'bookmaking',\n",
       "       'break', 'brewed', 'bribe', 'bribery', 'buildings', 'burglary',\n",
       "       'burning', 'bus', 'business', 'buy', 'by', 'card', 'care',\n",
       "       'careless', 'carried', 'carry', 'catast', 'catastrophe', 'cause',\n",
       "       'causes', 'causing', 'check', 'checks', 'child', 'children',\n",
       "       'chop', 'cig', 'claim', 'collect', 'combination', 'comm', 'commit',\n",
       "       'commits', 'communication', 'comp', 'compensation', 'complainant',\n",
       "       'comply', 'compulsion', 'computer', 'conceal', 'concealment',\n",
       "       'conduct', 'conducting', 'cons', 'consent', 'conspir',\n",
       "       'conspiracy', 'consumer', 'cont', 'contact', 'contain', 'contempt',\n",
       "       'contents', 'contr', 'contraband', 'contracts', 'control',\n",
       "       'controlled', 'copy', 'corpse', 'correct', 'corrupt', 'corruption',\n",
       "       'counter', 'counterfeit', 'counterfeiting', 'course', 'cr', 'crim',\n",
       "       'crime', 'criminal', 'criminally', 'crm', 'cruelty', 'ct', 'ctrl',\n",
       "       'custody', 'cutting', 'dam', 'damage', 'danger', 'dangerous',\n",
       "       'data', 'de', 'deadly', 'deal', 'dealers', 'death', 'decep',\n",
       "       'decept', 'deception', 'def', 'default', 'defendant', 'defined',\n",
       "       'defraud', 'deg', 'degree', 'deivate', 'del', 'delinquent',\n",
       "       'deliver', 'delivery', 'demand', 'dependent', 'depict', 'depicts',\n",
       "       'deposit', 'desecration', 'design', 'dest', 'destroy',\n",
       "       'destruction', 'determ', 'deviate', 'device', 'devices', 'did',\n",
       "       'directing', 'disability', 'disarming', 'discharge', 'disorder',\n",
       "       'disorderly', 'disp', 'disperse', 'display', 'disposition',\n",
       "       'disregard', 'disrupt', 'dissem', 'dissemination', 'dist', 'distr',\n",
       "       'distribute', 'diversion', 'dmg', 'docs', 'document', 'documents',\n",
       "       'domestic', 'dr', 'drg', 'driv', 'driving', 'drug', 'drugs',\n",
       "       'drunkenness', 'drvg', 'dui', 'duty', 'educ', 'elapsed',\n",
       "       'election', 'elude', 'email', 'emergency', 'employ', 'employed',\n",
       "       'employee', 'enclosed', 'encourage', 'endangering', 'endangerment',\n",
       "       'enforce', 'enforcement', 'engage', 'engaging', 'enhance', 'enter',\n",
       "       'entering', 'entice', 'equipment', 'escape', 'est', 'etc',\n",
       "       'ethnic', 'evacuation', 'evade', 'evid', 'evidence', 'excape',\n",
       "       'exceeds', 'execution', 'exhibits', 'exploding', 'exploitation',\n",
       "       'exposure', 'extort', 'extreme', 'fabricate', 'facil',\n",
       "       'facilitate', 'facility', 'fail', 'fails', 'failure', 'fals',\n",
       "       'false', 'falsely', 'falsification', 'falsify', 'fear', 'fel',\n",
       "       'felony', 'fenced', 'fight', 'fighting', 'file', 'film',\n",
       "       'financial', 'fire', 'firearm', 'firearms', 'fireworks', 'first',\n",
       "       'fleeing', 'flight', 'follow', 'foodstamps', 'for', 'force',\n",
       "       'forcible', 'forg', 'forge', 'forged', 'forgery', 'fr', 'fraud',\n",
       "       'free', 'from', 'fugitive', 'func', 'funct', 'funds', 'furnish',\n",
       "       'furnishes', 'furnishing', 'gain', 'gambling', 'game', 'gen',\n",
       "       'gest', 'giving', 'govt', 'grading', 'greater', 'grounds',\n",
       "       'guardian', 'guns', 'harassment', 'harbor', 'having', 'hazardous',\n",
       "       'high', 'higher', 'highest', 'highway', 'highways', 'hinder',\n",
       "       'hold', 'home', 'homi', 'homicide', 'hostage', 'hours', 'house',\n",
       "       'hrs', 'id', 'identification', 'identity', 'idsi', 'ig',\n",
       "       'ignition', 'ignore', 'ill', 'illegal', 'illegally', 'image',\n",
       "       'imm', 'immed', 'immovable', 'imp', 'impaired', 'impersonating',\n",
       "       'impreson', 'impression', 'imprisonment', 'improper',\n",
       "       'improvement', 'in', 'inc', 'incapacitation', 'incest', 'incomp',\n",
       "       'incompetent', 'inconvenient', 'incriminate', 'ind', 'indec',\n",
       "       'indecent', 'indifference', 'individuals', 'induce', 'ineligible',\n",
       "       'inf', 'infl', 'inflict', 'influence', 'info', 'informant',\n",
       "       'information', 'infrastructure', 'inhabited', 'inhale', 'inj',\n",
       "       'injure', 'injury', 'inmate', 'ins', 'inspection', 'inst',\n",
       "       'institut', 'institution', 'institutional', 'instrument',\n",
       "       'insuance', 'insurance', 'int', 'intent', 'intentional',\n",
       "       'intentionally', 'intercourse', 'interference', 'interlock',\n",
       "       'intim', 'intimate', 'intimidate', 'intimidation', 'into',\n",
       "       'introduce', 'invasion', 'inventory', 'investigation', 'invol',\n",
       "       'involuntary', 'involv', 'involving', 'is', 'ism', 'issd', 'jail',\n",
       "       'judicial', 'jurors', 'jury', 'key', 'kidnap', 'kidnapping',\n",
       "       'kill', 'killed', 'knowing', 'knowingly', 'land', 'lane', 'lang',\n",
       "       'language', 'law', 'lawful', 'leased', 'leave', 'legitimate',\n",
       "       'lending', 'less', 'lev', 'lewd', 'lewdness', 'lgl', 'liable',\n",
       "       'lic', 'license', 'licensed', 'lights', 'liquor', 'live', 'loans',\n",
       "       'loiter', 'loitering', 'loss', 'lost', 'lottery', 'lure',\n",
       "       'machine', 'maim', 'make', 'makes', 'malt', 'manner', 'mans',\n",
       "       'manslaughter', 'manu', 'manuf', 'manufacture', 'manufacturer',\n",
       "       'manufactures', 'marijuana', 'mark', 'mass', 'mast', 'materially',\n",
       "       'materials', 'may', 'mdse', 'med', 'mental', 'metabolite', 'mfr',\n",
       "       'mftr', 'minor', 'minors', 'misch', 'mischief', 'misconduct',\n",
       "       'misleading', 'misre', 'missile', 'mistake', 'money', 'monument',\n",
       "       'motor', 'mouth', 'movable', 'move', 'murder', 'must', 'mutual',\n",
       "       'name', 'nc', 'neck', 'neglect', 'neglig', 'negligent', 'night',\n",
       "       'no', 'noise', 'non', 'noncont', 'nose', 'not', 'notary', 'nox',\n",
       "       'nuisance', 'number', 'numbers', 'obedience', 'objects',\n",
       "       'obliterate', 'obscene', 'obstruct', 'obstructing', 'obstruction',\n",
       "       'obt', 'obtain', 'obtained', 'occ', 'occupational', 'occupied',\n",
       "       'occur', 'occurring', 'of', 'off', 'offender', 'offenders',\n",
       "       'offens', 'offense', 'offenses', 'offers', 'offic', 'office',\n",
       "       'officer', 'officers', 'official', 'old', 'older', 'on', 'open',\n",
       "       'oper', 'operate', 'operating', 'operation', 'oppression', 'or',\n",
       "       'oral', 'order', 'organizations', 'organized', 'other', 'out',\n",
       "       'overnight', 'own', 'owners', 'ownership', 'owning', 'para',\n",
       "       'paraph', 'parent', 'part', 'patron', 'patronizing', 'pay',\n",
       "       'pecun', 'pecuniary', 'penalties', 'penalty', 'penetration', 'per',\n",
       "       'perform', 'perjury', 'permit', 'permitting', 'pers', 'persnal',\n",
       "       'person', 'personal', 'persons', 'phila', 'photo', 'photograph',\n",
       "       'photographed', 'phys', 'physi', 'physical', 'physically', 'place',\n",
       "       'places', 'plate', 'pm', 'police', 'pool', 'pornography', 'poss',\n",
       "       'posses', 'possess', 'possession', 'posted', 'pract', 'premises',\n",
       "       'present', 'pressure', 'pretends', 'prev', 'prevent', 'prform',\n",
       "       'prisoner', 'priv', 'privacy', 'privately', 'pro', 'proc',\n",
       "       'proceed', 'procure', 'professional', 'prohibited', 'prom',\n",
       "       'promote', 'prop', 'propel', 'properly', 'propert', 'property',\n",
       "       'pros', 'prosec', 'prosecutor', 'prost', 'prostitute',\n",
       "       'prostitutes', 'prostitution', 'protective', 'prov', 'provide',\n",
       "       'providing', 'provocation', 'prowling', 'psp', 'public', 'punish',\n",
       "       'purc', 'purch', 'purchase', 'purchases', 'purp', 'purpose',\n",
       "       'purs', 'qualification', 'ransom', 'rape', 'rarity', 'rate',\n",
       "       'rear', 'rec', 'receiving', 'recipient', 'reckless', 'recklessly',\n",
       "       'record', 'recorded', 'recording', 'records', 'recruit', 'reduce',\n",
       "       'refrain', 'refuse', 'reg', 'regist', 'register', 'registration',\n",
       "       'releasing', 'relinquish', 'remit', 'remove', 'rend', 'rent',\n",
       "       'repairs', 'repeatedly', 'report', 'reported', 'reports', 'repres',\n",
       "       'req', 'required', 'requirements', 'res', 'resist', 'restrain',\n",
       "       'restraint', 'restricted', 'restrictions', 'resulting', 'ret',\n",
       "       'retail', 'retaliation', 'retention', 'return', 'rev',\n",
       "       'revocation', 'revoked', 'riot', 'risk', 'risking', 'robbery',\n",
       "       'rr', 'rte', 'rubbish', 'safely', 'safety', 'sale', 'sales', 'sbi',\n",
       "       'scatter', 'schedule', 'school', 'search', 'sec', 'second',\n",
       "       'secure', 'self', 'sell', 'selling', 'sells', 'ser', 'serious',\n",
       "       'serv', 'servant', 'service', 'services', 'servitude', 'set',\n",
       "       'sex', 'sexual', 'sheriff', 'shop', 'sidewalk', 'signed',\n",
       "       'similar', 'simple', 'simulating', 'single', 'small', 'smell',\n",
       "       'solicit', 'solicitation', 'solvent', 'sounds', 'spitting',\n",
       "       'stalking', 'statement', 'statutory', 'stmt', 'stmts', 'stolen',\n",
       "       'strangulation', 'stream', 'street', 'structure', 'student',\n",
       "       'stun', 'sub', 'subject', 'submit', 'subs', 'subsequent', 'subst',\n",
       "       'substan', 'substance', 'substances', 'substantially', 'substby',\n",
       "       'sus', 'susp', 'swearing', 'tag', 'take', 'taking', 'tamper',\n",
       "       'tampering', 'taunt', 'tax', 'telecom', 'telecommunication',\n",
       "       'terror', 'terroristic', 'terrorize', 'testimony', 'tethering',\n",
       "       'than', 'that', 'the', 'theater', 'theft', 'third', 'threat',\n",
       "       'threatening', 'threats', 'throat', 'tickets', 'time', 'title',\n",
       "       'to', 'toxic', 'trademark', 'traffic', 'trafficking', 'trans',\n",
       "       'transfer', 'transferee', 'transfers', 'transient',\n",
       "       'transportation', 'transports', 'trash', 'tres', 'trespass',\n",
       "       'trespasser', 'trial', 'trick', 'udder', 'unattended', 'unauth',\n",
       "       'unauthorized', 'unaware', 'unborn', 'unconscious', 'und', 'under',\n",
       "       'uniformed', 'uninhabited', 'unl', 'unlaw', 'unlawful', 'unlic',\n",
       "       'unoccupied', 'unreasonable', 'unregist', 'unstamped', 'unsworn',\n",
       "       'up', 'upon', 'urination', 'urine', 'use', 'used', 'uses',\n",
       "       'utters', 'value', 'vand', 'vandalism', 'veh', 'vehicle',\n",
       "       'vehicles', 'verify', 'vic', 'vict', 'victim', 'view', 'vin',\n",
       "       'viol', 'violation', 'violence', 'vit', 'voluntary', 'voting',\n",
       "       'warn', 'watercraft', 'weap', 'weapon', 'weapons', 'welfare',\n",
       "       'whereabouts', 'while', 'who', 'willfully', 'win', 'wit', 'with',\n",
       "       'withhold', 'without', 'witness', 'workmans', 'writing', 'written',\n",
       "       'wrk', 'years', 'yrs'], dtype=object)"
      ]
     },
     "execution_count": 76,
     "metadata": {},
     "output_type": "execute_result"
    }
   ],
   "source": [
    "cv.get_feature_names_out()"
   ]
  },
  {
   "cell_type": "code",
   "execution_count": null,
   "metadata": {},
   "outputs": [],
   "source": []
  }
 ],
 "metadata": {
  "kernelspec": {
   "display_name": "Python 3.10.7 64-bit",
   "language": "python",
   "name": "python3"
  },
  "language_info": {
   "codemirror_mode": {
    "name": "ipython",
    "version": 3
   },
   "file_extension": ".py",
   "mimetype": "text/x-python",
   "name": "python",
   "nbconvert_exporter": "python",
   "pygments_lexer": "ipython3",
   "version": "3.10.7"
  },
  "orig_nbformat": 4,
  "vscode": {
   "interpreter": {
    "hash": "b0fa6594d8f4cbf19f97940f81e996739fb7646882a419484c72d19e05852a7e"
   }
  }
 },
 "nbformat": 4,
 "nbformat_minor": 2
}
