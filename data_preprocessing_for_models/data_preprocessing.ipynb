{
 "cells": [
  {
   "cell_type": "code",
   "execution_count": 2,
   "metadata": {},
   "outputs": [],
   "source": [
    "import pandas as pd\n",
    "import numpy as np\n",
    "import matplotlib.pyplot as plt \n",
    "import seaborn as sns\n",
    "import warnings\n",
    "warnings.filterwarnings('ignore')\n",
    "%matplotlib inline"
   ]
  },
  {
   "cell_type": "code",
   "execution_count": 3,
   "metadata": {},
   "outputs": [],
   "source": [
    "df = pd.read_csv('/Users/rishabhsharma/Documents/GitHub/CS-613-Project/data/df_complete.csv')"
   ]
  },
  {
   "cell_type": "code",
   "execution_count": 6,
   "metadata": {},
   "outputs": [
    {
     "data": {
      "text/plain": [
       "(185405, 31)"
      ]
     },
     "execution_count": 6,
     "metadata": {},
     "output_type": "execute_result"
    }
   ],
   "source": [
    "df.shape"
   ]
  },
  {
   "cell_type": "markdown",
   "metadata": {},
   "source": []
  },
  {
   "cell_type": "code",
   "execution_count": 5,
   "metadata": {},
   "outputs": [
    {
     "data": {
      "text/plain": [
       "Probation             110355\n",
       "Confinement            46705\n",
       "No Further Penalty     17693\n",
       "Merged                  8196\n",
       "IPP                     2456\n",
       "Name: sentence_type, dtype: int64"
      ]
     },
     "execution_count": 5,
     "metadata": {},
     "output_type": "execute_result"
    }
   ],
   "source": [
    "df['sentence_type'].value_counts()"
   ]
  },
  {
   "cell_type": "code",
   "execution_count": 8,
   "metadata": {},
   "outputs": [],
   "source": [
    "df.drop(['docket_id', 'defendant_id', 'sequence_number', 'Unnamed: 0'], axis = 1, inplace = True)"
   ]
  },
  {
   "cell_type": "code",
   "execution_count": 11,
   "metadata": {},
   "outputs": [
    {
     "data": {
      "text/plain": [
       "Index(['gender_x', 'race_x', 'date_of_birth_x', 'arrest_date_x',\n",
       "       'filing_date_x', 'initiation_date_x', 'status_name_x',\n",
       "       'court_office__court__display_name_x',\n",
       "       'current_processing_status__status_change_datetime',\n",
       "       'judicial_districts', 'court_office_types', 'court_types',\n",
       "       'representation_type', 'description', 'statute_description',\n",
       "       'disposing_authority__title', 'sentence_type', 'gender_y', 'race_y',\n",
       "       'date_of_birth_y', 'arrest_date_y', 'disposition_date', 'filing_date_y',\n",
       "       'initiation_date_y', 'status_name_y',\n",
       "       'court_office__court__display_name_y', 'disposing_authority'],\n",
       "      dtype='object')"
      ]
     },
     "execution_count": 11,
     "metadata": {},
     "output_type": "execute_result"
    }
   ],
   "source": [
    "df.columns"
   ]
  },
  {
   "cell_type": "code",
   "execution_count": 12,
   "metadata": {},
   "outputs": [],
   "source": [
    "df.drop(['gender_y', 'race_y',\n",
    "       'date_of_birth_y', 'arrest_date_y', 'disposition_date', 'filing_date_y',\n",
    "       'initiation_date_y', 'status_name_y',\n",
    "       'court_office__court__display_name_y'], axis = 1, inplace = True)"
   ]
  },
  {
   "cell_type": "code",
   "execution_count": 38,
   "metadata": {},
   "outputs": [
    {
     "data": {
      "text/plain": [
       "Index(['gender_x', 'race_x', 'date_of_birth_x', 'arrest_date_x',\n",
       "       'filing_date_x', 'initiation_date_x', 'status_name_x',\n",
       "       'court_office__court__display_name_x',\n",
       "       'current_processing_status__status_change_datetime',\n",
       "       'judicial_districts', 'court_office_types', 'court_types',\n",
       "       'representation_type', 'description', 'statute_description',\n",
       "       'disposing_authority__title', 'sentence_type', 'disposing_authority'],\n",
       "      dtype='object')"
      ]
     },
     "execution_count": 38,
     "metadata": {},
     "output_type": "execute_result"
    }
   ],
   "source": [
    "df.columns"
   ]
  },
  {
   "cell_type": "code",
   "execution_count": 49,
   "metadata": {},
   "outputs": [
    {
     "data": {
      "text/plain": [
       "Philadelphia    182521\n",
       "Name: judicial_districts, dtype: int64"
      ]
     },
     "execution_count": 49,
     "metadata": {},
     "output_type": "execute_result"
    }
   ],
   "source": [
    "df['judicial_districts'].value_counts()"
   ]
  },
  {
   "cell_type": "code",
   "execution_count": 35,
   "metadata": {},
   "outputs": [],
   "source": [
    "## 'ifjudicial_districts' is not philadelphia, then drop the row\n",
    "df = df[df['judicial_districts'] == 'Philadelphia']"
   ]
  },
  {
   "cell_type": "code",
   "execution_count": 40,
   "metadata": {},
   "outputs": [],
   "source": [
    "df.drop(['court_office_types'], axis = 1, inplace = True)"
   ]
  },
  {
   "cell_type": "code",
   "execution_count": 44,
   "metadata": {},
   "outputs": [],
   "source": [
    "df.drop(['representation_type'], axis = 1, inplace = True)"
   ]
  },
  {
   "cell_type": "code",
   "execution_count": 20,
   "metadata": {},
   "outputs": [
    {
     "data": {
      "text/plain": [
       "<seaborn.axisgrid.FacetGrid at 0x17e39fd60>"
      ]
     },
     "execution_count": 20,
     "metadata": {},
     "output_type": "execute_result"
    },
    {
     "data": {
      "image/png": "[encoded data removed]",
      "text/plain": [
       "<Figure size 500x500 with 1 Axes>"
      ]
     },
     "metadata": {},
     "output_type": "display_data"
    }
   ],
   "source": [
    "## plotting the genders in the dataset\n",
    "sns.displot(data=df, x=\"gender_x\")\n"
   ]
  },
  {
   "cell_type": "code",
   "execution_count": 28,
   "metadata": {},
   "outputs": [
    {
     "data": {
      "text/plain": [
       "Black                             110791\n",
       "White                              69154\n",
       "Asian/Pacific Islander              2697\n",
       "Unknown/Unreported                  2556\n",
       "Native American/Alaskan Native       112\n",
       "Asian                                 49\n",
       "Bi-Racial                             46\n",
       "Name: race_x, dtype: int64"
      ]
     },
     "execution_count": 28,
     "metadata": {},
     "output_type": "execute_result"
    }
   ],
   "source": [
    "df['race_x'].value_counts()"
   ]
  },
  {
   "cell_type": "code",
   "execution_count": 29,
   "metadata": {},
   "outputs": [],
   "source": [
    "## lable encoding the categorical variables\n",
    "\n",
    "from sklearn.preprocessing import LabelEncoder\n",
    "le = LabelEncoder()"
   ]
  },
  {
   "cell_type": "code",
   "execution_count": 46,
   "metadata": {},
   "outputs": [],
   "source": [
    "df['race_x']= le.fit_transform(df['race_x'])\n",
    "df['gender_x'] = le.fit_transform(df['gender_x'])\n",
    "df['status_name_x'] = le.fit_transform(df['status_name_x'])\n",
    "df['court_office__court__display_name_x'] = le.fit_transform(df['court_office__court__display_name_x'])\n",
    "df['court_types'] = le.fit_transform(df['court_types'])"
   ]
  },
  {
   "cell_type": "code",
   "execution_count": 50,
   "metadata": {},
   "outputs": [],
   "source": [
    "df['sentence_type'] = le.fit_transform(df['sentence_type'])\n",
    "df.drop(['judicial_districts'], axis = 1, inplace = True)"
   ]
  },
  {
   "cell_type": "code",
   "execution_count": 53,
   "metadata": {},
   "outputs": [
    {
     "data": {
      "text/html": [
       "<div>\n",
       "<style scoped>\n",
       "    .dataframe tbody tr th:only-of-type {\n",
       "        vertical-align: middle;\n",
       "    }\n",
       "\n",
       "    .dataframe tbody tr th {\n",
       "        vertical-align: top;\n",
       "    }\n",
       "\n",
       "    .dataframe thead th {\n",
       "        text-align: right;\n",
       "    }\n",
       "</style>\n",
       "<table border=\"1\" class=\"dataframe\">\n",
       "  <thead>\n",
       "    <tr style=\"text-align: right;\">\n",
       "      <th></th>\n",
       "      <th>gender_x</th>\n",
       "      <th>race_x</th>\n",
       "      <th>date_of_birth_x</th>\n",
       "      <th>arrest_date_x</th>\n",
       "      <th>filing_date_x</th>\n",
       "      <th>initiation_date_x</th>\n",
       "      <th>status_name_x</th>\n",
       "      <th>court_office__court__display_name_x</th>\n",
       "      <th>current_processing_status__status_change_datetime</th>\n",
       "      <th>court_types</th>\n",
       "      <th>description</th>\n",
       "      <th>statute_description</th>\n",
       "      <th>disposing_authority__title</th>\n",
       "      <th>sentence_type</th>\n",
       "      <th>disposing_authority</th>\n",
       "    </tr>\n",
       "  </thead>\n",
       "  <tbody>\n",
       "    <tr>\n",
       "      <th>1</th>\n",
       "      <td>0</td>\n",
       "      <td>3</td>\n",
       "      <td>1970-01-01</td>\n",
       "      <td>2010-03-01</td>\n",
       "      <td>2010-03-01</td>\n",
       "      <td>2010-03-01</td>\n",
       "      <td>3</td>\n",
       "      <td>0</td>\n",
       "      <td>0001-01-01</td>\n",
       "      <td>3</td>\n",
       "      <td>DUI: Gen Imp/Inc of Driving Safely - 1st Off</td>\n",
       "      <td>DUI: Gen Imp/Inc of Driving Safely - 1st Off</td>\n",
       "      <td>Judge</td>\n",
       "      <td>2</td>\n",
       "      <td>Thomas F. Gehret</td>\n",
       "    </tr>\n",
       "    <tr>\n",
       "      <th>3</th>\n",
       "      <td>1</td>\n",
       "      <td>3</td>\n",
       "      <td>1953-01-01</td>\n",
       "      <td>2010-05-01</td>\n",
       "      <td>2010-10-01</td>\n",
       "      <td>2010-10-01</td>\n",
       "      <td>3</td>\n",
       "      <td>1</td>\n",
       "      <td>0001-01-01</td>\n",
       "      <td>4</td>\n",
       "      <td>Manufacture, Delivery, or Possession With Inte...</td>\n",
       "      <td>Manufacture, Delivery, or Possession With Inte...</td>\n",
       "      <td>Judge</td>\n",
       "      <td>0</td>\n",
       "      <td>Daniel J. Anders</td>\n",
       "    </tr>\n",
       "    <tr>\n",
       "      <th>4</th>\n",
       "      <td>1</td>\n",
       "      <td>5</td>\n",
       "      <td>1950-01-01</td>\n",
       "      <td>2010-05-01</td>\n",
       "      <td>2010-06-01</td>\n",
       "      <td>2010-06-01</td>\n",
       "      <td>3</td>\n",
       "      <td>1</td>\n",
       "      <td>0001-01-01</td>\n",
       "      <td>4</td>\n",
       "      <td>Retail Theft-Take Mdse</td>\n",
       "      <td>Retail Theft-Take Mdse</td>\n",
       "      <td>Judge</td>\n",
       "      <td>4</td>\n",
       "      <td>Rayford A. Means</td>\n",
       "    </tr>\n",
       "    <tr>\n",
       "      <th>7</th>\n",
       "      <td>1</td>\n",
       "      <td>1</td>\n",
       "      <td>1972-01-01</td>\n",
       "      <td>2011-01-01</td>\n",
       "      <td>2011-01-01</td>\n",
       "      <td>2011-01-01</td>\n",
       "      <td>3</td>\n",
       "      <td>0</td>\n",
       "      <td>0001-01-01</td>\n",
       "      <td>3</td>\n",
       "      <td>DUI: Controlled Substance or Metabolite 1st Of...</td>\n",
       "      <td>DUI: Controlled Substance or Metabolite 1st Of...</td>\n",
       "      <td>Judge</td>\n",
       "      <td>2</td>\n",
       "      <td>Joseph J. O'Neill</td>\n",
       "    </tr>\n",
       "    <tr>\n",
       "      <th>8</th>\n",
       "      <td>1</td>\n",
       "      <td>6</td>\n",
       "      <td>1968-01-01</td>\n",
       "      <td>2011-04-01</td>\n",
       "      <td>2011-04-01</td>\n",
       "      <td>2011-04-01</td>\n",
       "      <td>3</td>\n",
       "      <td>1</td>\n",
       "      <td>0001-01-01</td>\n",
       "      <td>4</td>\n",
       "      <td>Manufacture, Delivery, or Possession With Inte...</td>\n",
       "      <td>Manufacture, Delivery, or Possession With Inte...</td>\n",
       "      <td>Judge</td>\n",
       "      <td>0</td>\n",
       "      <td>Adam nan Beloff</td>\n",
       "    </tr>\n",
       "  </tbody>\n",
       "</table>\n",
       "</div>"
      ],
      "text/plain": [
       "   gender_x  race_x date_of_birth_x arrest_date_x filing_date_x  \\\n",
       "1         0       3      1970-01-01    2010-03-01    2010-03-01   \n",
       "3         1       3      1953-01-01    2010-05-01    2010-10-01   \n",
       "4         1       5      1950-01-01    2010-05-01    2010-06-01   \n",
       "7         1       1      1972-01-01    2011-01-01    2011-01-01   \n",
       "8         1       6      1968-01-01    2011-04-01    2011-04-01   \n",
       "\n",
       "  initiation_date_x  status_name_x  court_office__court__display_name_x  \\\n",
       "1        2010-03-01              3                                    0   \n",
       "3        2010-10-01              3                                    1   \n",
       "4        2010-06-01              3                                    1   \n",
       "7        2011-01-01              3                                    0   \n",
       "8        2011-04-01              3                                    1   \n",
       "\n",
       "  current_processing_status__status_change_datetime  court_types  \\\n",
       "1                                        0001-01-01            3   \n",
       "3                                        0001-01-01            4   \n",
       "4                                        0001-01-01            4   \n",
       "7                                        0001-01-01            3   \n",
       "8                                        0001-01-01            4   \n",
       "\n",
       "                                         description  \\\n",
       "1       DUI: Gen Imp/Inc of Driving Safely - 1st Off   \n",
       "3  Manufacture, Delivery, or Possession With Inte...   \n",
       "4                             Retail Theft-Take Mdse   \n",
       "7  DUI: Controlled Substance or Metabolite 1st Of...   \n",
       "8  Manufacture, Delivery, or Possession With Inte...   \n",
       "\n",
       "                                 statute_description  \\\n",
       "1       DUI: Gen Imp/Inc of Driving Safely - 1st Off   \n",
       "3  Manufacture, Delivery, or Possession With Inte...   \n",
       "4                             Retail Theft-Take Mdse   \n",
       "7  DUI: Controlled Substance or Metabolite 1st Of...   \n",
       "8  Manufacture, Delivery, or Possession With Inte...   \n",
       "\n",
       "  disposing_authority__title  sentence_type disposing_authority  \n",
       "1                      Judge              2    Thomas F. Gehret  \n",
       "3                      Judge              0    Daniel J. Anders  \n",
       "4                      Judge              4    Rayford A. Means  \n",
       "7                      Judge              2   Joseph J. O'Neill  \n",
       "8                      Judge              0     Adam nan Beloff  "
      ]
     },
     "execution_count": 53,
     "metadata": {},
     "output_type": "execute_result"
    }
   ],
   "source": [
    "df.head()"
   ]
  },
  {
   "cell_type": "code",
   "execution_count": 69,
   "metadata": {},
   "outputs": [
    {
     "data": {
      "text/plain": [
       "'Manufacture, Delivery, or Possession With Intent to Manufacture or Deliver'"
      ]
     },
     "execution_count": 69,
     "metadata": {},
     "output_type": "execute_result"
    }
   ],
   "source": [
    "df['statute_description'][8]"
   ]
  },
  {
   "cell_type": "code",
   "execution_count": 70,
   "metadata": {},
   "outputs": [
    {
     "data": {
      "text/plain": [
       "'Manufacture, Delivery, or Possession With Intent to Manufacture or Deliver'"
      ]
     },
     "execution_count": 70,
     "metadata": {},
     "output_type": "execute_result"
    }
   ],
   "source": [
    "df['description'][8]"
   ]
  },
  {
   "cell_type": "code",
   "execution_count": 71,
   "metadata": {},
   "outputs": [],
   "source": [
    "df.drop(['statute_description'], axis = 1, inplace = True)"
   ]
  },
  {
   "cell_type": "code",
   "execution_count": 72,
   "metadata": {},
   "outputs": [
    {
     "data": {
      "text/html": [
       "<div>\n",
       "<style scoped>\n",
       "    .dataframe tbody tr th:only-of-type {\n",
       "        vertical-align: middle;\n",
       "    }\n",
       "\n",
       "    .dataframe tbody tr th {\n",
       "        vertical-align: top;\n",
       "    }\n",
       "\n",
       "    .dataframe thead th {\n",
       "        text-align: right;\n",
       "    }\n",
       "</style>\n",
       "<table border=\"1\" class=\"dataframe\">\n",
       "  <thead>\n",
       "    <tr style=\"text-align: right;\">\n",
       "      <th></th>\n",
       "      <th>gender_x</th>\n",
       "      <th>race_x</th>\n",
       "      <th>date_of_birth_x</th>\n",
       "      <th>arrest_date_x</th>\n",
       "      <th>filing_date_x</th>\n",
       "      <th>initiation_date_x</th>\n",
       "      <th>status_name_x</th>\n",
       "      <th>court_office__court__display_name_x</th>\n",
       "      <th>current_processing_status__status_change_datetime</th>\n",
       "      <th>court_types</th>\n",
       "      <th>description</th>\n",
       "      <th>disposing_authority__title</th>\n",
       "      <th>sentence_type</th>\n",
       "      <th>disposing_authority</th>\n",
       "    </tr>\n",
       "  </thead>\n",
       "  <tbody>\n",
       "    <tr>\n",
       "      <th>1</th>\n",
       "      <td>0</td>\n",
       "      <td>3</td>\n",
       "      <td>1970-01-01</td>\n",
       "      <td>2010-03-01</td>\n",
       "      <td>2010-03-01</td>\n",
       "      <td>2010-03-01</td>\n",
       "      <td>3</td>\n",
       "      <td>0</td>\n",
       "      <td>0001-01-01</td>\n",
       "      <td>3</td>\n",
       "      <td>DUI: Gen Imp/Inc of Driving Safely - 1st Off</td>\n",
       "      <td>Judge</td>\n",
       "      <td>2</td>\n",
       "      <td>Thomas F. Gehret</td>\n",
       "    </tr>\n",
       "    <tr>\n",
       "      <th>3</th>\n",
       "      <td>1</td>\n",
       "      <td>3</td>\n",
       "      <td>1953-01-01</td>\n",
       "      <td>2010-05-01</td>\n",
       "      <td>2010-10-01</td>\n",
       "      <td>2010-10-01</td>\n",
       "      <td>3</td>\n",
       "      <td>1</td>\n",
       "      <td>0001-01-01</td>\n",
       "      <td>4</td>\n",
       "      <td>Manufacture, Delivery, or Possession With Inte...</td>\n",
       "      <td>Judge</td>\n",
       "      <td>0</td>\n",
       "      <td>Daniel J. Anders</td>\n",
       "    </tr>\n",
       "    <tr>\n",
       "      <th>4</th>\n",
       "      <td>1</td>\n",
       "      <td>5</td>\n",
       "      <td>1950-01-01</td>\n",
       "      <td>2010-05-01</td>\n",
       "      <td>2010-06-01</td>\n",
       "      <td>2010-06-01</td>\n",
       "      <td>3</td>\n",
       "      <td>1</td>\n",
       "      <td>0001-01-01</td>\n",
       "      <td>4</td>\n",
       "      <td>Retail Theft-Take Mdse</td>\n",
       "      <td>Judge</td>\n",
       "      <td>4</td>\n",
       "      <td>Rayford A. Means</td>\n",
       "    </tr>\n",
       "    <tr>\n",
       "      <th>7</th>\n",
       "      <td>1</td>\n",
       "      <td>1</td>\n",
       "      <td>1972-01-01</td>\n",
       "      <td>2011-01-01</td>\n",
       "      <td>2011-01-01</td>\n",
       "      <td>2011-01-01</td>\n",
       "      <td>3</td>\n",
       "      <td>0</td>\n",
       "      <td>0001-01-01</td>\n",
       "      <td>3</td>\n",
       "      <td>DUI: Controlled Substance or Metabolite 1st Of...</td>\n",
       "      <td>Judge</td>\n",
       "      <td>2</td>\n",
       "      <td>Joseph J. O'Neill</td>\n",
       "    </tr>\n",
       "    <tr>\n",
       "      <th>8</th>\n",
       "      <td>1</td>\n",
       "      <td>6</td>\n",
       "      <td>1968-01-01</td>\n",
       "      <td>2011-04-01</td>\n",
       "      <td>2011-04-01</td>\n",
       "      <td>2011-04-01</td>\n",
       "      <td>3</td>\n",
       "      <td>1</td>\n",
       "      <td>0001-01-01</td>\n",
       "      <td>4</td>\n",
       "      <td>Manufacture, Delivery, or Possession With Inte...</td>\n",
       "      <td>Judge</td>\n",
       "      <td>0</td>\n",
       "      <td>Adam nan Beloff</td>\n",
       "    </tr>\n",
       "  </tbody>\n",
       "</table>\n",
       "</div>"
      ],
      "text/plain": [
       "   gender_x  race_x date_of_birth_x arrest_date_x filing_date_x  \\\n",
       "1         0       3      1970-01-01    2010-03-01    2010-03-01   \n",
       "3         1       3      1953-01-01    2010-05-01    2010-10-01   \n",
       "4         1       5      1950-01-01    2010-05-01    2010-06-01   \n",
       "7         1       1      1972-01-01    2011-01-01    2011-01-01   \n",
       "8         1       6      1968-01-01    2011-04-01    2011-04-01   \n",
       "\n",
       "  initiation_date_x  status_name_x  court_office__court__display_name_x  \\\n",
       "1        2010-03-01              3                                    0   \n",
       "3        2010-10-01              3                                    1   \n",
       "4        2010-06-01              3                                    1   \n",
       "7        2011-01-01              3                                    0   \n",
       "8        2011-04-01              3                                    1   \n",
       "\n",
       "  current_processing_status__status_change_datetime  court_types  \\\n",
       "1                                        0001-01-01            3   \n",
       "3                                        0001-01-01            4   \n",
       "4                                        0001-01-01            4   \n",
       "7                                        0001-01-01            3   \n",
       "8                                        0001-01-01            4   \n",
       "\n",
       "                                         description  \\\n",
       "1       DUI: Gen Imp/Inc of Driving Safely - 1st Off   \n",
       "3  Manufacture, Delivery, or Possession With Inte...   \n",
       "4                             Retail Theft-Take Mdse   \n",
       "7  DUI: Controlled Substance or Metabolite 1st Of...   \n",
       "8  Manufacture, Delivery, or Possession With Inte...   \n",
       "\n",
       "  disposing_authority__title  sentence_type disposing_authority  \n",
       "1                      Judge              2    Thomas F. Gehret  \n",
       "3                      Judge              0    Daniel J. Anders  \n",
       "4                      Judge              4    Rayford A. Means  \n",
       "7                      Judge              2   Joseph J. O'Neill  \n",
       "8                      Judge              0     Adam nan Beloff  "
      ]
     },
     "execution_count": 72,
     "metadata": {},
     "output_type": "execute_result"
    }
   ],
   "source": [
    "df.head()"
   ]
  },
  {
   "cell_type": "code",
   "execution_count": null,
   "metadata": {},
   "outputs": [],
   "source": []
  }
 ],
 "metadata": {
  "kernelspec": {
   "display_name": "Python 3.10.7 64-bit",
   "language": "python",
   "name": "python3"
  },
  "language_info": {
   "codemirror_mode": {
    "name": "ipython",
    "version": 3
   },
   "file_extension": ".py",
   "mimetype": "text/x-python",
   "name": "python",
   "nbconvert_exporter": "python",
   "pygments_lexer": "ipython3",
   "version": "3.10.7"
  },
  "orig_nbformat": 4,
  "vscode": {
   "interpreter": {
    "hash": "b0fa6594d8f4cbf19f97940f81e996739fb7646882a419484c72d19e05852a7e"
   }
  }
 },
 "nbformat": 4,
 "nbformat_minor": 2
}
