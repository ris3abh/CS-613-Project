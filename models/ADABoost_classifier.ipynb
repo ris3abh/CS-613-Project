{
   "cells": [
      {
         "cell_type": "code",
         "execution_count": 1,
         "metadata": {},
         "outputs": [],
         "source": [
            "import pandas as pd\n",
            "import numpy as np\n",
            "import matplotlib.pyplot as plt\n",
            "import seaborn as sns"
         ]
      },
      {
         "cell_type": "code",
         "execution_count": 2,
         "metadata": {},
         "outputs": [],
         "source": [
            "from sklearn.ensemble import AdaBoostClassifier\n",
            "from sklearn.metrics import accuracy_score\n",
            "from sklearn.metrics import confusion_matrix\n",
            "from sklearn.metrics import classification_report\n",
            "import pickle\n",
            "from sklearn.metrics import make_scorer, accuracy_score, precision_score, recall_score, f1_score\n",
            "from sklearn import model_selection"
         ]
      },
      {
         "cell_type": "code",
         "execution_count": 3,
         "metadata": {},
         "outputs": [],
         "source": [
            "X_train = np.load('../data/X_train.npy', allow_pickle = True)\n",
            "X_test = np.load('../data/X_test.npy', allow_pickle = True)\n",
            "y_train = np.load('../data/y_train_nohe.npy', allow_pickle = True)\n",
            "y_test = np.load('../data/y_test_nohe.npy', allow_pickle = True)"
         ]
      },
      {
         "cell_type": "code",
         "execution_count": 4,
         "metadata": {},
         "outputs": [
            {
               "name": "stdout",
               "output_type": "stream",
               "text": [
                  "shape of X_train:  (122289, 1044)\n",
                  "shape of X_test:  (60232, 1044)\n",
                  "shape of Y_train:  (122289,)\n",
                  "shape of Y_test:  (60232,)\n"
               ]
            }
         ],
         "source": [
            "print(\"shape of X_train: \", X_train.shape)\n",
            "print(\"shape of X_test: \", X_test.shape)\n",
            "print(\"shape of Y_train: \", y_train.shape)\n",
            "print(\"shape of Y_test: \", y_test.shape)"
         ]
      },
      {
         "cell_type": "code",
         "execution_count": 5,
         "metadata": {},
         "outputs": [],
         "source": [
            "from imblearn.over_sampling import SMOTE\n",
            "\n",
            "sm = SMOTE(random_state=42)\n",
            "X_train, y_train = sm.fit_resample(X_train, y_train)\n",
            "X_test, y_test = sm.fit_resample(X_test, y_test)"
         ]
      },
      {
         "cell_type": "code",
         "execution_count": 6,
         "metadata": {},
         "outputs": [],
         "source": [
            "from sklearn.tree import DecisionTreeClassifier"
         ]
      },
      {
         "cell_type": "code",
         "execution_count": 7,
         "metadata": {},
         "outputs": [],
         "source": [
            "X_trainhpt = X_train[10000:]\n",
            "y_trainhpt = y_train[10000:]"
         ]
      },
      {
         "cell_type": "code",
         "execution_count": 15,
         "metadata": {},
         "outputs": [],
         "source": [
            "## Hyperparameter tuning for adaboost\n",
            "\n",
            "algorithm = ['SAMME', 'SAMME.R']\n",
            "base_estimator = [DecisionTreeClassifier(max_depth=1)]\n",
            "learning_rate = [0.1, 0.5, 1.0, 1.5, 2.0]\n",
            "n_estimators = [50, 100, 150, 200, 250]\n",
            "random_state = [42]"
         ]
      },
      {
         "cell_type": "code",
         "execution_count": 16,
         "metadata": {},
         "outputs": [],
         "source": [
            "random_grid = {'algorithm': algorithm,\n",
            "               'base_estimator': base_estimator,\n",
            "               'learning_rate': learning_rate,\n",
            "               'n_estimators': n_estimators,\n",
            "               'random_state': random_state}\n",
            "\n",
            "from sklearn.model_selection import RandomizedSearchCV\n",
            "\n",
            "rf = AdaBoostClassifier()\n",
            "\n",
            "rf_random = RandomizedSearchCV(estimator = rf, param_distributions = random_grid, n_iter = 20, cv = 3, verbose=2, random_state=42, n_jobs = -1)"
         ]
      },
      {
         "cell_type": "code",
         "execution_count": 17,
         "metadata": {},
         "outputs": [
            {
               "name": "stdout",
               "output_type": "stream",
               "text": [
                  "Fitting 3 folds for each of 20 candidates, totalling 60 fits\n"
               ]
            },
            {
               "ename": "KeyboardInterrupt",
               "evalue": "",
               "output_type": "error",
               "traceback": [
                  "\u001b[0;31m---------------------------------------------------------------------------\u001b[0m",
                  "\u001b[0;31mKeyboardInterrupt\u001b[0m                         Traceback (most recent call last)",
                  "Cell \u001b[0;32mIn [17], line 1\u001b[0m\n\u001b[0;32m----> 1\u001b[0m rf_random\u001b[39m.\u001b[39;49mfit(X_trainhpt, y_trainhpt)\n",
                  "File \u001b[0;32m/opt/homebrew/lib/python3.10/site-packages/sklearn/model_selection/_search.py:875\u001b[0m, in \u001b[0;36mBaseSearchCV.fit\u001b[0;34m(self, X, y, groups, **fit_params)\u001b[0m\n\u001b[1;32m    869\u001b[0m     results \u001b[39m=\u001b[39m \u001b[39mself\u001b[39m\u001b[39m.\u001b[39m_format_results(\n\u001b[1;32m    870\u001b[0m         all_candidate_params, n_splits, all_out, all_more_results\n\u001b[1;32m    871\u001b[0m     )\n\u001b[1;32m    873\u001b[0m     \u001b[39mreturn\u001b[39;00m results\n\u001b[0;32m--> 875\u001b[0m \u001b[39mself\u001b[39;49m\u001b[39m.\u001b[39;49m_run_search(evaluate_candidates)\n\u001b[1;32m    877\u001b[0m \u001b[39m# multimetric is determined here because in the case of a callable\u001b[39;00m\n\u001b[1;32m    878\u001b[0m \u001b[39m# self.scoring the return type is only known after calling\u001b[39;00m\n\u001b[1;32m    879\u001b[0m first_test_score \u001b[39m=\u001b[39m all_out[\u001b[39m0\u001b[39m][\u001b[39m\"\u001b[39m\u001b[39mtest_scores\u001b[39m\u001b[39m\"\u001b[39m]\n",
                  "File \u001b[0;32m/opt/homebrew/lib/python3.10/site-packages/sklearn/model_selection/_search.py:1753\u001b[0m, in \u001b[0;36mRandomizedSearchCV._run_search\u001b[0;34m(self, evaluate_candidates)\u001b[0m\n\u001b[1;32m   1751\u001b[0m \u001b[39mdef\u001b[39;00m \u001b[39m_run_search\u001b[39m(\u001b[39mself\u001b[39m, evaluate_candidates):\n\u001b[1;32m   1752\u001b[0m     \u001b[39m\"\"\"Search n_iter candidates from param_distributions\"\"\"\u001b[39;00m\n\u001b[0;32m-> 1753\u001b[0m     evaluate_candidates(\n\u001b[1;32m   1754\u001b[0m         ParameterSampler(\n\u001b[1;32m   1755\u001b[0m             \u001b[39mself\u001b[39;49m\u001b[39m.\u001b[39;49mparam_distributions, \u001b[39mself\u001b[39;49m\u001b[39m.\u001b[39;49mn_iter, random_state\u001b[39m=\u001b[39;49m\u001b[39mself\u001b[39;49m\u001b[39m.\u001b[39;49mrandom_state\n\u001b[1;32m   1756\u001b[0m         )\n\u001b[1;32m   1757\u001b[0m     )\n",
                  "File \u001b[0;32m/opt/homebrew/lib/python3.10/site-packages/sklearn/model_selection/_search.py:822\u001b[0m, in \u001b[0;36mBaseSearchCV.fit.<locals>.evaluate_candidates\u001b[0;34m(candidate_params, cv, more_results)\u001b[0m\n\u001b[1;32m    814\u001b[0m \u001b[39mif\u001b[39;00m \u001b[39mself\u001b[39m\u001b[39m.\u001b[39mverbose \u001b[39m>\u001b[39m \u001b[39m0\u001b[39m:\n\u001b[1;32m    815\u001b[0m     \u001b[39mprint\u001b[39m(\n\u001b[1;32m    816\u001b[0m         \u001b[39m\"\u001b[39m\u001b[39mFitting \u001b[39m\u001b[39m{0}\u001b[39;00m\u001b[39m folds for each of \u001b[39m\u001b[39m{1}\u001b[39;00m\u001b[39m candidates,\u001b[39m\u001b[39m\"\u001b[39m\n\u001b[1;32m    817\u001b[0m         \u001b[39m\"\u001b[39m\u001b[39m totalling \u001b[39m\u001b[39m{2}\u001b[39;00m\u001b[39m fits\u001b[39m\u001b[39m\"\u001b[39m\u001b[39m.\u001b[39mformat(\n\u001b[1;32m    818\u001b[0m             n_splits, n_candidates, n_candidates \u001b[39m*\u001b[39m n_splits\n\u001b[1;32m    819\u001b[0m         )\n\u001b[1;32m    820\u001b[0m     )\n\u001b[0;32m--> 822\u001b[0m out \u001b[39m=\u001b[39m parallel(\n\u001b[1;32m    823\u001b[0m     delayed(_fit_and_score)(\n\u001b[1;32m    824\u001b[0m         clone(base_estimator),\n\u001b[1;32m    825\u001b[0m         X,\n\u001b[1;32m    826\u001b[0m         y,\n\u001b[1;32m    827\u001b[0m         train\u001b[39m=\u001b[39;49mtrain,\n\u001b[1;32m    828\u001b[0m         test\u001b[39m=\u001b[39;49mtest,\n\u001b[1;32m    829\u001b[0m         parameters\u001b[39m=\u001b[39;49mparameters,\n\u001b[1;32m    830\u001b[0m         split_progress\u001b[39m=\u001b[39;49m(split_idx, n_splits),\n\u001b[1;32m    831\u001b[0m         candidate_progress\u001b[39m=\u001b[39;49m(cand_idx, n_candidates),\n\u001b[1;32m    832\u001b[0m         \u001b[39m*\u001b[39;49m\u001b[39m*\u001b[39;49mfit_and_score_kwargs,\n\u001b[1;32m    833\u001b[0m     )\n\u001b[1;32m    834\u001b[0m     \u001b[39mfor\u001b[39;49;00m (cand_idx, parameters), (split_idx, (train, test)) \u001b[39min\u001b[39;49;00m product(\n\u001b[1;32m    835\u001b[0m         \u001b[39menumerate\u001b[39;49m(candidate_params), \u001b[39menumerate\u001b[39;49m(cv\u001b[39m.\u001b[39;49msplit(X, y, groups))\n\u001b[1;32m    836\u001b[0m     )\n\u001b[1;32m    837\u001b[0m )\n\u001b[1;32m    839\u001b[0m \u001b[39mif\u001b[39;00m \u001b[39mlen\u001b[39m(out) \u001b[39m<\u001b[39m \u001b[39m1\u001b[39m:\n\u001b[1;32m    840\u001b[0m     \u001b[39mraise\u001b[39;00m \u001b[39mValueError\u001b[39;00m(\n\u001b[1;32m    841\u001b[0m         \u001b[39m\"\u001b[39m\u001b[39mNo fits were performed. \u001b[39m\u001b[39m\"\u001b[39m\n\u001b[1;32m    842\u001b[0m         \u001b[39m\"\u001b[39m\u001b[39mWas the CV iterator empty? \u001b[39m\u001b[39m\"\u001b[39m\n\u001b[1;32m    843\u001b[0m         \u001b[39m\"\u001b[39m\u001b[39mWere there no candidates?\u001b[39m\u001b[39m\"\u001b[39m\n\u001b[1;32m    844\u001b[0m     )\n",
                  "File \u001b[0;32m/opt/homebrew/lib/python3.10/site-packages/joblib/parallel.py:1098\u001b[0m, in \u001b[0;36mParallel.__call__\u001b[0;34m(self, iterable)\u001b[0m\n\u001b[1;32m   1095\u001b[0m     \u001b[39mself\u001b[39m\u001b[39m.\u001b[39m_iterating \u001b[39m=\u001b[39m \u001b[39mFalse\u001b[39;00m\n\u001b[1;32m   1097\u001b[0m \u001b[39mwith\u001b[39;00m \u001b[39mself\u001b[39m\u001b[39m.\u001b[39m_backend\u001b[39m.\u001b[39mretrieval_context():\n\u001b[0;32m-> 1098\u001b[0m     \u001b[39mself\u001b[39;49m\u001b[39m.\u001b[39;49mretrieve()\n\u001b[1;32m   1099\u001b[0m \u001b[39m# Make sure that we get a last message telling us we are done\u001b[39;00m\n\u001b[1;32m   1100\u001b[0m elapsed_time \u001b[39m=\u001b[39m time\u001b[39m.\u001b[39mtime() \u001b[39m-\u001b[39m \u001b[39mself\u001b[39m\u001b[39m.\u001b[39m_start_time\n",
                  "File \u001b[0;32m/opt/homebrew/lib/python3.10/site-packages/joblib/parallel.py:975\u001b[0m, in \u001b[0;36mParallel.retrieve\u001b[0;34m(self)\u001b[0m\n\u001b[1;32m    973\u001b[0m \u001b[39mtry\u001b[39;00m:\n\u001b[1;32m    974\u001b[0m     \u001b[39mif\u001b[39;00m \u001b[39mgetattr\u001b[39m(\u001b[39mself\u001b[39m\u001b[39m.\u001b[39m_backend, \u001b[39m'\u001b[39m\u001b[39msupports_timeout\u001b[39m\u001b[39m'\u001b[39m, \u001b[39mFalse\u001b[39;00m):\n\u001b[0;32m--> 975\u001b[0m         \u001b[39mself\u001b[39m\u001b[39m.\u001b[39m_output\u001b[39m.\u001b[39mextend(job\u001b[39m.\u001b[39;49mget(timeout\u001b[39m=\u001b[39;49m\u001b[39mself\u001b[39;49m\u001b[39m.\u001b[39;49mtimeout))\n\u001b[1;32m    976\u001b[0m     \u001b[39melse\u001b[39;00m:\n\u001b[1;32m    977\u001b[0m         \u001b[39mself\u001b[39m\u001b[39m.\u001b[39m_output\u001b[39m.\u001b[39mextend(job\u001b[39m.\u001b[39mget())\n",
                  "File \u001b[0;32m/opt/homebrew/lib/python3.10/site-packages/joblib/_parallel_backends.py:567\u001b[0m, in \u001b[0;36mLokyBackend.wrap_future_result\u001b[0;34m(future, timeout)\u001b[0m\n\u001b[1;32m    564\u001b[0m \u001b[39m\"\"\"Wrapper for Future.result to implement the same behaviour as\u001b[39;00m\n\u001b[1;32m    565\u001b[0m \u001b[39mAsyncResults.get from multiprocessing.\"\"\"\u001b[39;00m\n\u001b[1;32m    566\u001b[0m \u001b[39mtry\u001b[39;00m:\n\u001b[0;32m--> 567\u001b[0m     \u001b[39mreturn\u001b[39;00m future\u001b[39m.\u001b[39;49mresult(timeout\u001b[39m=\u001b[39;49mtimeout)\n\u001b[1;32m    568\u001b[0m \u001b[39mexcept\u001b[39;00m CfTimeoutError \u001b[39mas\u001b[39;00m e:\n\u001b[1;32m    569\u001b[0m     \u001b[39mraise\u001b[39;00m \u001b[39mTimeoutError\u001b[39;00m \u001b[39mfrom\u001b[39;00m \u001b[39me\u001b[39;00m\n",
                  "File \u001b[0;32m/opt/homebrew/Cellar/python@3.10/3.10.7/Frameworks/Python.framework/Versions/3.10/lib/python3.10/concurrent/futures/_base.py:453\u001b[0m, in \u001b[0;36mFuture.result\u001b[0;34m(self, timeout)\u001b[0m\n\u001b[1;32m    450\u001b[0m \u001b[39melif\u001b[39;00m \u001b[39mself\u001b[39m\u001b[39m.\u001b[39m_state \u001b[39m==\u001b[39m FINISHED:\n\u001b[1;32m    451\u001b[0m     \u001b[39mreturn\u001b[39;00m \u001b[39mself\u001b[39m\u001b[39m.\u001b[39m__get_result()\n\u001b[0;32m--> 453\u001b[0m \u001b[39mself\u001b[39;49m\u001b[39m.\u001b[39;49m_condition\u001b[39m.\u001b[39;49mwait(timeout)\n\u001b[1;32m    455\u001b[0m \u001b[39mif\u001b[39;00m \u001b[39mself\u001b[39m\u001b[39m.\u001b[39m_state \u001b[39min\u001b[39;00m [CANCELLED, CANCELLED_AND_NOTIFIED]:\n\u001b[1;32m    456\u001b[0m     \u001b[39mraise\u001b[39;00m CancelledError()\n",
                  "File \u001b[0;32m/opt/homebrew/Cellar/python@3.10/3.10.7/Frameworks/Python.framework/Versions/3.10/lib/python3.10/threading.py:320\u001b[0m, in \u001b[0;36mCondition.wait\u001b[0;34m(self, timeout)\u001b[0m\n\u001b[1;32m    318\u001b[0m \u001b[39mtry\u001b[39;00m:    \u001b[39m# restore state no matter what (e.g., KeyboardInterrupt)\u001b[39;00m\n\u001b[1;32m    319\u001b[0m     \u001b[39mif\u001b[39;00m timeout \u001b[39mis\u001b[39;00m \u001b[39mNone\u001b[39;00m:\n\u001b[0;32m--> 320\u001b[0m         waiter\u001b[39m.\u001b[39;49macquire()\n\u001b[1;32m    321\u001b[0m         gotit \u001b[39m=\u001b[39m \u001b[39mTrue\u001b[39;00m\n\u001b[1;32m    322\u001b[0m     \u001b[39melse\u001b[39;00m:\n",
                  "\u001b[0;31mKeyboardInterrupt\u001b[0m: "
               ]
            }
         ],
         "source": [
            "rf_random.fit(X_trainhpt, y_trainhpt)"
         ]
      },
      {
         "cell_type": "code",
         "execution_count": 8,
         "metadata": {},
         "outputs": [],
         "source": [
            "##adaboost classifier for y_train one hot encoded data\n",
            "\n",
            "ada_clf = AdaBoostClassifier(\n",
            "    DecisionTreeClassifier(max_depth=4), n_estimators=200,\n",
            "    algorithm=\"SAMME.R\", learning_rate=0.5, random_state=42)\n"
         ]
      },
      {
         "cell_type": "code",
         "execution_count": null,
         "metadata": {},
         "outputs": [],
         "source": [
            "ada_clf.fit(X_train, y_train)"
         ]
      },
      {
         "cell_type": "code",
         "execution_count": 9,
         "metadata": {},
         "outputs": [
            {
               "name": "stderr",
               "output_type": "stream",
               "text": [
                  "c:\\Users\\bobmst\\.conda\\envs\\ds310\\lib\\site-packages\\sklearn\\base.py:329: UserWarning: Trying to unpickle estimator DecisionTreeClassifier from version 1.1.2 when using version 1.1.1. This might lead to breaking code or invalid results. Use at your own risk. For more info please refer to:\n",
                  "https://scikit-learn.org/stable/model_persistence.html#security-maintainability-limitations\n",
                  "  warnings.warn(\n",
                  "c:\\Users\\bobmst\\.conda\\envs\\ds310\\lib\\site-packages\\sklearn\\base.py:329: UserWarning: Trying to unpickle estimator AdaBoostClassifier from version 1.1.2 when using version 1.1.1. This might lead to breaking code or invalid results. Use at your own risk. For more info please refer to:\n",
                  "https://scikit-learn.org/stable/model_persistence.html#security-maintainability-limitations\n",
                  "  warnings.warn(\n"
               ]
            }
         ],
         "source": [
            "# load model\n",
            "filename = 'AdaBoost.sav'\n",
            "ada_clf = pickle.load(open(filename, 'rb'))"
         ]
      },
      {
         "cell_type": "code",
         "execution_count": 10,
         "metadata": {},
         "outputs": [
            {
               "name": "stdout",
               "output_type": "stream",
               "text": [
                  "Accuracy score:  0.5153543528353847\n"
               ]
            }
         ],
         "source": [
            "y_pred = ada_clf.predict(X_test)\n",
            "\n",
            "print(\"Accuracy score: \", accuracy_score(y_test, y_pred))"
         ]
      },
      {
         "cell_type": "code",
         "execution_count": 11,
         "metadata": {},
         "outputs": [
            {
               "name": "stdout",
               "output_type": "stream",
               "text": [
                  "Confusion Matrix: \n",
                  " [[ 6948  1174  3361  5744 18359]\n",
                  " [  546 16624    80  1242 17094]\n",
                  " [ 1153    29 31081   945  2378]\n",
                  " [  376   493  3224 20162 11331]\n",
                  " [ 3915  1588  2944 10257 16882]]\n"
               ]
            }
         ],
         "source": [
            "print(\"Confusion Matrix: \\n\", confusion_matrix(y_test, y_pred))"
         ]
      },
      {
         "cell_type": "code",
         "execution_count": 12,
         "metadata": {},
         "outputs": [
            {
               "name": "stdout",
               "output_type": "stream",
               "text": [
                  "Classification Report:                precision    recall  f1-score   support\n",
                  "\n",
                  "           0       0.54      0.20      0.29     35586\n",
                  "           1       0.84      0.47      0.60     35586\n",
                  "           2       0.76      0.87      0.81     35586\n",
                  "           3       0.53      0.57      0.55     35586\n",
                  "           4       0.26      0.47      0.33     35586\n",
                  "\n",
                  "    accuracy                           0.52    177930\n",
                  "   macro avg       0.58      0.52      0.52    177930\n",
                  "weighted avg       0.58      0.52      0.52    177930\n",
                  "\n"
               ]
            }
         ],
         "source": [
            "print(\"Classification Report: \", classification_report(y_test, y_pred))"
         ]
      },
      {
         "cell_type": "code",
         "execution_count": 13,
         "metadata": {},
         "outputs": [
            {
               "name": "stdout",
               "output_type": "stream",
               "text": [
                  "Accuracy: 0.699 (0.162)\n",
                  "Precision: 0.857 (0.160)\n",
                  "Recall: 0.699 (0.162)\n",
                  "F1_score: 0.752 (0.174)\n"
               ]
            }
         ],
         "source": [
            "scoring = {'accuracy' : make_scorer(accuracy_score), \n",
            "           'precision' : make_scorer(precision_score, average = 'weighted',zero_division = 0),\n",
            "           'recall' : make_scorer(recall_score, average = 'weighted',zero_division = 0), \n",
            "           'f1_score' : make_scorer(f1_score, average = 'weighted',zero_division = 0)}\n",
            "kfold = model_selection.KFold(n_splits=10)\n",
            "results = model_selection.cross_validate(estimator=xgb_clf,\n",
            "                                          X=X_test,\n",
            "                                          y=y_test,\n",
            "                                          cv=kfold,\n",
            "                                          scoring=scoring)\n",
            "print('Accuracy: %.3f (%.3f)' % (np.mean(results['test_accuracy']), np.std(results['test_accuracy'])))\n",
            "print('Precision: %.3f (%.3f)' % (np.mean(results['test_precision']), np.std(results['test_precision'])))\n",
            "print('Recall: %.3f (%.3f)' % (np.mean(results['test_recall']), np.std(results['test_recall'])))\n",
            "print('F1_score: %.3f (%.3f)' % (np.mean(results['test_f1_score']), np.std(results['test_f1_score'])))"
         ]
      },
      {
         "cell_type": "code",
         "execution_count": 11,
         "metadata": {},
         "outputs": [
            {
               "data": {
                  "image/png": "[encoded data removed]",
                  "text/plain": [
                     "<Figure size 640x480 with 2 Axes>"
                  ]
               },
               "metadata": {},
               "output_type": "display_data"
            }
         ],
         "source": [
            "import seaborn as sns\n",
            "sns.heatmap(confusion_matrix(y_test, y_pred), annot=True, fmt='d')\n",
            "plt.show()\n"
         ]
      }
   ],
   "metadata": {
      "kernelspec": {
         "display_name": "Python 3.10.4 ('ds310')",
         "language": "python",
         "name": "python3"
      },
      "language_info": {
         "codemirror_mode": {
            "name": "ipython",
            "version": 3
         },
         "file_extension": ".py",
         "mimetype": "text/x-python",
         "name": "python",
         "nbconvert_exporter": "python",
         "pygments_lexer": "ipython3",
         "version": "3.10.4"
      },
      "orig_nbformat": 4,
      "vscode": {
         "interpreter": {
            "hash": "63b2e4803ce7e3942f46ee966fefc71cfd4e8e02c791c6d06064e47494c142e1"
         }
      }
   },
   "nbformat": 4,
   "nbformat_minor": 2
}