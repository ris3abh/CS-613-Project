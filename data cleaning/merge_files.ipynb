{
 "cells": [
  {
   "cell_type": "code",
   "execution_count": 1,
   "metadata": {},
   "outputs": [],
   "source": [
    "import pandas as pd\n",
    "import numpy as np"
   ]
  },
  {
   "cell_type": "code",
   "execution_count": 2,
   "metadata": {},
   "outputs": [
    {
     "name": "stderr",
     "output_type": "stream",
     "text": [
      "/var/folders/fj/r2kb_f4d3k1gxmcwsdc81_1r0000gn/T/ipykernel_19715/1407401948.py:5: DtypeWarning: Columns (5,6,7,8,9,10,11,12,13,14,15) have mixed types. Specify dtype option on import or set low_memory=False.\n",
      "  df_offenses_disposition = pd.read_csv('/Users/rishabhsharma/Documents/GitHub/CS-613-Project/data/offenses_dispositions3.csv')\n"
     ]
    }
   ],
   "source": [
    "# read csv files\n",
    "df_defendant_docket_complete = pd.read_csv('/Users/rishabhsharma/Documents/GitHub/CS-613-Project/data/defendant_docket_complete.csv')\n",
    "df_docket_details = pd.read_csv('/Users/rishabhsharma/Documents/GitHub/CS-613-Project/data/defendant_docket_details.csv')\n",
    "df_docket_ids = pd.read_csv('/Users/rishabhsharma/Documents/GitHub/CS-613-Project/data/defendant_docket_ids.csv')\n",
    "df_offenses_disposition = pd.read_csv('/Users/rishabhsharma/Documents/GitHub/CS-613-Project/data/offenses_dispositions3.csv')"
   ]
  },
  {
   "cell_type": "code",
   "execution_count": 3,
   "metadata": {},
   "outputs": [
    {
     "data": {
      "text/plain": [
       "docket_id                                                 0\n",
       "gender                                                  230\n",
       "race                                                   8933\n",
       "date_of_birth                                           219\n",
       "arrest_date                                              77\n",
       "complaint_date                                       195068\n",
       "disposition_date                                      48825\n",
       "filing_date                                               0\n",
       "initiation_date                                           0\n",
       "status_name                                               0\n",
       "court_office__court__display_name                         0\n",
       "current_processing_status__processing_status          12351\n",
       "current_processing_status__status_change_datetime         0\n",
       "municipality__name                                    13488\n",
       "municipality__county__name                            13488\n",
       "judicial_districts                                        0\n",
       "court_office_types                                        0\n",
       "court_types                                               0\n",
       "representation_type                                       3\n",
       "defendant_id                                            219\n",
       "dtype: int64"
      ]
     },
     "execution_count": 3,
     "metadata": {},
     "output_type": "execute_result"
    }
   ],
   "source": [
    "df_defendant_docket_complete.isnull().sum()"
   ]
  },
  {
   "cell_type": "code",
   "execution_count": 4,
   "metadata": {},
   "outputs": [],
   "source": [
    "df_defendant_docket_complete.drop(['complaint_date', 'disposition_date', 'current_processing_status__processing_status', 'municipality__name', 'municipality__county__name' ], axis=1, inplace=True)"
   ]
  },
  {
   "cell_type": "code",
   "execution_count": 5,
   "metadata": {},
   "outputs": [
    {
     "data": {
      "text/plain": [
       "docket_id                                               0\n",
       "gender                                                230\n",
       "race                                                 8933\n",
       "date_of_birth                                         219\n",
       "arrest_date                                            77\n",
       "filing_date                                             0\n",
       "initiation_date                                         0\n",
       "status_name                                             0\n",
       "court_office__court__display_name                       0\n",
       "current_processing_status__status_change_datetime       0\n",
       "judicial_districts                                      0\n",
       "court_office_types                                      0\n",
       "court_types                                             0\n",
       "representation_type                                     3\n",
       "defendant_id                                          219\n",
       "dtype: int64"
      ]
     },
     "execution_count": 5,
     "metadata": {},
     "output_type": "execute_result"
    }
   ],
   "source": [
    "df_defendant_docket_complete.isnull().sum()"
   ]
  },
  {
   "cell_type": "code",
   "execution_count": 6,
   "metadata": {},
   "outputs": [],
   "source": [
    "## drop all the data points with null values from the dataframe\n",
    "df_defendant_docket_complete.dropna(inplace=True)"
   ]
  },
  {
   "cell_type": "code",
   "execution_count": 7,
   "metadata": {},
   "outputs": [
    {
     "data": {
      "text/plain": [
       "(361000, 15)"
      ]
     },
     "execution_count": 7,
     "metadata": {},
     "output_type": "execute_result"
    }
   ],
   "source": [
    "df_defendant_docket_complete.shape"
   ]
  },
  {
   "cell_type": "code",
   "execution_count": 12,
   "metadata": {},
   "outputs": [
    {
     "data": {
      "text/plain": [
       "docket_id                                            False\n",
       "gender                                               False\n",
       "race                                                 False\n",
       "date_of_birth                                        False\n",
       "arrest_date                                          False\n",
       "filing_date                                          False\n",
       "initiation_date                                      False\n",
       "status_name                                          False\n",
       "court_office__court__display_name                    False\n",
       "current_processing_status__status_change_datetime    False\n",
       "judicial_districts                                   False\n",
       "court_office_types                                   False\n",
       "court_types                                          False\n",
       "representation_type                                  False\n",
       "defendant_id                                         False\n",
       "dtype: bool"
      ]
     },
     "execution_count": 12,
     "metadata": {},
     "output_type": "execute_result"
    }
   ],
   "source": [
    "df_defendant_docket_complete.isnull().any()"
   ]
  },
  {
   "cell_type": "code",
   "execution_count": 13,
   "metadata": {},
   "outputs": [
    {
     "data": {
      "text/html": [
       "<div>\n",
       "<style scoped>\n",
       "    .dataframe tbody tr th:only-of-type {\n",
       "        vertical-align: middle;\n",
       "    }\n",
       "\n",
       "    .dataframe tbody tr th {\n",
       "        vertical-align: top;\n",
       "    }\n",
       "\n",
       "    .dataframe thead th {\n",
       "        text-align: right;\n",
       "    }\n",
       "</style>\n",
       "<table border=\"1\" class=\"dataframe\">\n",
       "  <thead>\n",
       "    <tr style=\"text-align: right;\">\n",
       "      <th></th>\n",
       "      <th>docket_id</th>\n",
       "      <th>gender</th>\n",
       "      <th>race</th>\n",
       "      <th>date_of_birth</th>\n",
       "      <th>arrest_date</th>\n",
       "      <th>filing_date</th>\n",
       "      <th>initiation_date</th>\n",
       "      <th>status_name</th>\n",
       "      <th>court_office__court__display_name</th>\n",
       "      <th>current_processing_status__status_change_datetime</th>\n",
       "      <th>judicial_districts</th>\n",
       "      <th>court_office_types</th>\n",
       "      <th>court_types</th>\n",
       "      <th>representation_type</th>\n",
       "      <th>defendant_id</th>\n",
       "    </tr>\n",
       "  </thead>\n",
       "  <tbody>\n",
       "    <tr>\n",
       "      <th>0</th>\n",
       "      <td>354343</td>\n",
       "      <td>Male</td>\n",
       "      <td>White</td>\n",
       "      <td>1976-01-01</td>\n",
       "      <td>2016-03-01</td>\n",
       "      <td>2016-03-01</td>\n",
       "      <td>2016-03-01</td>\n",
       "      <td>Inactive</td>\n",
       "      <td>Municipal Court - Philadelphia County</td>\n",
       "      <td>0001-01-01</td>\n",
       "      <td>Philadelphia</td>\n",
       "      <td>Municipal</td>\n",
       "      <td>MC</td>\n",
       "      <td>Prosecutor, Public Defender</td>\n",
       "      <td>50286.0</td>\n",
       "    </tr>\n",
       "    <tr>\n",
       "      <th>1</th>\n",
       "      <td>347123</td>\n",
       "      <td>Male</td>\n",
       "      <td>Black</td>\n",
       "      <td>1964-01-01</td>\n",
       "      <td>2016-03-01</td>\n",
       "      <td>2016-03-01</td>\n",
       "      <td>2016-03-01</td>\n",
       "      <td>Inactive</td>\n",
       "      <td>Municipal Court - Philadelphia County</td>\n",
       "      <td>0001-01-01</td>\n",
       "      <td>Philadelphia</td>\n",
       "      <td>Municipal</td>\n",
       "      <td>MC</td>\n",
       "      <td>Prosecutor, Public Defender</td>\n",
       "      <td>20004.0</td>\n",
       "    </tr>\n",
       "    <tr>\n",
       "      <th>2</th>\n",
       "      <td>355476</td>\n",
       "      <td>Female</td>\n",
       "      <td>White</td>\n",
       "      <td>1991-01-01</td>\n",
       "      <td>2016-03-01</td>\n",
       "      <td>2016-03-01</td>\n",
       "      <td>2016-03-01</td>\n",
       "      <td>Inactive</td>\n",
       "      <td>Municipal Court - Philadelphia County</td>\n",
       "      <td>0001-01-01</td>\n",
       "      <td>Philadelphia</td>\n",
       "      <td>Municipal</td>\n",
       "      <td>MC</td>\n",
       "      <td>Prosecutor, Public Defender</td>\n",
       "      <td>121633.0</td>\n",
       "    </tr>\n",
       "    <tr>\n",
       "      <th>3</th>\n",
       "      <td>366646</td>\n",
       "      <td>Male</td>\n",
       "      <td>White</td>\n",
       "      <td>1983-01-01</td>\n",
       "      <td>2016-03-01</td>\n",
       "      <td>2016-03-01</td>\n",
       "      <td>2016-03-01</td>\n",
       "      <td>Inactive</td>\n",
       "      <td>Municipal Court - Philadelphia County</td>\n",
       "      <td>0001-01-01</td>\n",
       "      <td>Philadelphia</td>\n",
       "      <td>Municipal</td>\n",
       "      <td>MC</td>\n",
       "      <td>Prosecutor, Public Defender</td>\n",
       "      <td>75339.0</td>\n",
       "    </tr>\n",
       "    <tr>\n",
       "      <th>4</th>\n",
       "      <td>346083</td>\n",
       "      <td>Female</td>\n",
       "      <td>White</td>\n",
       "      <td>1974-01-01</td>\n",
       "      <td>2016-03-01</td>\n",
       "      <td>2016-03-01</td>\n",
       "      <td>2016-03-01</td>\n",
       "      <td>Inactive</td>\n",
       "      <td>Municipal Court - Philadelphia County</td>\n",
       "      <td>0001-01-01</td>\n",
       "      <td>Philadelphia</td>\n",
       "      <td>Municipal</td>\n",
       "      <td>MC</td>\n",
       "      <td>Prosecutor, Public Defender</td>\n",
       "      <td>43539.0</td>\n",
       "    </tr>\n",
       "  </tbody>\n",
       "</table>\n",
       "</div>"
      ],
      "text/plain": [
       "   docket_id  gender   race date_of_birth arrest_date filing_date  \\\n",
       "0     354343    Male  White    1976-01-01  2016-03-01  2016-03-01   \n",
       "1     347123    Male  Black    1964-01-01  2016-03-01  2016-03-01   \n",
       "2     355476  Female  White    1991-01-01  2016-03-01  2016-03-01   \n",
       "3     366646    Male  White    1983-01-01  2016-03-01  2016-03-01   \n",
       "4     346083  Female  White    1974-01-01  2016-03-01  2016-03-01   \n",
       "\n",
       "  initiation_date status_name      court_office__court__display_name  \\\n",
       "0      2016-03-01    Inactive  Municipal Court - Philadelphia County   \n",
       "1      2016-03-01    Inactive  Municipal Court - Philadelphia County   \n",
       "2      2016-03-01    Inactive  Municipal Court - Philadelphia County   \n",
       "3      2016-03-01    Inactive  Municipal Court - Philadelphia County   \n",
       "4      2016-03-01    Inactive  Municipal Court - Philadelphia County   \n",
       "\n",
       "  current_processing_status__status_change_datetime judicial_districts  \\\n",
       "0                                        0001-01-01       Philadelphia   \n",
       "1                                        0001-01-01       Philadelphia   \n",
       "2                                        0001-01-01       Philadelphia   \n",
       "3                                        0001-01-01       Philadelphia   \n",
       "4                                        0001-01-01       Philadelphia   \n",
       "\n",
       "  court_office_types court_types          representation_type  defendant_id  \n",
       "0          Municipal          MC  Prosecutor, Public Defender       50286.0  \n",
       "1          Municipal          MC  Prosecutor, Public Defender       20004.0  \n",
       "2          Municipal          MC  Prosecutor, Public Defender      121633.0  \n",
       "3          Municipal          MC  Prosecutor, Public Defender       75339.0  \n",
       "4          Municipal          MC  Prosecutor, Public Defender       43539.0  "
      ]
     },
     "execution_count": 13,
     "metadata": {},
     "output_type": "execute_result"
    }
   ],
   "source": [
    "df_defendant_docket_complete.head()"
   ]
  },
  {
   "cell_type": "code",
   "execution_count": 42,
   "metadata": {},
   "outputs": [],
   "source": [
    "df_offenses_disposition = pd.read_csv('/Users/rishabhsharma/Documents/GitHub/CS-613-Project/data/offenses_dispositions3.csv',\n",
    "                                    low_memory=False)"
   ]
  },
  {
   "cell_type": "code",
   "execution_count": 43,
   "metadata": {},
   "outputs": [
    {
     "data": {
      "text/plain": [
       "(1465113, 38)"
      ]
     },
     "execution_count": 43,
     "metadata": {},
     "output_type": "execute_result"
    }
   ],
   "source": [
    "# drop elements from the dataframe with null values\n",
    "df_offenses_disposition.shape"
   ]
  },
  {
   "cell_type": "code",
   "execution_count": 44,
   "metadata": {},
   "outputs": [
    {
     "data": {
      "text/plain": [
       "Probation             229443\n",
       "Confinement           136513\n",
       "No Further Penalty     41790\n",
       "Merged                 24200\n",
       "IPP                     7823\n",
       "Name: sentence_type, dtype: int64"
      ]
     },
     "execution_count": 44,
     "metadata": {},
     "output_type": "execute_result"
    }
   ],
   "source": [
    "df_offenses_disposition['sentence_type'].value_counts()"
   ]
  },
  {
   "cell_type": "code",
   "execution_count": 45,
   "metadata": {},
   "outputs": [],
   "source": [
    "df_offenses_disposition['disposing_authority'] = df_offenses_disposition['disposing_authority__first_name'].astype(str) + ' ' + df_offenses_disposition['disposing_authority__middle_name'].astype(str) + ' ' + df_offenses_disposition['disposing_authority__last_name'].astype(str)\n",
    "\n",
    "df_offenses_disposition.drop(['disposing_authority__first_name', 'disposing_authority__middle_name', 'disposing_authority__last_name'], axis=1, inplace=True)\n",
    "\n",
    "##df_offenses_disposition.head(10)"
   ]
  },
  {
   "cell_type": "code",
   "execution_count": 46,
   "metadata": {},
   "outputs": [
    {
     "data": {
      "text/plain": [
       "docket_id                                                  0\n",
       "description                                                0\n",
       "statute_description                                        0\n",
       "sequence_number                                            0\n",
       "grade                                                 203324\n",
       "disposition                                          1025344\n",
       "disposing_authority__title                           1025352\n",
       "disposing_authority__document_name                   1025344\n",
       "disposition_method                                   1338687\n",
       "min_period                                           1361388\n",
       "max_period                                           1091334\n",
       "period                                               1091334\n",
       "sentence_type                                        1025344\n",
       "numeric_min_period                                   1369088\n",
       "numeric_max_period                                   1129757\n",
       "Unnamed: 0                                                 0\n",
       "gender                                                  1001\n",
       "race                                                   26330\n",
       "date_of_birth                                            811\n",
       "arrest_date                                              419\n",
       "complaint_date                                        679350\n",
       "disposition_date                                      158096\n",
       "filing_date                                                0\n",
       "initiation_date                                            0\n",
       "status_name                                                0\n",
       "court_office__court__display_name                          0\n",
       "current_processing_status__processing_status           27724\n",
       "current_processing_status__status_change_datetime          0\n",
       "municipality__name                                     22622\n",
       "municipality__county__name                             22622\n",
       "judicial_districts                                         0\n",
       "court_office_types                                         0\n",
       "court_types                                                0\n",
       "representation_type                                       10\n",
       "defendant_id                                             811\n",
       "disposing_authority                                        0\n",
       "dtype: int64"
      ]
     },
     "execution_count": 46,
     "metadata": {},
     "output_type": "execute_result"
    }
   ],
   "source": [
    "df_offenses_disposition.isnull().sum()"
   ]
  },
  {
   "cell_type": "code",
   "execution_count": 47,
   "metadata": {},
   "outputs": [],
   "source": [
    "## dropping the rows with null values\n",
    "\n",
    "df_offenses_disposition.drop(['grade', 'disposition', 'disposing_authority__document_name', 'disposition_method',\n",
    "                                   'min_period', 'max_period', 'period', 'municipality__name', 'municipality__county__name', 'current_processing_status__processing_status'], axis = 1, inplace=True)"
   ]
  },
  {
   "cell_type": "code",
   "execution_count": 48,
   "metadata": {},
   "outputs": [
    {
     "data": {
      "text/plain": [
       "(1465113, 26)"
      ]
     },
     "execution_count": 48,
     "metadata": {},
     "output_type": "execute_result"
    }
   ],
   "source": [
    "df_offenses_disposition.shape"
   ]
  },
  {
   "cell_type": "code",
   "execution_count": 49,
   "metadata": {},
   "outputs": [
    {
     "data": {
      "text/html": [
       "<div>\n",
       "<style scoped>\n",
       "    .dataframe tbody tr th:only-of-type {\n",
       "        vertical-align: middle;\n",
       "    }\n",
       "\n",
       "    .dataframe tbody tr th {\n",
       "        vertical-align: top;\n",
       "    }\n",
       "\n",
       "    .dataframe thead th {\n",
       "        text-align: right;\n",
       "    }\n",
       "</style>\n",
       "<table border=\"1\" class=\"dataframe\">\n",
       "  <thead>\n",
       "    <tr style=\"text-align: right;\">\n",
       "      <th></th>\n",
       "      <th>docket_id</th>\n",
       "      <th>sequence_number</th>\n",
       "      <th>numeric_min_period</th>\n",
       "      <th>numeric_max_period</th>\n",
       "      <th>Unnamed: 0</th>\n",
       "      <th>defendant_id</th>\n",
       "    </tr>\n",
       "  </thead>\n",
       "  <tbody>\n",
       "    <tr>\n",
       "      <th>count</th>\n",
       "      <td>1.465113e+06</td>\n",
       "      <td>1.465113e+06</td>\n",
       "      <td>96025.000000</td>\n",
       "      <td>335356.000000</td>\n",
       "      <td>1.465113e+06</td>\n",
       "      <td>1.464302e+06</td>\n",
       "    </tr>\n",
       "    <tr>\n",
       "      <th>mean</th>\n",
       "      <td>1.826981e+05</td>\n",
       "      <td>5.290252e+03</td>\n",
       "      <td>599.620760</td>\n",
       "      <td>1023.459643</td>\n",
       "      <td>1.823587e+05</td>\n",
       "      <td>8.248473e+04</td>\n",
       "    </tr>\n",
       "    <tr>\n",
       "      <th>std</th>\n",
       "      <td>1.079878e+05</td>\n",
       "      <td>2.237423e+04</td>\n",
       "      <td>897.495029</td>\n",
       "      <td>1124.357296</td>\n",
       "      <td>1.066369e+05</td>\n",
       "      <td>4.200569e+04</td>\n",
       "    </tr>\n",
       "    <tr>\n",
       "      <th>min</th>\n",
       "      <td>1.000000e+00</td>\n",
       "      <td>1.000000e+00</td>\n",
       "      <td>0.000000</td>\n",
       "      <td>1.000000</td>\n",
       "      <td>0.000000e+00</td>\n",
       "      <td>6.500000e+01</td>\n",
       "    </tr>\n",
       "    <tr>\n",
       "      <th>25%</th>\n",
       "      <td>8.890600e+04</td>\n",
       "      <td>1.000000e+00</td>\n",
       "      <td>182.621250</td>\n",
       "      <td>365.242500</td>\n",
       "      <td>8.927600e+04</td>\n",
       "      <td>4.742800e+04</td>\n",
       "    </tr>\n",
       "    <tr>\n",
       "      <th>50%</th>\n",
       "      <td>1.793940e+05</td>\n",
       "      <td>2.000000e+00</td>\n",
       "      <td>350.024063</td>\n",
       "      <td>730.485000</td>\n",
       "      <td>1.763390e+05</td>\n",
       "      <td>8.642600e+04</td>\n",
       "    </tr>\n",
       "    <tr>\n",
       "      <th>75%</th>\n",
       "      <td>2.780240e+05</td>\n",
       "      <td>5.000000e+00</td>\n",
       "      <td>730.485000</td>\n",
       "      <td>1095.727500</td>\n",
       "      <td>2.780040e+05</td>\n",
       "      <td>1.195200e+05</td>\n",
       "    </tr>\n",
       "    <tr>\n",
       "      <th>max</th>\n",
       "      <td>3.703150e+05</td>\n",
       "      <td>9.999900e+04</td>\n",
       "      <td>18262.125000</td>\n",
       "      <td>36524.250000</td>\n",
       "      <td>3.703120e+05</td>\n",
       "      <td>1.490450e+05</td>\n",
       "    </tr>\n",
       "  </tbody>\n",
       "</table>\n",
       "</div>"
      ],
      "text/plain": [
       "          docket_id  sequence_number  numeric_min_period  numeric_max_period  \\\n",
       "count  1.465113e+06     1.465113e+06        96025.000000       335356.000000   \n",
       "mean   1.826981e+05     5.290252e+03          599.620760         1023.459643   \n",
       "std    1.079878e+05     2.237423e+04          897.495029         1124.357296   \n",
       "min    1.000000e+00     1.000000e+00            0.000000            1.000000   \n",
       "25%    8.890600e+04     1.000000e+00          182.621250          365.242500   \n",
       "50%    1.793940e+05     2.000000e+00          350.024063          730.485000   \n",
       "75%    2.780240e+05     5.000000e+00          730.485000         1095.727500   \n",
       "max    3.703150e+05     9.999900e+04        18262.125000        36524.250000   \n",
       "\n",
       "         Unnamed: 0  defendant_id  \n",
       "count  1.465113e+06  1.464302e+06  \n",
       "mean   1.823587e+05  8.248473e+04  \n",
       "std    1.066369e+05  4.200569e+04  \n",
       "min    0.000000e+00  6.500000e+01  \n",
       "25%    8.927600e+04  4.742800e+04  \n",
       "50%    1.763390e+05  8.642600e+04  \n",
       "75%    2.780040e+05  1.195200e+05  \n",
       "max    3.703120e+05  1.490450e+05  "
      ]
     },
     "execution_count": 49,
     "metadata": {},
     "output_type": "execute_result"
    }
   ],
   "source": [
    "df_offenses_disposition.describe()"
   ]
  },
  {
   "cell_type": "code",
   "execution_count": 51,
   "metadata": {},
   "outputs": [],
   "source": [
    "df = df_offenses_disposition.copy()\n",
    "#df_offenses_disposition.dropna(inplace=True)"
   ]
  },
  {
   "cell_type": "code",
   "execution_count": 53,
   "metadata": {},
   "outputs": [
    {
     "data": {
      "text/plain": [
       "Index(['docket_id', 'description', 'statute_description', 'sequence_number',\n",
       "       'disposing_authority__title', 'sentence_type', 'numeric_min_period',\n",
       "       'numeric_max_period', 'Unnamed: 0', 'gender', 'race', 'date_of_birth',\n",
       "       'arrest_date', 'complaint_date', 'disposition_date', 'filing_date',\n",
       "       'initiation_date', 'status_name', 'court_office__court__display_name',\n",
       "       'current_processing_status__status_change_datetime',\n",
       "       'judicial_districts', 'court_office_types', 'court_types',\n",
       "       'representation_type', 'defendant_id', 'disposing_authority'],\n",
       "      dtype='object')"
      ]
     },
     "execution_count": 53,
     "metadata": {},
     "output_type": "execute_result"
    }
   ],
   "source": [
    "df.columns"
   ]
  },
  {
   "cell_type": "code",
   "execution_count": 55,
   "metadata": {},
   "outputs": [],
   "source": [
    "## if 'sentence_type' is null, then drop the row\n",
    "df.dropna(subset=['sentence_type'], inplace=True)"
   ]
  },
  {
   "cell_type": "code",
   "execution_count": 59,
   "metadata": {},
   "outputs": [],
   "source": [
    "df.drop(['numeric_min_period', 'numeric_max_period', 'complaint_date'], axis=1, inplace=True)"
   ]
  },
  {
   "cell_type": "code",
   "execution_count": 64,
   "metadata": {},
   "outputs": [],
   "source": [
    "df.dropna(inplace=True)"
   ]
  },
  {
   "cell_type": "code",
   "execution_count": 69,
   "metadata": {},
   "outputs": [],
   "source": [
    "## for coulmns occuring both in df and df_defendant_docket_complete, delete the column from df\n",
    "\n",
    "df.drop(['current_processing_status__status_change_datetime',\n",
    "       'judicial_districts', 'court_office_types', 'court_types',\n",
    "       'representation_type', 'defendant_id'], axis=1, inplace=True)"
   ]
  },
  {
   "cell_type": "code",
   "execution_count": 68,
   "metadata": {},
   "outputs": [
    {
     "data": {
      "text/plain": [
       "Index(['docket_id', 'gender', 'race', 'date_of_birth', 'arrest_date',\n",
       "       'filing_date', 'initiation_date', 'status_name',\n",
       "       'court_office__court__display_name',\n",
       "       'current_processing_status__status_change_datetime',\n",
       "       'judicial_districts', 'court_office_types', 'court_types',\n",
       "       'representation_type', 'defendant_id'],\n",
       "      dtype='object')"
      ]
     },
     "execution_count": 68,
     "metadata": {},
     "output_type": "execute_result"
    }
   ],
   "source": [
    "df_defendant_docket_complete.columns"
   ]
  },
  {
   "cell_type": "code",
   "execution_count": 70,
   "metadata": {},
   "outputs": [
    {
     "data": {
      "text/plain": [
       "Index(['docket_id', 'description', 'statute_description', 'sequence_number',\n",
       "       'disposing_authority__title', 'sentence_type', 'Unnamed: 0', 'gender',\n",
       "       'race', 'date_of_birth', 'arrest_date', 'disposition_date',\n",
       "       'filing_date', 'initiation_date', 'status_name',\n",
       "       'court_office__court__display_name', 'disposing_authority'],\n",
       "      dtype='object')"
      ]
     },
     "execution_count": 70,
     "metadata": {},
     "output_type": "execute_result"
    }
   ],
   "source": [
    "df.columns"
   ]
  },
  {
   "cell_type": "code",
   "execution_count": 71,
   "metadata": {},
   "outputs": [],
   "source": [
    "df_complete = pd.merge(df_defendant_docket_complete, df, on='docket_id', how='inner')"
   ]
  },
  {
   "cell_type": "code",
   "execution_count": 73,
   "metadata": {},
   "outputs": [
    {
     "data": {
      "text/plain": [
       "Index(['docket_id', 'gender_x', 'race_x', 'date_of_birth_x', 'arrest_date_x',\n",
       "       'filing_date_x', 'initiation_date_x', 'status_name_x',\n",
       "       'court_office__court__display_name_x',\n",
       "       'current_processing_status__status_change_datetime',\n",
       "       'judicial_districts', 'court_office_types', 'court_types',\n",
       "       'representation_type', 'defendant_id', 'description',\n",
       "       'statute_description', 'sequence_number', 'disposing_authority__title',\n",
       "       'sentence_type', 'Unnamed: 0', 'gender_y', 'race_y', 'date_of_birth_y',\n",
       "       'arrest_date_y', 'disposition_date', 'filing_date_y',\n",
       "       'initiation_date_y', 'status_name_y',\n",
       "       'court_office__court__display_name_y', 'disposing_authority'],\n",
       "      dtype='object')"
      ]
     },
     "execution_count": 73,
     "metadata": {},
     "output_type": "execute_result"
    }
   ],
   "source": [
    "df_complete.columns\n",
    "\n",
    "## drop rows with same docket_id\n",
    "\n",
    "##df_defendant_docket_complete.drop_duplicates(subset='docket_id', keep='first', inplace=True)"
   ]
  },
  {
   "cell_type": "code",
   "execution_count": 80,
   "metadata": {},
   "outputs": [
    {
     "data": {
      "text/plain": [
       "(430310, 31)"
      ]
     },
     "execution_count": 80,
     "metadata": {},
     "output_type": "execute_result"
    }
   ],
   "source": [
    "df_complete.shape"
   ]
  },
  {
   "cell_type": "code",
   "execution_count": 81,
   "metadata": {},
   "outputs": [
    {
     "data": {
      "text/plain": [
       "0001-01-01    11283\n",
       "2020-02-01     9664\n",
       "2020-03-01     8646\n",
       "2020-01-01     7742\n",
       "2019-10-01     7017\n",
       "              ...  \n",
       "2020-04-01     1230\n",
       "2010-04-01     1212\n",
       "2010-03-01      931\n",
       "2010-02-01      472\n",
       "2010-01-01      166\n",
       "Name: current_processing_status__status_change_datetime, Length: 127, dtype: int64"
      ]
     },
     "execution_count": 81,
     "metadata": {},
     "output_type": "execute_result"
    }
   ],
   "source": [
    "df_defendant_docket_complete['current_processing_status__status_change_datetime'].value_counts()"
   ]
  },
  {
   "cell_type": "code",
   "execution_count": 86,
   "metadata": {},
   "outputs": [],
   "source": [
    "## drop rows with same docket_id\n",
    "\n",
    "df_complete.drop_duplicates(subset='docket_id', keep='first', inplace=True)"
   ]
  },
  {
   "cell_type": "code",
   "execution_count": 89,
   "metadata": {},
   "outputs": [
    {
     "data": {
      "text/plain": [
       "Probation             110355\n",
       "Confinement            46705\n",
       "No Further Penalty     17693\n",
       "Merged                  8196\n",
       "IPP                     2456\n",
       "Name: sentence_type, dtype: int64"
      ]
     },
     "execution_count": 89,
     "metadata": {},
     "output_type": "execute_result"
    }
   ],
   "source": [
    "df_complete['sentence_type'].value_counts()"
   ]
  },
  {
   "cell_type": "code",
   "execution_count": 90,
   "metadata": {},
   "outputs": [],
   "source": [
    "## export the csv file \n",
    "df_complete.to_csv('/Users/rishabhsharma/Documents/GitHub/CS-613-Project/data/df_complete.csv', index=False)"
   ]
  },
  {
   "cell_type": "code",
   "execution_count": null,
   "metadata": {},
   "outputs": [],
   "source": []
  }
 ],
 "metadata": {
  "kernelspec": {
   "display_name": "Python 3.10.7 64-bit",
   "language": "python",
   "name": "python3"
  },
  "language_info": {
   "codemirror_mode": {
    "name": "ipython",
    "version": 3
   },
   "file_extension": ".py",
   "mimetype": "text/x-python",
   "name": "python",
   "nbconvert_exporter": "python",
   "pygments_lexer": "ipython3",
   "version": "3.10.7"
  },
  "orig_nbformat": 4,
  "vscode": {
   "interpreter": {
    "hash": "b0fa6594d8f4cbf19f97940f81e996739fb7646882a419484c72d19e05852a7e"
   }
  }
 },
 "nbformat": 4,
 "nbformat_minor": 2
}
