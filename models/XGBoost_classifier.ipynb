{
 "cells": [
  {
   "cell_type": "markdown",
   "metadata": {},
   "source": [
    "### importing all the libraries"
   ]
  },
  {
   "cell_type": "code",
tuning
   "execution_count": 11,
   "execution_count": 3,
 main
   "metadata": {},
   "outputs": [],
   "source": [
    "import numpy as np\n",
    "import pandas as pd\n",
    "import xgboost as xgb\n",
    "# import packages for hyperparameters tuning\n",
    "from hyperopt import STATUS_OK, Trials, fmin, hp, tpe\n",
    "from sklearn.metrics import accuracy_score\n",
    "from sklearn.metrics import confusion_matrix\n",
    "from sklearn.metrics import classification_report\n",
    "from imblearn.over_sampling import SMOTE\n"
   ]
  },
  {
   "cell_type": "markdown",
   "metadata": {},
   "source": [
    "### loading the X_train, X_test, Y_train and Y_test "
   ]
  },
  {
   "cell_type": "code",
   "execution_count": 28,
   "metadata": {},
   "outputs": [],
   "source": [
    "X_train = np.load('../data/X_train.npy', allow_pickle = True)\n",
    "X_test = np.load('../data/X_test.npy', allow_pickle = True)\n",
    "y_train = np.load('../data/y_train.npy', allow_pickle = True)\n",
    "y_test = np.load('../data/y_test.npy', allow_pickle = True)"
   ]
  },
  {
   "cell_type": "code",
 tuning
   "execution_count": 30,
   "metadata": {},
   "outputs": [],
   "source": [
    "X_train = np.load('../data/X_train.npy', allow_pickle = True)\n",
    "X_test = np.load('../data/X_test.npy', allow_pickle = True)\n",
    "y_train = np.load('../data/y_train_nohe.npy', allow_pickle = True)\n",
    "y_test = np.load('../data/y_test_nohe.npy', allow_pickle = True)"
   ]
  },
  {
   "cell_type": "code",
   "execution_count": 31,

   "execution_count": 29,
 main
   "metadata": {},
   "outputs": [
    {
     "name": "stdout",
     "output_type": "stream",
     "text": [
      "shape of X_train:  (122289, 1044)\n",
      "shape of X_test:  (60232, 1044)\n",
      "shape of Y_train:  (122289,)\n",
      "shape of Y_test:  (60232,)\n"
     ]
    }
   ],
   "source": [
    "print(\"shape of X_train: \", X_train.shape)\n",
    "print(\"shape of X_test: \", X_test.shape)\n",
    "print(\"shape of Y_train: \", y_train.shape)\n",
    "print(\"shape of Y_test: \", y_test.shape)"
   ]
  },
  {
   "cell_type": "markdown",
   "metadata": {},
   "source": [
    "### Tuning"
   ]
  },
  {
   "cell_type": "code",
   "execution_count": 32,
   "metadata": {},
   "outputs": [],
   "source": [
    "sm = SMOTE(random_state=42)\n",
    "X_train, y_train = sm.fit_resample(X_train, y_train)"
   ]
  },
  {
   "cell_type": "code",
   "execution_count": 33,
   "metadata": {},
   "outputs": [],
   "source": [
    "X_test, y_test = sm.fit_resample(X_test, y_test)"
   ]
  },
  {
   "cell_type": "code",
   "execution_count": 39,
   "metadata": {},
   "outputs": [],
   "source": [
    "params={'max_depth': hp.quniform(\"max_depth\", 3, 20, 2),\n",
    "        'gamma': hp.uniform ('gamma', 1,9),\n",
    "        'reg_alpha' : hp.quniform('reg_alpha', 40,180,1),\n",
    "        'reg_lambda' : hp.uniform('reg_lambda', 0,1),\n",
    "        'colsample_bytree' : hp.uniform('colsample_bytree', 0.5,1),\n",
    "        'min_child_weight' : hp.quniform('min_child_weight', 0, 10, 1),\n",
    "        'n_estimators': 180,\n",
    "        'seed': 42,\n",
    "        'eval_metric':\"auc\",\n",
    "        'early_stopping_rounds':10\n",
    "    }"
   ]
  },
  {
   "cell_type": "code",
   "execution_count": 26,
   "metadata": {},
   "outputs": [
    {
     "data": {
      "text/plain": [
       "(177930, 5)"
      ]
     },
     "execution_count": 26,
     "metadata": {},
     "output_type": "execute_result"
    }
   ],
   "source": [
    "y_test.shape"
   ]
  },
  {
   "cell_type": "code",
   "execution_count": 40,
   "metadata": {},
   "outputs": [],
   "source": [
    "def objective(space):\n",
    "    clf=xgb.XGBClassifier(\n",
    "                    n_estimators =space['n_estimators'], max_depth = int(space['max_depth']), gamma = space['gamma'],\n",
    "                    reg_alpha = int(space['reg_alpha']),min_child_weight=int(space['min_child_weight']),\n",
    "                    colsample_bytree=int(space['colsample_bytree']),eval_metric=space['eval_metric'],early_stopping_rounds=space['early_stopping_rounds'])\n",
    "    \n",
    "    evaluation = [( X_train[:10000], y_train[:10000]), ( X_test, y_test)]\n",
    "    \n",
    "    clf.fit(X_train[:10000], y_train[:10000],\n",
    "            eval_set=evaluation,verbose=False)\n",
    "    \n",
    "\n",
    "    pred = clf.predict(X_test)\n",
    "    accuracy = accuracy_score(y_test, pred>0.5)\n",
    "    print (\"SCORE:\", accuracy)\n",
    "    return {'loss': -accuracy, 'status': STATUS_OK }"
   ]
  },
  {
   "cell_type": "code",
   "execution_count": 41,
   "metadata": {},
   "outputs": [
    {
     "name": "stdout",
     "output_type": "stream",
     "text": [
      "SCORE:                                                 \n",
      "0.2                                                    \n",
      "SCORE:                                                             \n",
      "0.2                                                                \n",
      "SCORE:                                                             \n",
      "0.2                                                                \n",
      "SCORE:                                                             \n",
      "0.2                                                                \n",
      "SCORE:                                                             \n",
      "0.2                                                                \n",
      "SCORE:                                                             \n",
      "0.2                                                                \n",
      "SCORE:                                                             \n",
      "0.2                                                                \n",
      "SCORE:                                                             \n",
      "0.2                                                                \n",
      "SCORE:                                                             \n",
      "0.2                                                                \n",
      "SCORE:                                                             \n",
      "0.2                                                                \n",
      "SCORE:                                                              \n",
      "0.2                                                                 \n",
      "SCORE:                                                              \n",
      "0.2                                                                 \n",
      "SCORE:                                                              \n",
      "0.2                                                                 \n",
      "SCORE:                                                              \n",
      "0.2                                                                 \n",
      "SCORE:                                                              \n",
      "0.2                                                                 \n",
      "SCORE:                                                              \n",
      "0.2                                                                 \n",
      "SCORE:                                                              \n",
      "0.2                                                                 \n",
      "SCORE:                                                              \n",
      "0.2                                                                 \n",
      "SCORE:                                                              \n",
      "0.2                                                                 \n",
      "SCORE:                                                              \n",
      "0.2                                                                 \n",
      "SCORE:                                                              \n",
      "0.2                                                                 \n",
      "SCORE:                                                              \n",
      "0.2                                                                 \n",
      "SCORE:                                                              \n",
      "0.2                                                                 \n",
      "SCORE:                                                              \n",
      "0.2                                                                 \n",
      "SCORE:                                                              \n",
      "0.2                                                                 \n",
      "SCORE:                                                              \n",
      "0.2                                                                 \n",
      "SCORE:                                                              \n",
      "0.2                                                                 \n",
      "SCORE:                                                              \n",
      "0.2                                                                 \n",
      "SCORE:                                                              \n",
      "0.2                                                                 \n",
      "SCORE:                                                              \n",
      "0.2                                                                 \n",
      "SCORE:                                                              \n",
      "0.2                                                                 \n",
      "SCORE:                                                              \n",
      "0.2                                                                 \n",
      "SCORE:                                                              \n",
      "0.2                                                                 \n",
      "SCORE:                                                              \n",
      "0.2                                                                 \n",
      "SCORE:                                                              \n",
      "0.2                                                                 \n",
      "SCORE:                                                              \n",
      "0.2                                                                 \n",
      "SCORE:                                                              \n",
      "0.2                                                                 \n",
      "SCORE:                                                              \n",
      "0.2                                                                 \n",
      "SCORE:                                                              \n",
      "0.2                                                                 \n",
      "SCORE:                                                              \n",
      "0.2                                                                 \n",
      "SCORE:                                                              \n",
      "0.2                                                                 \n",
      "SCORE:                                                              \n",
      "0.2                                                                 \n",
      "SCORE:                                                              \n",
      "0.2                                                                 \n",
      "SCORE:                                                              \n",
      "0.2                                                                 \n",
      "SCORE:                                                              \n",
      "0.2                                                                 \n",
      "SCORE:                                                              \n",
      "0.2                                                                 \n",
      "SCORE:                                                              \n",
      "0.2                                                                 \n",
      "SCORE:                                                              \n",
      "0.2                                                                 \n",
      "SCORE:                                                              \n",
      "0.2                                                                 \n",
      "SCORE:                                                              \n",
      "0.2                                                                 \n",
      "SCORE:                                                              \n",
      "0.2                                                                 \n",
      "SCORE:                                                              \n",
      "0.2                                                                 \n",
      "SCORE:                                                              \n",
      "0.2                                                                 \n",
      "SCORE:                                                              \n",
      "0.2                                                                 \n",
      "SCORE:                                                              \n",
      "0.2                                                                 \n",
      "SCORE:                                                              \n",
      "0.2                                                                 \n",
      "SCORE:                                                              \n",
      "0.2                                                                 \n",
      "SCORE:                                                              \n",
      "0.2                                                                 \n",
      "SCORE:                                                              \n",
      "0.2                                                                 \n",
      "SCORE:                                                              \n",
      "0.2                                                                 \n",
      "SCORE:                                                              \n",
      "0.2                                                                 \n",
      "SCORE:                                                              \n",
      "0.2                                                                 \n",
      "SCORE:                                                              \n",
      "0.2                                                                 \n",
      "SCORE:                                                              \n",
      "0.2                                                                 \n",
      "SCORE:                                                              \n",
      "0.2                                                                 \n",
      "SCORE:                                                              \n",
      "0.2                                                                 \n",
      "SCORE:                                                              \n",
      "0.2                                                                 \n",
      "SCORE:                                                              \n",
      "0.2                                                                 \n",
      "SCORE:                                                              \n",
      "0.2                                                                 \n",
      "SCORE:                                                              \n",
      "0.2                                                                 \n",
      "SCORE:                                                              \n",
      "0.2                                                                 \n",
      "SCORE:                                                              \n",
      "0.2                                                                 \n",
      "SCORE:                                                              \n",
      "0.2                                                                 \n",
      "SCORE:                                                              \n",
      "0.2                                                                 \n",
      "SCORE:                                                              \n",
      "0.2                                                                 \n",
      "SCORE:                                                              \n",
      "0.2                                                                 \n",
      "SCORE:                                                              \n",
      "0.2                                                                 \n",
      "SCORE:                                                              \n",
      "0.2                                                                 \n",
      "SCORE:                                                              \n",
      "0.2                                                                 \n",
      "SCORE:                                                              \n",
      "0.2                                                                 \n",
      "SCORE:                                                              \n",
      "0.2                                                                 \n",
      "SCORE:                                                              \n",
      "0.2                                                                 \n",
      "SCORE:                                                              \n",
      "0.2                                                                 \n",
      "SCORE:                                                              \n",
      "0.2                                                                 \n",
      "SCORE:                                                              \n",
      "0.2                                                                 \n",
      "SCORE:                                                              \n",
      "0.2                                                                 \n",
      "SCORE:                                                              \n",
      "0.2                                                                 \n",
      "SCORE:                                                              \n",
      "0.2                                                                 \n",
      "SCORE:                                                              \n",
      "0.2                                                                 \n",
      "SCORE:                                                              \n",
      "0.2                                                                 \n",
      "SCORE:                                                              \n",
      "0.2                                                                 \n",
      "SCORE:                                                              \n",
      "0.2                                                                 \n",
      "SCORE:                                                              \n",
      "0.2                                                                 \n",
      "SCORE:                                                              \n",
      "0.2                                                                 \n",
      "SCORE:                                                              \n",
      "0.2                                                                 \n",
      "SCORE:                                                              \n",
      "0.2                                                                 \n",
      "SCORE:                                                              \n",
      "0.2                                                                 \n",
      "SCORE:                                                              \n",
      "0.2                                                                 \n",
      "SCORE:                                                              \n",
      "0.2                                                                 \n",
      "SCORE:                                                              \n",
      "0.2                                                                 \n",
      "100%|██████████| 100/100 [06:17<00:00,  3.78s/trial, best loss: -0.2]\n"
     ]
    }
   ],
   "source": [
    "trials = Trials()\n",
    "\n",
    "best_hyperparams = fmin(fn = objective,\n",
    "                        space = params,\n",
    "                        algo = tpe.suggest,\n",
    "                        max_evals = 100,\n",
    "                        trials = trials)"
   ]
  },
  {
   "cell_type": "code",
   "execution_count": 42,
   "metadata": {},
   "outputs": [
    {
     "name": "stdout",
     "output_type": "stream",
     "text": [
      "The best hyperparameters are :  \n",
      "\n",
      "{'colsample_bytree': 0.9146307561662375, 'gamma': 7.45461619113982, 'max_depth': 12.0, 'min_child_weight': 1.0, 'reg_alpha': 136.0, 'reg_lambda': 0.9644301817451292}\n"
     ]
    }
   ],
   "source": [
    "print(\"The best hyperparameters are : \",\"\\n\")\n",
    "print(best_hyperparams)"
   ]
  },
  {
   "cell_type": "markdown",
   "metadata": {},
   "source": [
    "### XGBoost Classifier"
   ]
  },
  {
   "cell_type": "code",
   "execution_count": 45,
   "metadata": {},
   "outputs": [
    {
     "data": {
      "text/html": [
       "<style>#sk-container-id-1 {color: black;background-color: white;}#sk-container-id-1 pre{padding: 0;}#sk-container-id-1 div.sk-toggleable {background-color: white;}#sk-container-id-1 label.sk-toggleable__label {cursor: pointer;display: block;width: 100%;margin-bottom: 0;padding: 0.3em;box-sizing: border-box;text-align: center;}#sk-container-id-1 label.sk-toggleable__label-arrow:before {content: \"▸\";float: left;margin-right: 0.25em;color: #696969;}#sk-container-id-1 label.sk-toggleable__label-arrow:hover:before {color: black;}#sk-container-id-1 div.sk-estimator:hover label.sk-toggleable__label-arrow:before {color: black;}#sk-container-id-1 div.sk-toggleable__content {max-height: 0;max-width: 0;overflow: hidden;text-align: left;background-color: #f0f8ff;}#sk-container-id-1 div.sk-toggleable__content pre {margin: 0.2em;color: black;border-radius: 0.25em;background-color: #f0f8ff;}#sk-container-id-1 input.sk-toggleable__control:checked~div.sk-toggleable__content {max-height: 200px;max-width: 100%;overflow: auto;}#sk-container-id-1 input.sk-toggleable__control:checked~label.sk-toggleable__label-arrow:before {content: \"▾\";}#sk-container-id-1 div.sk-estimator input.sk-toggleable__control:checked~label.sk-toggleable__label {background-color: #d4ebff;}#sk-container-id-1 div.sk-label input.sk-toggleable__control:checked~label.sk-toggleable__label {background-color: #d4ebff;}#sk-container-id-1 input.sk-hidden--visually {border: 0;clip: rect(1px 1px 1px 1px);clip: rect(1px, 1px, 1px, 1px);height: 1px;margin: -1px;overflow: hidden;padding: 0;position: absolute;width: 1px;}#sk-container-id-1 div.sk-estimator {font-family: monospace;background-color: #f0f8ff;border: 1px dotted black;border-radius: 0.25em;box-sizing: border-box;margin-bottom: 0.5em;}#sk-container-id-1 div.sk-estimator:hover {background-color: #d4ebff;}#sk-container-id-1 div.sk-parallel-item::after {content: \"\";width: 100%;border-bottom: 1px solid gray;flex-grow: 1;}#sk-container-id-1 div.sk-label:hover label.sk-toggleable__label {background-color: #d4ebff;}#sk-container-id-1 div.sk-serial::before {content: \"\";position: absolute;border-left: 1px solid gray;box-sizing: border-box;top: 0;bottom: 0;left: 50%;z-index: 0;}#sk-container-id-1 div.sk-serial {display: flex;flex-direction: column;align-items: center;background-color: white;padding-right: 0.2em;padding-left: 0.2em;position: relative;}#sk-container-id-1 div.sk-item {position: relative;z-index: 1;}#sk-container-id-1 div.sk-parallel {display: flex;align-items: stretch;justify-content: center;background-color: white;position: relative;}#sk-container-id-1 div.sk-item::before, #sk-container-id-1 div.sk-parallel-item::before {content: \"\";position: absolute;border-left: 1px solid gray;box-sizing: border-box;top: 0;bottom: 0;left: 50%;z-index: -1;}#sk-container-id-1 div.sk-parallel-item {display: flex;flex-direction: column;z-index: 1;position: relative;background-color: white;}#sk-container-id-1 div.sk-parallel-item:first-child::after {align-self: flex-end;width: 50%;}#sk-container-id-1 div.sk-parallel-item:last-child::after {align-self: flex-start;width: 50%;}#sk-container-id-1 div.sk-parallel-item:only-child::after {width: 0;}#sk-container-id-1 div.sk-dashed-wrapped {border: 1px dashed gray;margin: 0 0.4em 0.5em 0.4em;box-sizing: border-box;padding-bottom: 0.4em;background-color: white;}#sk-container-id-1 div.sk-label label {font-family: monospace;font-weight: bold;display: inline-block;line-height: 1.2em;}#sk-container-id-1 div.sk-label-container {text-align: center;}#sk-container-id-1 div.sk-container {/* jupyter's `normalize.less` sets `[hidden] { display: none; }` but bootstrap.min.css set `[hidden] { display: none !important; }` so we also need the `!important` here to be able to override the default hidden behavior on the sphinx rendered scikit-learn.org. See: https://github.com/scikit-learn/scikit-learn/issues/21755 */display: inline-block !important;position: relative;}#sk-container-id-1 div.sk-text-repr-fallback {display: none;}</style><div id=\"sk-container-id-1\" class=\"sk-top-container\"><div class=\"sk-text-repr-fallback\"><pre>XGBClassifier(base_score=0.5, booster=&#x27;gbtree&#x27;, callbacks=None,\n",
       "              colsample_bylevel=1, colsample_bynode=1,\n",
       "              colsample_bytree=0.9146307561662375, early_stopping_rounds=None,\n",
       "              enable_categorical=False, eval_metric=None, feature_types=None,\n",
       "              gamma=7.45461619113982, gpu_id=-1, grow_policy=&#x27;depthwise&#x27;,\n",
       "              importance_type=None, interaction_constraints=&#x27;&#x27;,\n",
       "              learning_rate=0.300000012, max_bin=256, max_cat_threshold=64,\n",
       "              max_cat_to_onehot=4, max_delta_step=0, max_depth=12, max_leaves=0,\n",
       "              min_child_weight=1, missing=nan, monotone_constraints=&#x27;()&#x27;,\n",
       "              n_estimators=100, n_jobs=0, num_parallel_tree=1,\n",
       "              objective=&#x27;multi:softprob&#x27;, predictor=&#x27;auto&#x27;, ...)</pre><b>In a Jupyter environment, please rerun this cell to show the HTML representation or trust the notebook. <br />On GitHub, the HTML representation is unable to render, please try loading this page with nbviewer.org.</b></div><div class=\"sk-container\" hidden><div class=\"sk-item\"><div class=\"sk-estimator sk-toggleable\"><input class=\"sk-toggleable__control sk-hidden--visually\" id=\"sk-estimator-id-1\" type=\"checkbox\" checked><label for=\"sk-estimator-id-1\" class=\"sk-toggleable__label sk-toggleable__label-arrow\">XGBClassifier</label><div class=\"sk-toggleable__content\"><pre>XGBClassifier(base_score=0.5, booster=&#x27;gbtree&#x27;, callbacks=None,\n",
       "              colsample_bylevel=1, colsample_bynode=1,\n",
       "              colsample_bytree=0.9146307561662375, early_stopping_rounds=None,\n",
       "              enable_categorical=False, eval_metric=None, feature_types=None,\n",
       "              gamma=7.45461619113982, gpu_id=-1, grow_policy=&#x27;depthwise&#x27;,\n",
       "              importance_type=None, interaction_constraints=&#x27;&#x27;,\n",
       "              learning_rate=0.300000012, max_bin=256, max_cat_threshold=64,\n",
       "              max_cat_to_onehot=4, max_delta_step=0, max_depth=12, max_leaves=0,\n",
       "              min_child_weight=1, missing=nan, monotone_constraints=&#x27;()&#x27;,\n",
       "              n_estimators=100, n_jobs=0, num_parallel_tree=1,\n",
       "              objective=&#x27;multi:softprob&#x27;, predictor=&#x27;auto&#x27;, ...)</pre></div></div></div></div></div>"
      ],
      "text/plain": [
       "XGBClassifier(base_score=0.5, booster='gbtree', callbacks=None,\n",
       "              colsample_bylevel=1, colsample_bynode=1,\n",
       "              colsample_bytree=0.9146307561662375, early_stopping_rounds=None,\n",
       "              enable_categorical=False, eval_metric=None, feature_types=None,\n",
       "              gamma=7.45461619113982, gpu_id=-1, grow_policy='depthwise',\n",
       "              importance_type=None, interaction_constraints='',\n",
       "              learning_rate=0.300000012, max_bin=256, max_cat_threshold=64,\n",
       "              max_cat_to_onehot=4, max_delta_step=0, max_depth=12, max_leaves=0,\n",
       "              min_child_weight=1, missing=nan, monotone_constraints='()',\n",
       "              n_estimators=100, n_jobs=0, num_parallel_tree=1,\n",
       "              objective='multi:softprob', predictor='auto', ...)"
      ]
     },
     "execution_count": 45,
     "metadata": {},
     "output_type": "execute_result"
    }
   ],
   "source": [
    "## XGBoost Classifier\n",
    "xgb_clf = xgb.XGBClassifier(\n",
    "    colsample_bytree = 0.9146307561662375,\n",
    "    gamma = 7.45461619113982,\n",
    "    max_depth = 12,\n",
    "    min_child_weight = 1,\n",
    "    reg_alpha = 136,\n",
    "    reg_lambda = 0.9644301817451292,\n",
    "    seed = 42)\n",
    "xgb_clf.fit(X_train, y_train)\n"
   ]
  },
  {
   "cell_type": "markdown",
   "metadata": {},
   "source": [
    "#### accuracy on training dataset"
   ]
  },
  {
   "cell_type": "code",
   "execution_count": 48,
   "metadata": {},
   "outputs": [],
   "source": [
    "y_pred_train = xgb_clf.predict(X_train)\n",
    "y_pred_prob_train = xgb_clf.predict_proba(X_train)[:,1]"
   ]
  },
  {
   "cell_type": "code",
   "execution_count": 49,
   "metadata": {},
   "outputs": [
    {
     "name": "stdout",
     "output_type": "stream",
     "text": [
      "Accuracy:  0.7623294655899457\n"
     ]
    }
   ],
   "source": [
    "print(\"Accuracy: \", accuracy_score(y_train, y_pred_train))"
   ]
  },
  {
   "cell_type": "markdown",
   "metadata": {},
   "source": [
    "#### accuracy on testing dataset"
   ]
  },
  {
   "cell_type": "code",
   "execution_count": 50,
   "metadata": {},
   "outputs": [],
   "source": [
    "y_pred = xgb_clf.predict(X_test)\n",
    "y_pred_prob = xgb_clf.predict_proba(X_test)[:,1]"
   ]
  },
  {
   "cell_type": "code",
   "execution_count": 52,
   "metadata": {},
   "outputs": [
    {
     "name": "stdout",
     "output_type": "stream",
     "text": [
      "Accuracy:  0.7560332715112684\n",
      "Classification Report: \n",
      "               precision    recall  f1-score   support\n",
      "\n",
      "           0       0.66      0.60      0.63     35586\n",
      "           1       0.80      0.93      0.86     35586\n",
      "           2       0.90      0.92      0.91     35586\n",
      "           3       0.73      0.82      0.77     35586\n",
      "           4       0.65      0.50      0.57     35586\n",
      "\n",
      "    accuracy                           0.76    177930\n",
      "   macro avg       0.75      0.76      0.75    177930\n",
      "weighted avg       0.75      0.76      0.75    177930\n",
      "\n"
     ]
    }
   ],
   "source": [
    "print(\"Accuracy: \", accuracy_score(y_test, y_pred))\n",
    "print(\"Classification Report: \\n\", classification_report(y_test, y_pred))"
   ]
  },
  {
   "cell_type": "markdown",
   "metadata": {},
   "source": [
    "Old acuuracy: 0.7471365143595796\n",
    "new accuracy after tuning: 0.7560332715112684"
   ]
  },
  {
   "cell_type": "code",
   "execution_count": 55,
   "metadata": {},
   "outputs": [
    {
     "data": {
      "text/plain": [
       "array([[21480,  3358,  2040,  3150,  5558],\n",
       "       [ 1641, 33146,   208,   178,   413],\n",
       "       [  509,   185, 32846,  1866,   180],\n",
       "       [ 1435,  1557,    62, 29139,  3393],\n",
       "       [ 7659,  3319,  1274,  5424, 17910]], dtype=int64)"
      ]
     },
     "execution_count": 55,
     "metadata": {},
     "output_type": "execute_result"
    }
   ],
   "source": [
    "matrix = confusion_matrix(y_test, y_pred)\n",
    "matrix"
   ]
  },
  {
   "cell_type": "markdown",
   "metadata": {},
   "source": [
    "#### plotting the confusion matrix"
   ]
  },
  {
   "cell_type": "code",
   "execution_count": 57,
   "metadata": {},
   "outputs": [
    {
     "data": {
      "image/png": "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",
      "text/plain": [
       "<Figure size 640x480 with 2 Axes>"
      ]
     },
     "metadata": {},
     "output_type": "display_data"
    }
   ],
   "source": [
    "import seaborn as sns\n",
    "import matplotlib.pyplot as plt\n",
    "%matplotlib inline\n",
    "\n",
    "cm = confusion_matrix(y_test, y_pred)\n",
    "sns.heatmap(cm, annot = True, fmt = 'd')\n",
    "plt.show()"
   ]
  },
  {
   "cell_type": "code",
   "execution_count": null,
   "metadata": {},
   "outputs": [],
   "source": []
  }
 ],
 "metadata": {
  "kernelspec": {
   "display_name": "Python 3.10.4 ('ds310')",
   "language": "python",
   "name": "python3"
  },
  "language_info": {
   "codemirror_mode": {
    "name": "ipython",
    "version": 3
   },
   "file_extension": ".py",
   "mimetype": "text/x-python",
   "name": "python",
   "nbconvert_exporter": "python",
   "pygments_lexer": "ipython3",
   "version": "3.10.4"
  },
  "orig_nbformat": 4,
  "vscode": {
   "interpreter": {
    "hash": "63b2e4803ce7e3942f46ee966fefc71cfd4e8e02c791c6d06064e47494c142e1"
   }
  }
 },
 "nbformat": 4,
 "nbformat_minor": 2
}
