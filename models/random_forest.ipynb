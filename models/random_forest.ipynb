{
 "cells": [
  {
   "cell_type": "markdown",
   "metadata": {},
   "source": [
    "## Import required Libraries"
   ]
  },
  {
   "cell_type": "code",
   "execution_count": 47,
   "metadata": {},
   "outputs": [],
   "source": [
    "import pandas as pd\n",
    "import numpy as np\n",
    "import matplotlib.pyplot as plt\n",
    "import seaborn as sns\n",
    "from sklearn.tree import DecisionTreeClassifier\n",
    "from sklearn.ensemble import RandomForestClassifier\n",
    "from sklearn.metrics import classification_report, confusion_matrix\n",
    "from sklearn.model_selection import cross_val_score, RandomizedSearchCV, GridSearchCV\n",
    "from imblearn.over_sampling import SMOTE\n",
    "from sklearn.metrics import accuracy_score\n",
    "import matplotlib.pyplot as plt\n",
    "from pprint import pprint\n",
    "from tqdm import tqdm"
   ]
  },
  {
   "cell_type": "markdown",
   "metadata": {},
   "source": [
    "## Load data"
   ]
  },
  {
   "cell_type": "code",
   "execution_count": 2,
   "metadata": {},
   "outputs": [
    {
     "name": "stdout",
     "output_type": "stream",
     "text": [
      "shape of X_train:  (122289, 1044)\n",
      "shape of X_test:  (60232, 1044)\n",
      "shape of Y_train:  (122289, 5)\n",
      "shape of Y_test:  (60232, 5)\n"
     ]
    }
   ],
   "source": [
    "X_train = np.load('../data/X_train.npy', allow_pickle = True)\n",
    "X_test = np.load('../data/X_test.npy', allow_pickle = True)\n",
    "y_train = np.load('../data/y_train.npy', allow_pickle = True)\n",
    "y_test = np.load('../data/y_test.npy', allow_pickle = True)\n",
    "print(\"shape of X_train: \", X_train.shape)\n",
    "print(\"shape of X_test: \", X_test.shape)\n",
    "print(\"shape of Y_train: \", y_train.shape)\n",
    "print(\"shape of Y_test: \", y_test.shape)"
   ]
  },
  {
   "cell_type": "markdown",
   "metadata": {},
   "source": [
    "## Tuning"
   ]
  },
  {
   "cell_type": "code",
   "execution_count": 3,
   "metadata": {},
   "outputs": [],
   "source": [
    "sm = SMOTE(random_state=42)\n",
    "X_train, y_train = sm.fit_resample(X_train, y_train)\n",
    "X_test, y_test = sm.fit_resample(X_test, y_test)"
   ]
  },
  {
   "cell_type": "markdown",
   "metadata": {},
   "source": [
    "Use random gird to get some params"
   ]
  },
  {
   "cell_type": "code",
   "execution_count": 14,
   "metadata": {},
   "outputs": [
    {
     "name": "stdout",
     "output_type": "stream",
     "text": [
      "{'bootstrap': [True, False],\n",
      " 'criterion': ['gini', 'entropy'],\n",
      " 'max_depth': [2,\n",
      "               4,\n",
      "               6,\n",
      "               8,\n",
      "               10,\n",
      "               12,\n",
      "               14,\n",
      "               16,\n",
      "               18,\n",
      "               20,\n",
      "               22,\n",
      "               24,\n",
      "               26,\n",
      "               28,\n",
      "               30,\n",
      "               32,\n",
      "               34,\n",
      "               36,\n",
      "               38,\n",
      "               40,\n",
      "               42,\n",
      "               44,\n",
      "               46,\n",
      "               48,\n",
      "               50,\n",
      "               52,\n",
      "               54,\n",
      "               56,\n",
      "               58,\n",
      "               60,\n",
      "               62,\n",
      "               64,\n",
      "               66,\n",
      "               68,\n",
      "               70,\n",
      "               72,\n",
      "               74,\n",
      "               76,\n",
      "               78,\n",
      "               80,\n",
      "               82,\n",
      "               84,\n",
      "               86,\n",
      "               88,\n",
      "               90,\n",
      "               92,\n",
      "               94,\n",
      "               96,\n",
      "               98,\n",
      "               100,\n",
      "               102,\n",
      "               104,\n",
      "               106,\n",
      "               108,\n",
      "               110,\n",
      "               112,\n",
      "               114,\n",
      "               116,\n",
      "               118,\n",
      "               120,\n",
      "               122,\n",
      "               124,\n",
      "               126,\n",
      "               128,\n",
      "               130,\n",
      "               132,\n",
      "               134,\n",
      "               136,\n",
      "               138,\n",
      "               140,\n",
      "               142,\n",
      "               144,\n",
      "               146,\n",
      "               148],\n",
      " 'max_features': ['auto', 'sqrt'],\n",
      " 'min_samples_leaf': [1, 2, 4, 6, 8, 10, 20, 30, 40, 50],\n",
      " 'min_samples_split': [2, 3, 5, 7, 11, 13, 17, 19],\n",
      " 'n_estimators': [50,\n",
      "                  55,\n",
      "                  60,\n",
      "                  65,\n",
      "                  70,\n",
      "                  75,\n",
      "                  80,\n",
      "                  85,\n",
      "                  90,\n",
      "                  95,\n",
      "                  100,\n",
      "                  105,\n",
      "                  110,\n",
      "                  115,\n",
      "                  120,\n",
      "                  125,\n",
      "                  130,\n",
      "                  135,\n",
      "                  140,\n",
      "                  145,\n",
      "                  150,\n",
      "                  155,\n",
      "                  160,\n",
      "                  165,\n",
      "                  170,\n",
      "                  175,\n",
      "                  180,\n",
      "                  185,\n",
      "                  190,\n",
      "                  195,\n",
      "                  200,\n",
      "                  205,\n",
      "                  210,\n",
      "                  215,\n",
      "                  220,\n",
      "                  225,\n",
      "                  230,\n",
      "                  235,\n",
      "                  240,\n",
      "                  245,\n",
      "                  250,\n",
      "                  255,\n",
      "                  260,\n",
      "                  265,\n",
      "                  270,\n",
      "                  275,\n",
      "                  280,\n",
      "                  285,\n",
      "                  290,\n",
      "                  295,\n",
      "                  300,\n",
      "                  305,\n",
      "                  310,\n",
      "                  315,\n",
      "                  320,\n",
      "                  325,\n",
      "                  330,\n",
      "                  335,\n",
      "                  340,\n",
      "                  345,\n",
      "                  350,\n",
      "                  355,\n",
      "                  360,\n",
      "                  365,\n",
      "                  370,\n",
      "                  375,\n",
      "                  380,\n",
      "                  385,\n",
      "                  390,\n",
      "                  395,\n",
      "                  400,\n",
      "                  405,\n",
      "                  410,\n",
      "                  415,\n",
      "                  420,\n",
      "                  425,\n",
      "                  430,\n",
      "                  435,\n",
      "                  440,\n",
      "                  445,\n",
      "                  450,\n",
      "                  455,\n",
      "                  460,\n",
      "                  465,\n",
      "                  470,\n",
      "                  475,\n",
      "                  480,\n",
      "                  485,\n",
      "                  490,\n",
      "                  495]}\n"
     ]
    }
   ],
   "source": [
    "# Create the random grid\n",
    "random_grid = {'n_estimators': list(range(50,500,5)),\n",
    "               'max_features': ['auto', 'sqrt'],\n",
    "               'max_depth': list(range(2,150,2)),\n",
    "               'min_samples_split': [2,3,5,7,11,13,17,19],\n",
    "               'min_samples_leaf': [1, 2, 4,6,8,10,20,30,40,50],\n",
    "               'bootstrap': [True, False],\n",
    "               'criterion': [\"gini\", \"entropy\"]}\n",
    "pprint(random_grid)"
   ]
  },
  {
   "cell_type": "code",
   "execution_count": 15,
   "metadata": {},
   "outputs": [],
   "source": [
    "rf = RandomForestClassifier()\n",
    "rf_random = RandomizedSearchCV(estimator = rf, param_distributions = random_grid, n_iter = 100, cv = 4, verbose=2, random_state=42, n_jobs = -1)"
   ]
  },
  {
   "cell_type": "code",
   "execution_count": 16,
   "metadata": {},
   "outputs": [
    {
     "name": "stdout",
     "output_type": "stream",
     "text": [
      "Fitting 4 folds for each of 100 candidates, totalling 400 fits\n",
      "Wall time: 18min 11s\n"
     ]
    },
    {
     "data": {
      "text/html": [
       "<style>#sk-container-id-3 {color: black;background-color: white;}#sk-container-id-3 pre{padding: 0;}#sk-container-id-3 div.sk-toggleable {background-color: white;}#sk-container-id-3 label.sk-toggleable__label {cursor: pointer;display: block;width: 100%;margin-bottom: 0;padding: 0.3em;box-sizing: border-box;text-align: center;}#sk-container-id-3 label.sk-toggleable__label-arrow:before {content: \"▸\";float: left;margin-right: 0.25em;color: #696969;}#sk-container-id-3 label.sk-toggleable__label-arrow:hover:before {color: black;}#sk-container-id-3 div.sk-estimator:hover label.sk-toggleable__label-arrow:before {color: black;}#sk-container-id-3 div.sk-toggleable__content {max-height: 0;max-width: 0;overflow: hidden;text-align: left;background-color: #f0f8ff;}#sk-container-id-3 div.sk-toggleable__content pre {margin: 0.2em;color: black;border-radius: 0.25em;background-color: #f0f8ff;}#sk-container-id-3 input.sk-toggleable__control:checked~div.sk-toggleable__content {max-height: 200px;max-width: 100%;overflow: auto;}#sk-container-id-3 input.sk-toggleable__control:checked~label.sk-toggleable__label-arrow:before {content: \"▾\";}#sk-container-id-3 div.sk-estimator input.sk-toggleable__control:checked~label.sk-toggleable__label {background-color: #d4ebff;}#sk-container-id-3 div.sk-label input.sk-toggleable__control:checked~label.sk-toggleable__label {background-color: #d4ebff;}#sk-container-id-3 input.sk-hidden--visually {border: 0;clip: rect(1px 1px 1px 1px);clip: rect(1px, 1px, 1px, 1px);height: 1px;margin: -1px;overflow: hidden;padding: 0;position: absolute;width: 1px;}#sk-container-id-3 div.sk-estimator {font-family: monospace;background-color: #f0f8ff;border: 1px dotted black;border-radius: 0.25em;box-sizing: border-box;margin-bottom: 0.5em;}#sk-container-id-3 div.sk-estimator:hover {background-color: #d4ebff;}#sk-container-id-3 div.sk-parallel-item::after {content: \"\";width: 100%;border-bottom: 1px solid gray;flex-grow: 1;}#sk-container-id-3 div.sk-label:hover label.sk-toggleable__label {background-color: #d4ebff;}#sk-container-id-3 div.sk-serial::before {content: \"\";position: absolute;border-left: 1px solid gray;box-sizing: border-box;top: 0;bottom: 0;left: 50%;z-index: 0;}#sk-container-id-3 div.sk-serial {display: flex;flex-direction: column;align-items: center;background-color: white;padding-right: 0.2em;padding-left: 0.2em;position: relative;}#sk-container-id-3 div.sk-item {position: relative;z-index: 1;}#sk-container-id-3 div.sk-parallel {display: flex;align-items: stretch;justify-content: center;background-color: white;position: relative;}#sk-container-id-3 div.sk-item::before, #sk-container-id-3 div.sk-parallel-item::before {content: \"\";position: absolute;border-left: 1px solid gray;box-sizing: border-box;top: 0;bottom: 0;left: 50%;z-index: -1;}#sk-container-id-3 div.sk-parallel-item {display: flex;flex-direction: column;z-index: 1;position: relative;background-color: white;}#sk-container-id-3 div.sk-parallel-item:first-child::after {align-self: flex-end;width: 50%;}#sk-container-id-3 div.sk-parallel-item:last-child::after {align-self: flex-start;width: 50%;}#sk-container-id-3 div.sk-parallel-item:only-child::after {width: 0;}#sk-container-id-3 div.sk-dashed-wrapped {border: 1px dashed gray;margin: 0 0.4em 0.5em 0.4em;box-sizing: border-box;padding-bottom: 0.4em;background-color: white;}#sk-container-id-3 div.sk-label label {font-family: monospace;font-weight: bold;display: inline-block;line-height: 1.2em;}#sk-container-id-3 div.sk-label-container {text-align: center;}#sk-container-id-3 div.sk-container {/* jupyter's `normalize.less` sets `[hidden] { display: none; }` but bootstrap.min.css set `[hidden] { display: none !important; }` so we also need the `!important` here to be able to override the default hidden behavior on the sphinx rendered scikit-learn.org. See: https://github.com/scikit-learn/scikit-learn/issues/21755 */display: inline-block !important;position: relative;}#sk-container-id-3 div.sk-text-repr-fallback {display: none;}</style><div id=\"sk-container-id-3\" class=\"sk-top-container\"><div class=\"sk-text-repr-fallback\"><pre>RandomizedSearchCV(cv=4, estimator=RandomForestClassifier(), n_iter=100,\n",
       "                   n_jobs=-1,\n",
       "                   param_distributions={&#x27;bootstrap&#x27;: [True, False],\n",
       "                                        &#x27;criterion&#x27;: [&#x27;gini&#x27;, &#x27;entropy&#x27;],\n",
       "                                        &#x27;max_depth&#x27;: [2, 4, 6, 8, 10, 12, 14,\n",
       "                                                      16, 18, 20, 22, 24, 26,\n",
       "                                                      28, 30, 32, 34, 36, 38,\n",
       "                                                      40, 42, 44, 46, 48, 50,\n",
       "                                                      52, 54, 56, 58, 60, ...],\n",
       "                                        &#x27;max_features&#x27;: [&#x27;auto&#x27;, &#x27;sqrt&#x27;],\n",
       "                                        &#x27;min_samples_leaf&#x27;: [1, 2, 4, 6, 8, 10,\n",
       "                                                             20, 30, 40, 50],\n",
       "                                        &#x27;min_samples_split&#x27;: [2, 3, 5, 7, 11,\n",
       "                                                              13, 17, 19],\n",
       "                                        &#x27;n_estimators&#x27;: [50, 55, 60, 65, 70, 75,\n",
       "                                                         80, 85, 90, 95, 100,\n",
       "                                                         105, 110, 115, 120,\n",
       "                                                         125, 130, 135, 140,\n",
       "                                                         145, 150, 155, 160,\n",
       "                                                         165, 170, 175, 180,\n",
       "                                                         185, 190, 195, ...]},\n",
       "                   random_state=42, verbose=2)</pre><b>In a Jupyter environment, please rerun this cell to show the HTML representation or trust the notebook. <br />On GitHub, the HTML representation is unable to render, please try loading this page with nbviewer.org.</b></div><div class=\"sk-container\" hidden><div class=\"sk-item sk-dashed-wrapped\"><div class=\"sk-label-container\"><div class=\"sk-label sk-toggleable\"><input class=\"sk-toggleable__control sk-hidden--visually\" id=\"sk-estimator-id-7\" type=\"checkbox\" ><label for=\"sk-estimator-id-7\" class=\"sk-toggleable__label sk-toggleable__label-arrow\">RandomizedSearchCV</label><div class=\"sk-toggleable__content\"><pre>RandomizedSearchCV(cv=4, estimator=RandomForestClassifier(), n_iter=100,\n",
       "                   n_jobs=-1,\n",
       "                   param_distributions={&#x27;bootstrap&#x27;: [True, False],\n",
       "                                        &#x27;criterion&#x27;: [&#x27;gini&#x27;, &#x27;entropy&#x27;],\n",
       "                                        &#x27;max_depth&#x27;: [2, 4, 6, 8, 10, 12, 14,\n",
       "                                                      16, 18, 20, 22, 24, 26,\n",
       "                                                      28, 30, 32, 34, 36, 38,\n",
       "                                                      40, 42, 44, 46, 48, 50,\n",
       "                                                      52, 54, 56, 58, 60, ...],\n",
       "                                        &#x27;max_features&#x27;: [&#x27;auto&#x27;, &#x27;sqrt&#x27;],\n",
       "                                        &#x27;min_samples_leaf&#x27;: [1, 2, 4, 6, 8, 10,\n",
       "                                                             20, 30, 40, 50],\n",
       "                                        &#x27;min_samples_split&#x27;: [2, 3, 5, 7, 11,\n",
       "                                                              13, 17, 19],\n",
       "                                        &#x27;n_estimators&#x27;: [50, 55, 60, 65, 70, 75,\n",
       "                                                         80, 85, 90, 95, 100,\n",
       "                                                         105, 110, 115, 120,\n",
       "                                                         125, 130, 135, 140,\n",
       "                                                         145, 150, 155, 160,\n",
       "                                                         165, 170, 175, 180,\n",
       "                                                         185, 190, 195, ...]},\n",
       "                   random_state=42, verbose=2)</pre></div></div></div><div class=\"sk-parallel\"><div class=\"sk-parallel-item\"><div class=\"sk-item\"><div class=\"sk-label-container\"><div class=\"sk-label sk-toggleable\"><input class=\"sk-toggleable__control sk-hidden--visually\" id=\"sk-estimator-id-8\" type=\"checkbox\" ><label for=\"sk-estimator-id-8\" class=\"sk-toggleable__label sk-toggleable__label-arrow\">estimator: RandomForestClassifier</label><div class=\"sk-toggleable__content\"><pre>RandomForestClassifier()</pre></div></div></div><div class=\"sk-serial\"><div class=\"sk-item\"><div class=\"sk-estimator sk-toggleable\"><input class=\"sk-toggleable__control sk-hidden--visually\" id=\"sk-estimator-id-9\" type=\"checkbox\" ><label for=\"sk-estimator-id-9\" class=\"sk-toggleable__label sk-toggleable__label-arrow\">RandomForestClassifier</label><div class=\"sk-toggleable__content\"><pre>RandomForestClassifier()</pre></div></div></div></div></div></div></div></div></div></div>"
      ],
      "text/plain": [
       "RandomizedSearchCV(cv=4, estimator=RandomForestClassifier(), n_iter=100,\n",
       "                   n_jobs=-1,\n",
       "                   param_distributions={'bootstrap': [True, False],\n",
       "                                        'criterion': ['gini', 'entropy'],\n",
       "                                        'max_depth': [2, 4, 6, 8, 10, 12, 14,\n",
       "                                                      16, 18, 20, 22, 24, 26,\n",
       "                                                      28, 30, 32, 34, 36, 38,\n",
       "                                                      40, 42, 44, 46, 48, 50,\n",
       "                                                      52, 54, 56, 58, 60, ...],\n",
       "                                        'max_features': ['auto', 'sqrt'],\n",
       "                                        'min_samples_leaf': [1, 2, 4, 6, 8, 10,\n",
       "                                                             20, 30, 40, 50],\n",
       "                                        'min_samples_split': [2, 3, 5, 7, 11,\n",
       "                                                              13, 17, 19],\n",
       "                                        'n_estimators': [50, 55, 60, 65, 70, 75,\n",
       "                                                         80, 85, 90, 95, 100,\n",
       "                                                         105, 110, 115, 120,\n",
       "                                                         125, 130, 135, 140,\n",
       "                                                         145, 150, 155, 160,\n",
       "                                                         165, 170, 175, 180,\n",
       "                                                         185, 190, 195, ...]},\n",
       "                   random_state=42, verbose=2)"
      ]
     },
     "execution_count": 16,
     "metadata": {},
     "output_type": "execute_result"
    }
   ],
   "source": [
    "%%time\n",
    "rf_random.fit(X_train[:20000], y_train[:20000])"
   ]
  },
  {
   "cell_type": "code",
   "execution_count": 18,
   "metadata": {},
   "outputs": [
    {
     "data": {
      "text/html": [
       "<div>\n",
       "<style scoped>\n",
       "    .dataframe tbody tr th:only-of-type {\n",
       "        vertical-align: middle;\n",
       "    }\n",
       "\n",
       "    .dataframe tbody tr th {\n",
       "        vertical-align: top;\n",
       "    }\n",
       "\n",
       "    .dataframe thead th {\n",
       "        text-align: right;\n",
       "    }\n",
       "</style>\n",
       "<table border=\"1\" class=\"dataframe\">\n",
       "  <thead>\n",
       "    <tr style=\"text-align: right;\">\n",
       "      <th></th>\n",
       "      <th>mean_fit_time</th>\n",
       "      <th>std_fit_time</th>\n",
       "      <th>mean_score_time</th>\n",
       "      <th>std_score_time</th>\n",
       "      <th>param_n_estimators</th>\n",
       "      <th>param_min_samples_split</th>\n",
       "      <th>param_min_samples_leaf</th>\n",
       "      <th>param_max_features</th>\n",
       "      <th>param_max_depth</th>\n",
       "      <th>param_criterion</th>\n",
       "      <th>param_bootstrap</th>\n",
       "      <th>params</th>\n",
       "      <th>split0_test_score</th>\n",
       "      <th>split1_test_score</th>\n",
       "      <th>split2_test_score</th>\n",
       "      <th>split3_test_score</th>\n",
       "      <th>mean_test_score</th>\n",
       "      <th>std_test_score</th>\n",
       "      <th>rank_test_score</th>\n",
       "    </tr>\n",
       "  </thead>\n",
       "  <tbody>\n",
       "    <tr>\n",
       "      <th>39</th>\n",
       "      <td>33.719624</td>\n",
       "      <td>1.174141</td>\n",
       "      <td>0.617840</td>\n",
       "      <td>0.051669</td>\n",
       "      <td>90</td>\n",
       "      <td>19</td>\n",
       "      <td>2</td>\n",
       "      <td>sqrt</td>\n",
       "      <td>122</td>\n",
       "      <td>gini</td>\n",
       "      <td>False</td>\n",
       "      <td>{'n_estimators': 90, 'min_samples_split': 19, ...</td>\n",
       "      <td>0.6416</td>\n",
       "      <td>0.6488</td>\n",
       "      <td>0.6510</td>\n",
       "      <td>0.6374</td>\n",
       "      <td>0.64470</td>\n",
       "      <td>0.005464</td>\n",
       "      <td>1</td>\n",
       "    </tr>\n",
       "    <tr>\n",
       "      <th>85</th>\n",
       "      <td>148.230737</td>\n",
       "      <td>5.142424</td>\n",
       "      <td>2.883075</td>\n",
       "      <td>0.216675</td>\n",
       "      <td>445</td>\n",
       "      <td>17</td>\n",
       "      <td>2</td>\n",
       "      <td>sqrt</td>\n",
       "      <td>92</td>\n",
       "      <td>entropy</td>\n",
       "      <td>False</td>\n",
       "      <td>{'n_estimators': 445, 'min_samples_split': 17,...</td>\n",
       "      <td>0.6450</td>\n",
       "      <td>0.6488</td>\n",
       "      <td>0.6490</td>\n",
       "      <td>0.6354</td>\n",
       "      <td>0.64455</td>\n",
       "      <td>0.005518</td>\n",
       "      <td>2</td>\n",
       "    </tr>\n",
       "    <tr>\n",
       "      <th>43</th>\n",
       "      <td>170.796550</td>\n",
       "      <td>4.944538</td>\n",
       "      <td>3.483998</td>\n",
       "      <td>0.176174</td>\n",
       "      <td>495</td>\n",
       "      <td>3</td>\n",
       "      <td>2</td>\n",
       "      <td>sqrt</td>\n",
       "      <td>134</td>\n",
       "      <td>entropy</td>\n",
       "      <td>False</td>\n",
       "      <td>{'n_estimators': 495, 'min_samples_split': 3, ...</td>\n",
       "      <td>0.6440</td>\n",
       "      <td>0.6500</td>\n",
       "      <td>0.6438</td>\n",
       "      <td>0.6346</td>\n",
       "      <td>0.64310</td>\n",
       "      <td>0.005504</td>\n",
       "      <td>3</td>\n",
       "    </tr>\n",
       "    <tr>\n",
       "      <th>0</th>\n",
       "      <td>34.776253</td>\n",
       "      <td>1.823545</td>\n",
       "      <td>1.011561</td>\n",
       "      <td>0.058326</td>\n",
       "      <td>165</td>\n",
       "      <td>2</td>\n",
       "      <td>2</td>\n",
       "      <td>sqrt</td>\n",
       "      <td>88</td>\n",
       "      <td>entropy</td>\n",
       "      <td>True</td>\n",
       "      <td>{'n_estimators': 165, 'min_samples_split': 2, ...</td>\n",
       "      <td>0.6380</td>\n",
       "      <td>0.6496</td>\n",
       "      <td>0.6474</td>\n",
       "      <td>0.6304</td>\n",
       "      <td>0.64135</td>\n",
       "      <td>0.007678</td>\n",
       "      <td>4</td>\n",
       "    </tr>\n",
       "    <tr>\n",
       "      <th>62</th>\n",
       "      <td>84.063844</td>\n",
       "      <td>0.881883</td>\n",
       "      <td>2.532242</td>\n",
       "      <td>0.129367</td>\n",
       "      <td>430</td>\n",
       "      <td>17</td>\n",
       "      <td>2</td>\n",
       "      <td>auto</td>\n",
       "      <td>36</td>\n",
       "      <td>entropy</td>\n",
       "      <td>True</td>\n",
       "      <td>{'n_estimators': 430, 'min_samples_split': 17,...</td>\n",
       "      <td>0.6388</td>\n",
       "      <td>0.6464</td>\n",
       "      <td>0.6442</td>\n",
       "      <td>0.6318</td>\n",
       "      <td>0.64030</td>\n",
       "      <td>0.005633</td>\n",
       "      <td>5</td>\n",
       "    </tr>\n",
       "  </tbody>\n",
       "</table>\n",
       "</div>"
      ],
      "text/plain": [
       "    mean_fit_time  std_fit_time  mean_score_time  std_score_time  \\\n",
       "39      33.719624      1.174141         0.617840        0.051669   \n",
       "85     148.230737      5.142424         2.883075        0.216675   \n",
       "43     170.796550      4.944538         3.483998        0.176174   \n",
       "0       34.776253      1.823545         1.011561        0.058326   \n",
       "62      84.063844      0.881883         2.532242        0.129367   \n",
       "\n",
       "   param_n_estimators param_min_samples_split param_min_samples_leaf  \\\n",
       "39                 90                      19                      2   \n",
       "85                445                      17                      2   \n",
       "43                495                       3                      2   \n",
       "0                 165                       2                      2   \n",
       "62                430                      17                      2   \n",
       "\n",
       "   param_max_features param_max_depth param_criterion param_bootstrap  \\\n",
       "39               sqrt             122            gini           False   \n",
       "85               sqrt              92         entropy           False   \n",
       "43               sqrt             134         entropy           False   \n",
       "0                sqrt              88         entropy            True   \n",
       "62               auto              36         entropy            True   \n",
       "\n",
       "                                               params  split0_test_score  \\\n",
       "39  {'n_estimators': 90, 'min_samples_split': 19, ...             0.6416   \n",
       "85  {'n_estimators': 445, 'min_samples_split': 17,...             0.6450   \n",
       "43  {'n_estimators': 495, 'min_samples_split': 3, ...             0.6440   \n",
       "0   {'n_estimators': 165, 'min_samples_split': 2, ...             0.6380   \n",
       "62  {'n_estimators': 430, 'min_samples_split': 17,...             0.6388   \n",
       "\n",
       "    split1_test_score  split2_test_score  split3_test_score  mean_test_score  \\\n",
       "39             0.6488             0.6510             0.6374          0.64470   \n",
       "85             0.6488             0.6490             0.6354          0.64455   \n",
       "43             0.6500             0.6438             0.6346          0.64310   \n",
       "0              0.6496             0.6474             0.6304          0.64135   \n",
       "62             0.6464             0.6442             0.6318          0.64030   \n",
       "\n",
       "    std_test_score  rank_test_score  \n",
       "39        0.005464                1  \n",
       "85        0.005518                2  \n",
       "43        0.005504                3  \n",
       "0         0.007678                4  \n",
       "62        0.005633                5  "
      ]
     },
     "execution_count": 18,
     "metadata": {},
     "output_type": "execute_result"
    }
   ],
   "source": [
    "score_df = pd.DataFrame(rf_random.cv_results_)\n",
    "score_df.sort_values(by=['rank_test_score'], ascending=True).head()"
   ]
  },
  {
   "cell_type": "code",
   "execution_count": 19,
   "metadata": {},
   "outputs": [
    {
     "data": {
      "text/plain": [
       "{'n_estimators': 90,\n",
       " 'min_samples_split': 19,\n",
       " 'min_samples_leaf': 2,\n",
       " 'max_features': 'sqrt',\n",
       " 'max_depth': 122,\n",
       " 'criterion': 'gini',\n",
       " 'bootstrap': False}"
      ]
     },
     "execution_count": 19,
     "metadata": {},
     "output_type": "execute_result"
    }
   ],
   "source": [
    "score_df.sort_values(by=['rank_test_score'], ascending=True).reset_index().loc[0,'params']"
   ]
  },
  {
   "cell_type": "code",
   "execution_count": 20,
   "metadata": {},
   "outputs": [
    {
     "data": {
      "text/plain": [
       "{'n_estimators': 445,\n",
       " 'min_samples_split': 17,\n",
       " 'min_samples_leaf': 2,\n",
       " 'max_features': 'sqrt',\n",
       " 'max_depth': 92,\n",
       " 'criterion': 'entropy',\n",
       " 'bootstrap': False}"
      ]
     },
     "execution_count": 20,
     "metadata": {},
     "output_type": "execute_result"
    }
   ],
   "source": [
    "score_df.sort_values(by=['rank_test_score'], ascending=True).reset_index().loc[1,'params']"
   ]
  },
  {
   "cell_type": "markdown",
   "metadata": {},
   "source": [
    "with the result, we can try to get a more accurate parameter range for grid search"
   ]
  },
  {
   "cell_type": "code",
   "execution_count": 21,
   "metadata": {},
   "outputs": [],
   "source": [
    "sorted_score_df = score_df.sort_values(by=['rank_test_score'], ascending=True).reset_index()"
   ]
  },
  {
   "cell_type": "code",
   "execution_count": 32,
   "metadata": {},
   "outputs": [
    {
     "data": {
      "text/html": [
       "<div>\n",
       "<style scoped>\n",
       "    .dataframe tbody tr th:only-of-type {\n",
       "        vertical-align: middle;\n",
       "    }\n",
       "\n",
       "    .dataframe tbody tr th {\n",
       "        vertical-align: top;\n",
       "    }\n",
       "\n",
       "    .dataframe thead th {\n",
       "        text-align: right;\n",
       "    }\n",
       "</style>\n",
       "<table border=\"1\" class=\"dataframe\">\n",
       "  <thead>\n",
       "    <tr style=\"text-align: right;\">\n",
       "      <th></th>\n",
       "      <th>n_estimators</th>\n",
       "      <th>min_samples_split</th>\n",
       "      <th>min_samples_leaf</th>\n",
       "      <th>max_features</th>\n",
       "      <th>max_depth</th>\n",
       "      <th>criterion</th>\n",
       "      <th>bootstrap</th>\n",
       "    </tr>\n",
       "  </thead>\n",
       "  <tbody>\n",
       "    <tr>\n",
       "      <th>0</th>\n",
       "      <td>90</td>\n",
       "      <td>19</td>\n",
       "      <td>2</td>\n",
       "      <td>sqrt</td>\n",
       "      <td>122</td>\n",
       "      <td>gini</td>\n",
       "      <td>False</td>\n",
       "    </tr>\n",
       "    <tr>\n",
       "      <th>1</th>\n",
       "      <td>445</td>\n",
       "      <td>17</td>\n",
       "      <td>2</td>\n",
       "      <td>sqrt</td>\n",
       "      <td>92</td>\n",
       "      <td>entropy</td>\n",
       "      <td>False</td>\n",
       "    </tr>\n",
       "    <tr>\n",
       "      <th>2</th>\n",
       "      <td>495</td>\n",
       "      <td>3</td>\n",
       "      <td>2</td>\n",
       "      <td>sqrt</td>\n",
       "      <td>134</td>\n",
       "      <td>entropy</td>\n",
       "      <td>False</td>\n",
       "    </tr>\n",
       "    <tr>\n",
       "      <th>3</th>\n",
       "      <td>165</td>\n",
       "      <td>2</td>\n",
       "      <td>2</td>\n",
       "      <td>sqrt</td>\n",
       "      <td>88</td>\n",
       "      <td>entropy</td>\n",
       "      <td>True</td>\n",
       "    </tr>\n",
       "    <tr>\n",
       "      <th>4</th>\n",
       "      <td>430</td>\n",
       "      <td>17</td>\n",
       "      <td>2</td>\n",
       "      <td>auto</td>\n",
       "      <td>36</td>\n",
       "      <td>entropy</td>\n",
       "      <td>True</td>\n",
       "    </tr>\n",
       "    <tr>\n",
       "      <th>5</th>\n",
       "      <td>365</td>\n",
       "      <td>19</td>\n",
       "      <td>2</td>\n",
       "      <td>auto</td>\n",
       "      <td>26</td>\n",
       "      <td>gini</td>\n",
       "      <td>False</td>\n",
       "    </tr>\n",
       "    <tr>\n",
       "      <th>6</th>\n",
       "      <td>85</td>\n",
       "      <td>19</td>\n",
       "      <td>2</td>\n",
       "      <td>auto</td>\n",
       "      <td>28</td>\n",
       "      <td>entropy</td>\n",
       "      <td>False</td>\n",
       "    </tr>\n",
       "    <tr>\n",
       "      <th>7</th>\n",
       "      <td>90</td>\n",
       "      <td>17</td>\n",
       "      <td>4</td>\n",
       "      <td>sqrt</td>\n",
       "      <td>42</td>\n",
       "      <td>gini</td>\n",
       "      <td>False</td>\n",
       "    </tr>\n",
       "    <tr>\n",
       "      <th>8</th>\n",
       "      <td>260</td>\n",
       "      <td>5</td>\n",
       "      <td>4</td>\n",
       "      <td>sqrt</td>\n",
       "      <td>128</td>\n",
       "      <td>gini</td>\n",
       "      <td>False</td>\n",
       "    </tr>\n",
       "    <tr>\n",
       "      <th>9</th>\n",
       "      <td>295</td>\n",
       "      <td>2</td>\n",
       "      <td>4</td>\n",
       "      <td>sqrt</td>\n",
       "      <td>60</td>\n",
       "      <td>gini</td>\n",
       "      <td>False</td>\n",
       "    </tr>\n",
       "  </tbody>\n",
       "</table>\n",
       "</div>"
      ],
      "text/plain": [
       "   n_estimators  min_samples_split  min_samples_leaf max_features  max_depth  \\\n",
       "0            90                 19                 2         sqrt        122   \n",
       "1           445                 17                 2         sqrt         92   \n",
       "2           495                  3                 2         sqrt        134   \n",
       "3           165                  2                 2         sqrt         88   \n",
       "4           430                 17                 2         auto         36   \n",
       "5           365                 19                 2         auto         26   \n",
       "6            85                 19                 2         auto         28   \n",
       "7            90                 17                 4         sqrt         42   \n",
       "8           260                  5                 4         sqrt        128   \n",
       "9           295                  2                 4         sqrt         60   \n",
       "\n",
       "  criterion  bootstrap  \n",
       "0      gini      False  \n",
       "1   entropy      False  \n",
       "2   entropy      False  \n",
       "3   entropy       True  \n",
       "4   entropy       True  \n",
       "5      gini      False  \n",
       "6   entropy      False  \n",
       "7      gini      False  \n",
       "8      gini      False  \n",
       "9      gini      False  "
      ]
     },
     "execution_count": 32,
     "metadata": {},
     "output_type": "execute_result"
    }
   ],
   "source": [
    "# Get top 10 parameters\n",
    "df_top_10 = pd.DataFrame(list(sorted_score_df.loc[:9,'params']))\n",
    "df_top_10"
   ]
  },
  {
   "cell_type": "code",
   "execution_count": 42,
   "metadata": {},
   "outputs": [
    {
     "name": "stdout",
     "output_type": "stream",
     "text": [
      "n_estimator:\n",
      "  min: 85 max: 495\n",
      "min_samples_split:\n",
      "  min: 2 max: 19\n",
      "min_samples_leaf:\n",
      "  min: 2 max: 4\n",
      "max_features\n",
      "gini       5\n",
      "entropy    5\n",
      "Name: criterion, dtype: int64\n",
      "max_depth:\n",
      "  min: 26 max: 134\n",
      "criterion\n",
      "gini       5\n",
      "entropy    5\n",
      "Name: criterion, dtype: int64\n",
      "bootstrap\n",
      "False    8\n",
      "True     2\n",
      "Name: bootstrap, dtype: int64\n"
     ]
    }
   ],
   "source": [
    "print(\"n_estimator:\")\n",
    "print(\"  min:\",df_top_10['n_estimators'].min(),\"max:\",df_top_10['n_estimators'].max())\n",
    "print(\"min_samples_split:\")\n",
    "print(\"  min:\",df_top_10['min_samples_split'].min(),\"max:\",df_top_10['min_samples_split'].max())\n",
    "print(\"min_samples_leaf:\")\n",
    "print(\"  min:\",df_top_10['min_samples_leaf'].min(),\"max:\",df_top_10['min_samples_leaf'].max())\n",
    "print(\"max_features\")\n",
    "print(df_top_10[\"criterion\"].value_counts())\n",
    "print(\"max_depth:\")\n",
    "print(\"  min:\",df_top_10['max_depth'].min(),\"max:\",df_top_10['max_depth'].max())\n",
    "print(\"criterion\")\n",
    "print(df_top_10[\"criterion\"].value_counts())\n",
    "print(\"bootstrap\")\n",
    "print(df_top_10[\"bootstrap\"].value_counts())"
   ]
  },
  {
   "cell_type": "code",
   "execution_count": 49,
   "metadata": {},
   "outputs": [
    {
     "name": "stdout",
     "output_type": "stream",
     "text": [
      "{'bootstrap': [False],\n",
      " 'criterion': ['gini', 'entropy'],\n",
      " 'max_depth': [26, 62, 98],\n",
      " 'max_features': ['auto', 'sqrt'],\n",
      " 'min_samples_leaf': [2, 4],\n",
      " 'min_samples_split': [2, 3, 17, 19],\n",
      " 'n_estimators': [85, 249, 413]}\n"
     ]
    }
   ],
   "source": [
    "# Create a new grid\n",
    "params_grid = {'n_estimators': list(range(85 ,495,164)),\n",
    "               'max_features': ['auto', 'sqrt'],\n",
    "               'max_depth': list(range(26 ,134,36)),\n",
    "               'min_samples_split': [2,3,17,19],\n",
    "               'min_samples_leaf': [2,4],\n",
    "               'bootstrap': [False],\n",
    "               'criterion': [\"gini\", \"entropy\"]}\n",
    "pprint(params_grid)"
   ]
  },
  {
   "cell_type": "code",
   "execution_count": 51,
   "metadata": {},
   "outputs": [],
   "source": [
    "rf_grid = GridSearchCV(estimator=rf, \n",
    "                           param_grid=params_grid, \n",
    "                           cv=5, n_jobs=-1, verbose=2, scoring = \"accuracy\")"
   ]
  },
  {
   "cell_type": "code",
   "execution_count": 52,
   "metadata": {},
   "outputs": [
    {
     "name": "stdout",
     "output_type": "stream",
     "text": [
      "Fitting 5 folds for each of 288 candidates, totalling 1440 fits\n"
     ]
    },
    {
     "name": "stderr",
     "output_type": "stream",
     "text": [
      "c:\\Users\\bobmst\\.conda\\envs\\ds310\\lib\\site-packages\\sklearn\\ensemble\\_forest.py:427: FutureWarning: `max_features='auto'` has been deprecated in 1.1 and will be removed in 1.3. To keep the past behaviour, explicitly set `max_features='sqrt'` or remove this parameter as it is also the default value for RandomForestClassifiers and ExtraTreesClassifiers.\n",
      "  warn(\n"
     ]
    },
    {
     "name": "stdout",
     "output_type": "stream",
     "text": [
      "Wall time: 41min 24s\n"
     ]
    },
    {
     "data": {
      "text/html": [
       "<style>#sk-container-id-4 {color: black;background-color: white;}#sk-container-id-4 pre{padding: 0;}#sk-container-id-4 div.sk-toggleable {background-color: white;}#sk-container-id-4 label.sk-toggleable__label {cursor: pointer;display: block;width: 100%;margin-bottom: 0;padding: 0.3em;box-sizing: border-box;text-align: center;}#sk-container-id-4 label.sk-toggleable__label-arrow:before {content: \"▸\";float: left;margin-right: 0.25em;color: #696969;}#sk-container-id-4 label.sk-toggleable__label-arrow:hover:before {color: black;}#sk-container-id-4 div.sk-estimator:hover label.sk-toggleable__label-arrow:before {color: black;}#sk-container-id-4 div.sk-toggleable__content {max-height: 0;max-width: 0;overflow: hidden;text-align: left;background-color: #f0f8ff;}#sk-container-id-4 div.sk-toggleable__content pre {margin: 0.2em;color: black;border-radius: 0.25em;background-color: #f0f8ff;}#sk-container-id-4 input.sk-toggleable__control:checked~div.sk-toggleable__content {max-height: 200px;max-width: 100%;overflow: auto;}#sk-container-id-4 input.sk-toggleable__control:checked~label.sk-toggleable__label-arrow:before {content: \"▾\";}#sk-container-id-4 div.sk-estimator input.sk-toggleable__control:checked~label.sk-toggleable__label {background-color: #d4ebff;}#sk-container-id-4 div.sk-label input.sk-toggleable__control:checked~label.sk-toggleable__label {background-color: #d4ebff;}#sk-container-id-4 input.sk-hidden--visually {border: 0;clip: rect(1px 1px 1px 1px);clip: rect(1px, 1px, 1px, 1px);height: 1px;margin: -1px;overflow: hidden;padding: 0;position: absolute;width: 1px;}#sk-container-id-4 div.sk-estimator {font-family: monospace;background-color: #f0f8ff;border: 1px dotted black;border-radius: 0.25em;box-sizing: border-box;margin-bottom: 0.5em;}#sk-container-id-4 div.sk-estimator:hover {background-color: #d4ebff;}#sk-container-id-4 div.sk-parallel-item::after {content: \"\";width: 100%;border-bottom: 1px solid gray;flex-grow: 1;}#sk-container-id-4 div.sk-label:hover label.sk-toggleable__label {background-color: #d4ebff;}#sk-container-id-4 div.sk-serial::before {content: \"\";position: absolute;border-left: 1px solid gray;box-sizing: border-box;top: 0;bottom: 0;left: 50%;z-index: 0;}#sk-container-id-4 div.sk-serial {display: flex;flex-direction: column;align-items: center;background-color: white;padding-right: 0.2em;padding-left: 0.2em;position: relative;}#sk-container-id-4 div.sk-item {position: relative;z-index: 1;}#sk-container-id-4 div.sk-parallel {display: flex;align-items: stretch;justify-content: center;background-color: white;position: relative;}#sk-container-id-4 div.sk-item::before, #sk-container-id-4 div.sk-parallel-item::before {content: \"\";position: absolute;border-left: 1px solid gray;box-sizing: border-box;top: 0;bottom: 0;left: 50%;z-index: -1;}#sk-container-id-4 div.sk-parallel-item {display: flex;flex-direction: column;z-index: 1;position: relative;background-color: white;}#sk-container-id-4 div.sk-parallel-item:first-child::after {align-self: flex-end;width: 50%;}#sk-container-id-4 div.sk-parallel-item:last-child::after {align-self: flex-start;width: 50%;}#sk-container-id-4 div.sk-parallel-item:only-child::after {width: 0;}#sk-container-id-4 div.sk-dashed-wrapped {border: 1px dashed gray;margin: 0 0.4em 0.5em 0.4em;box-sizing: border-box;padding-bottom: 0.4em;background-color: white;}#sk-container-id-4 div.sk-label label {font-family: monospace;font-weight: bold;display: inline-block;line-height: 1.2em;}#sk-container-id-4 div.sk-label-container {text-align: center;}#sk-container-id-4 div.sk-container {/* jupyter's `normalize.less` sets `[hidden] { display: none; }` but bootstrap.min.css set `[hidden] { display: none !important; }` so we also need the `!important` here to be able to override the default hidden behavior on the sphinx rendered scikit-learn.org. See: https://github.com/scikit-learn/scikit-learn/issues/21755 */display: inline-block !important;position: relative;}#sk-container-id-4 div.sk-text-repr-fallback {display: none;}</style><div id=\"sk-container-id-4\" class=\"sk-top-container\"><div class=\"sk-text-repr-fallback\"><pre>GridSearchCV(cv=5, estimator=RandomForestClassifier(), n_jobs=-1,\n",
       "             param_grid={&#x27;bootstrap&#x27;: [False], &#x27;criterion&#x27;: [&#x27;gini&#x27;, &#x27;entropy&#x27;],\n",
       "                         &#x27;max_depth&#x27;: [26, 62, 98],\n",
       "                         &#x27;max_features&#x27;: [&#x27;auto&#x27;, &#x27;sqrt&#x27;],\n",
       "                         &#x27;min_samples_leaf&#x27;: [2, 4],\n",
       "                         &#x27;min_samples_split&#x27;: [2, 3, 17, 19],\n",
       "                         &#x27;n_estimators&#x27;: [85, 249, 413]},\n",
       "             scoring=&#x27;accuracy&#x27;, verbose=2)</pre><b>In a Jupyter environment, please rerun this cell to show the HTML representation or trust the notebook. <br />On GitHub, the HTML representation is unable to render, please try loading this page with nbviewer.org.</b></div><div class=\"sk-container\" hidden><div class=\"sk-item sk-dashed-wrapped\"><div class=\"sk-label-container\"><div class=\"sk-label sk-toggleable\"><input class=\"sk-toggleable__control sk-hidden--visually\" id=\"sk-estimator-id-10\" type=\"checkbox\" ><label for=\"sk-estimator-id-10\" class=\"sk-toggleable__label sk-toggleable__label-arrow\">GridSearchCV</label><div class=\"sk-toggleable__content\"><pre>GridSearchCV(cv=5, estimator=RandomForestClassifier(), n_jobs=-1,\n",
       "             param_grid={&#x27;bootstrap&#x27;: [False], &#x27;criterion&#x27;: [&#x27;gini&#x27;, &#x27;entropy&#x27;],\n",
       "                         &#x27;max_depth&#x27;: [26, 62, 98],\n",
       "                         &#x27;max_features&#x27;: [&#x27;auto&#x27;, &#x27;sqrt&#x27;],\n",
       "                         &#x27;min_samples_leaf&#x27;: [2, 4],\n",
       "                         &#x27;min_samples_split&#x27;: [2, 3, 17, 19],\n",
       "                         &#x27;n_estimators&#x27;: [85, 249, 413]},\n",
       "             scoring=&#x27;accuracy&#x27;, verbose=2)</pre></div></div></div><div class=\"sk-parallel\"><div class=\"sk-parallel-item\"><div class=\"sk-item\"><div class=\"sk-label-container\"><div class=\"sk-label sk-toggleable\"><input class=\"sk-toggleable__control sk-hidden--visually\" id=\"sk-estimator-id-11\" type=\"checkbox\" ><label for=\"sk-estimator-id-11\" class=\"sk-toggleable__label sk-toggleable__label-arrow\">estimator: RandomForestClassifier</label><div class=\"sk-toggleable__content\"><pre>RandomForestClassifier()</pre></div></div></div><div class=\"sk-serial\"><div class=\"sk-item\"><div class=\"sk-estimator sk-toggleable\"><input class=\"sk-toggleable__control sk-hidden--visually\" id=\"sk-estimator-id-12\" type=\"checkbox\" ><label for=\"sk-estimator-id-12\" class=\"sk-toggleable__label sk-toggleable__label-arrow\">RandomForestClassifier</label><div class=\"sk-toggleable__content\"><pre>RandomForestClassifier()</pre></div></div></div></div></div></div></div></div></div></div>"
      ],
      "text/plain": [
       "GridSearchCV(cv=5, estimator=RandomForestClassifier(), n_jobs=-1,\n",
       "             param_grid={'bootstrap': [False], 'criterion': ['gini', 'entropy'],\n",
       "                         'max_depth': [26, 62, 98],\n",
       "                         'max_features': ['auto', 'sqrt'],\n",
       "                         'min_samples_leaf': [2, 4],\n",
       "                         'min_samples_split': [2, 3, 17, 19],\n",
       "                         'n_estimators': [85, 249, 413]},\n",
       "             scoring='accuracy', verbose=2)"
      ]
     },
     "execution_count": 52,
     "metadata": {},
     "output_type": "execute_result"
    }
   ],
   "source": [
    "%%time\n",
    "rf_grid.fit(X_train[:10000], y_train[:10000])"
   ]
  },
  {
   "cell_type": "code",
   "execution_count": 53,
   "metadata": {},
   "outputs": [
    {
     "data": {
      "text/html": [
       "<div>\n",
       "<style scoped>\n",
       "    .dataframe tbody tr th:only-of-type {\n",
       "        vertical-align: middle;\n",
       "    }\n",
       "\n",
       "    .dataframe tbody tr th {\n",
       "        vertical-align: top;\n",
       "    }\n",
       "\n",
       "    .dataframe thead th {\n",
       "        text-align: right;\n",
       "    }\n",
       "</style>\n",
       "<table border=\"1\" class=\"dataframe\">\n",
       "  <thead>\n",
       "    <tr style=\"text-align: right;\">\n",
       "      <th></th>\n",
       "      <th>mean_fit_time</th>\n",
       "      <th>std_fit_time</th>\n",
       "      <th>mean_score_time</th>\n",
       "      <th>std_score_time</th>\n",
       "      <th>param_n_estimators</th>\n",
       "      <th>param_min_samples_split</th>\n",
       "      <th>param_min_samples_leaf</th>\n",
       "      <th>param_max_features</th>\n",
       "      <th>param_max_depth</th>\n",
       "      <th>param_criterion</th>\n",
       "      <th>param_bootstrap</th>\n",
       "      <th>params</th>\n",
       "      <th>split0_test_score</th>\n",
       "      <th>split1_test_score</th>\n",
       "      <th>split2_test_score</th>\n",
       "      <th>split3_test_score</th>\n",
       "      <th>mean_test_score</th>\n",
       "      <th>std_test_score</th>\n",
       "      <th>rank_test_score</th>\n",
       "    </tr>\n",
       "  </thead>\n",
       "  <tbody>\n",
       "    <tr>\n",
       "      <th>39</th>\n",
       "      <td>33.719624</td>\n",
       "      <td>1.174141</td>\n",
       "      <td>0.617840</td>\n",
       "      <td>0.051669</td>\n",
       "      <td>90</td>\n",
       "      <td>19</td>\n",
       "      <td>2</td>\n",
       "      <td>sqrt</td>\n",
       "      <td>122</td>\n",
       "      <td>gini</td>\n",
       "      <td>False</td>\n",
       "      <td>{'n_estimators': 90, 'min_samples_split': 19, ...</td>\n",
       "      <td>0.6416</td>\n",
       "      <td>0.6488</td>\n",
       "      <td>0.6510</td>\n",
       "      <td>0.6374</td>\n",
       "      <td>0.64470</td>\n",
       "      <td>0.005464</td>\n",
       "      <td>1</td>\n",
       "    </tr>\n",
       "    <tr>\n",
       "      <th>85</th>\n",
       "      <td>148.230737</td>\n",
       "      <td>5.142424</td>\n",
       "      <td>2.883075</td>\n",
       "      <td>0.216675</td>\n",
       "      <td>445</td>\n",
       "      <td>17</td>\n",
       "      <td>2</td>\n",
       "      <td>sqrt</td>\n",
       "      <td>92</td>\n",
       "      <td>entropy</td>\n",
       "      <td>False</td>\n",
       "      <td>{'n_estimators': 445, 'min_samples_split': 17,...</td>\n",
       "      <td>0.6450</td>\n",
       "      <td>0.6488</td>\n",
       "      <td>0.6490</td>\n",
       "      <td>0.6354</td>\n",
       "      <td>0.64455</td>\n",
       "      <td>0.005518</td>\n",
       "      <td>2</td>\n",
       "    </tr>\n",
       "    <tr>\n",
       "      <th>43</th>\n",
       "      <td>170.796550</td>\n",
       "      <td>4.944538</td>\n",
       "      <td>3.483998</td>\n",
       "      <td>0.176174</td>\n",
       "      <td>495</td>\n",
       "      <td>3</td>\n",
       "      <td>2</td>\n",
       "      <td>sqrt</td>\n",
       "      <td>134</td>\n",
       "      <td>entropy</td>\n",
       "      <td>False</td>\n",
       "      <td>{'n_estimators': 495, 'min_samples_split': 3, ...</td>\n",
       "      <td>0.6440</td>\n",
       "      <td>0.6500</td>\n",
       "      <td>0.6438</td>\n",
       "      <td>0.6346</td>\n",
       "      <td>0.64310</td>\n",
       "      <td>0.005504</td>\n",
       "      <td>3</td>\n",
       "    </tr>\n",
       "    <tr>\n",
       "      <th>0</th>\n",
       "      <td>34.776253</td>\n",
       "      <td>1.823545</td>\n",
       "      <td>1.011561</td>\n",
       "      <td>0.058326</td>\n",
       "      <td>165</td>\n",
       "      <td>2</td>\n",
       "      <td>2</td>\n",
       "      <td>sqrt</td>\n",
       "      <td>88</td>\n",
       "      <td>entropy</td>\n",
       "      <td>True</td>\n",
       "      <td>{'n_estimators': 165, 'min_samples_split': 2, ...</td>\n",
       "      <td>0.6380</td>\n",
       "      <td>0.6496</td>\n",
       "      <td>0.6474</td>\n",
       "      <td>0.6304</td>\n",
       "      <td>0.64135</td>\n",
       "      <td>0.007678</td>\n",
       "      <td>4</td>\n",
       "    </tr>\n",
       "    <tr>\n",
       "      <th>62</th>\n",
       "      <td>84.063844</td>\n",
       "      <td>0.881883</td>\n",
       "      <td>2.532242</td>\n",
       "      <td>0.129367</td>\n",
       "      <td>430</td>\n",
       "      <td>17</td>\n",
       "      <td>2</td>\n",
       "      <td>auto</td>\n",
       "      <td>36</td>\n",
       "      <td>entropy</td>\n",
       "      <td>True</td>\n",
       "      <td>{'n_estimators': 430, 'min_samples_split': 17,...</td>\n",
       "      <td>0.6388</td>\n",
       "      <td>0.6464</td>\n",
       "      <td>0.6442</td>\n",
       "      <td>0.6318</td>\n",
       "      <td>0.64030</td>\n",
       "      <td>0.005633</td>\n",
       "      <td>5</td>\n",
       "    </tr>\n",
       "  </tbody>\n",
       "</table>\n",
       "</div>"
      ],
      "text/plain": [
       "    mean_fit_time  std_fit_time  mean_score_time  std_score_time  \\\n",
       "39      33.719624      1.174141         0.617840        0.051669   \n",
       "85     148.230737      5.142424         2.883075        0.216675   \n",
       "43     170.796550      4.944538         3.483998        0.176174   \n",
       "0       34.776253      1.823545         1.011561        0.058326   \n",
       "62      84.063844      0.881883         2.532242        0.129367   \n",
       "\n",
       "   param_n_estimators param_min_samples_split param_min_samples_leaf  \\\n",
       "39                 90                      19                      2   \n",
       "85                445                      17                      2   \n",
       "43                495                       3                      2   \n",
       "0                 165                       2                      2   \n",
       "62                430                      17                      2   \n",
       "\n",
       "   param_max_features param_max_depth param_criterion param_bootstrap  \\\n",
       "39               sqrt             122            gini           False   \n",
       "85               sqrt              92         entropy           False   \n",
       "43               sqrt             134         entropy           False   \n",
       "0                sqrt              88         entropy            True   \n",
       "62               auto              36         entropy            True   \n",
       "\n",
       "                                               params  split0_test_score  \\\n",
       "39  {'n_estimators': 90, 'min_samples_split': 19, ...             0.6416   \n",
       "85  {'n_estimators': 445, 'min_samples_split': 17,...             0.6450   \n",
       "43  {'n_estimators': 495, 'min_samples_split': 3, ...             0.6440   \n",
       "0   {'n_estimators': 165, 'min_samples_split': 2, ...             0.6380   \n",
       "62  {'n_estimators': 430, 'min_samples_split': 17,...             0.6388   \n",
       "\n",
       "    split1_test_score  split2_test_score  split3_test_score  mean_test_score  \\\n",
       "39             0.6488             0.6510             0.6374          0.64470   \n",
       "85             0.6488             0.6490             0.6354          0.64455   \n",
       "43             0.6500             0.6438             0.6346          0.64310   \n",
       "0              0.6496             0.6474             0.6304          0.64135   \n",
       "62             0.6464             0.6442             0.6318          0.64030   \n",
       "\n",
       "    std_test_score  rank_test_score  \n",
       "39        0.005464                1  \n",
       "85        0.005518                2  \n",
       "43        0.005504                3  \n",
       "0         0.007678                4  \n",
       "62        0.005633                5  "
      ]
     },
     "execution_count": 53,
     "metadata": {},
     "output_type": "execute_result"
    }
   ],
   "source": [
    "score_df = pd.DataFrame(rf_random.cv_results_)\n",
    "score_df.sort_values(by=['rank_test_score'], ascending=True).head()"
   ]
  },
  {
   "cell_type": "code",
   "execution_count": 62,
   "metadata": {},
   "outputs": [
    {
     "data": {
      "text/plain": [
       "{'n_estimators': 90,\n",
       " 'min_samples_split': 19,\n",
       " 'min_samples_leaf': 2,\n",
       " 'max_features': 'sqrt',\n",
       " 'max_depth': 122,\n",
       " 'criterion': 'gini',\n",
       " 'bootstrap': False}"
      ]
     },
     "execution_count": 62,
     "metadata": {},
     "output_type": "execute_result"
    }
   ],
   "source": [
    "params_best = score_df.sort_values(by=['rank_test_score'], ascending=True).reset_index().loc[0,'params']\n",
    "params_best"
   ]
  },
  {
   "cell_type": "code",
   "execution_count": 61,
   "metadata": {},
   "outputs": [
    {
     "data": {
      "text/plain": [
       "{'n_estimators': 445,\n",
       " 'min_samples_split': 17,\n",
       " 'min_samples_leaf': 2,\n",
       " 'max_features': 'sqrt',\n",
       " 'max_depth': 92,\n",
       " 'criterion': 'entropy',\n",
       " 'bootstrap': False}"
      ]
     },
     "execution_count": 61,
     "metadata": {},
     "output_type": "execute_result"
    }
   ],
   "source": [
    "score_df.sort_values(by=['rank_test_score'], ascending=True).reset_index().loc[1,'params']"
   ]
  },
  {
   "cell_type": "code",
   "execution_count": null,
   "metadata": {},
   "outputs": [],
   "source": [
    "clf = RandomForestClassifier(\n",
    "    random_state = 42,\n",
    "    n_estimators = 445,\n",
    "    min_samples_split = 17,\n",
    "    min_samples_leaf = 2\n",
    "    max_features='sqrt',\n",
    "    max_depth=92,\n",
    "    criterion='entropy',\n",
    "    bootstrap=False)\n",
    "clf.fit(X_train, y_train)\n",
    "clf"
   ]
  },
  {
   "cell_type": "markdown",
   "metadata": {},
   "source": [
    "## Train the model"
   ]
  },
  {
   "cell_type": "markdown",
   "metadata": {},
   "source": [
    "https://towardsdatascience.com/random-forest-in-python-24d0893d51c0"
   ]
  },
  {
   "cell_type": "code",
   "execution_count": 58,
   "metadata": {},
   "outputs": [
    {
     "data": {
      "text/html": [
       "<style>#sk-container-id-5 {color: black;background-color: white;}#sk-container-id-5 pre{padding: 0;}#sk-container-id-5 div.sk-toggleable {background-color: white;}#sk-container-id-5 label.sk-toggleable__label {cursor: pointer;display: block;width: 100%;margin-bottom: 0;padding: 0.3em;box-sizing: border-box;text-align: center;}#sk-container-id-5 label.sk-toggleable__label-arrow:before {content: \"▸\";float: left;margin-right: 0.25em;color: #696969;}#sk-container-id-5 label.sk-toggleable__label-arrow:hover:before {color: black;}#sk-container-id-5 div.sk-estimator:hover label.sk-toggleable__label-arrow:before {color: black;}#sk-container-id-5 div.sk-toggleable__content {max-height: 0;max-width: 0;overflow: hidden;text-align: left;background-color: #f0f8ff;}#sk-container-id-5 div.sk-toggleable__content pre {margin: 0.2em;color: black;border-radius: 0.25em;background-color: #f0f8ff;}#sk-container-id-5 input.sk-toggleable__control:checked~div.sk-toggleable__content {max-height: 200px;max-width: 100%;overflow: auto;}#sk-container-id-5 input.sk-toggleable__control:checked~label.sk-toggleable__label-arrow:before {content: \"▾\";}#sk-container-id-5 div.sk-estimator input.sk-toggleable__control:checked~label.sk-toggleable__label {background-color: #d4ebff;}#sk-container-id-5 div.sk-label input.sk-toggleable__control:checked~label.sk-toggleable__label {background-color: #d4ebff;}#sk-container-id-5 input.sk-hidden--visually {border: 0;clip: rect(1px 1px 1px 1px);clip: rect(1px, 1px, 1px, 1px);height: 1px;margin: -1px;overflow: hidden;padding: 0;position: absolute;width: 1px;}#sk-container-id-5 div.sk-estimator {font-family: monospace;background-color: #f0f8ff;border: 1px dotted black;border-radius: 0.25em;box-sizing: border-box;margin-bottom: 0.5em;}#sk-container-id-5 div.sk-estimator:hover {background-color: #d4ebff;}#sk-container-id-5 div.sk-parallel-item::after {content: \"\";width: 100%;border-bottom: 1px solid gray;flex-grow: 1;}#sk-container-id-5 div.sk-label:hover label.sk-toggleable__label {background-color: #d4ebff;}#sk-container-id-5 div.sk-serial::before {content: \"\";position: absolute;border-left: 1px solid gray;box-sizing: border-box;top: 0;bottom: 0;left: 50%;z-index: 0;}#sk-container-id-5 div.sk-serial {display: flex;flex-direction: column;align-items: center;background-color: white;padding-right: 0.2em;padding-left: 0.2em;position: relative;}#sk-container-id-5 div.sk-item {position: relative;z-index: 1;}#sk-container-id-5 div.sk-parallel {display: flex;align-items: stretch;justify-content: center;background-color: white;position: relative;}#sk-container-id-5 div.sk-item::before, #sk-container-id-5 div.sk-parallel-item::before {content: \"\";position: absolute;border-left: 1px solid gray;box-sizing: border-box;top: 0;bottom: 0;left: 50%;z-index: -1;}#sk-container-id-5 div.sk-parallel-item {display: flex;flex-direction: column;z-index: 1;position: relative;background-color: white;}#sk-container-id-5 div.sk-parallel-item:first-child::after {align-self: flex-end;width: 50%;}#sk-container-id-5 div.sk-parallel-item:last-child::after {align-self: flex-start;width: 50%;}#sk-container-id-5 div.sk-parallel-item:only-child::after {width: 0;}#sk-container-id-5 div.sk-dashed-wrapped {border: 1px dashed gray;margin: 0 0.4em 0.5em 0.4em;box-sizing: border-box;padding-bottom: 0.4em;background-color: white;}#sk-container-id-5 div.sk-label label {font-family: monospace;font-weight: bold;display: inline-block;line-height: 1.2em;}#sk-container-id-5 div.sk-label-container {text-align: center;}#sk-container-id-5 div.sk-container {/* jupyter's `normalize.less` sets `[hidden] { display: none; }` but bootstrap.min.css set `[hidden] { display: none !important; }` so we also need the `!important` here to be able to override the default hidden behavior on the sphinx rendered scikit-learn.org. See: https://github.com/scikit-learn/scikit-learn/issues/21755 */display: inline-block !important;position: relative;}#sk-container-id-5 div.sk-text-repr-fallback {display: none;}</style><div id=\"sk-container-id-5\" class=\"sk-top-container\"><div class=\"sk-text-repr-fallback\"><pre>RandomForestClassifier(bootstrap=False, max_depth=122, min_samples_leaf=2,\n",
       "                       min_samples_split=19, n_estimators=90, random_state=42)</pre><b>In a Jupyter environment, please rerun this cell to show the HTML representation or trust the notebook. <br />On GitHub, the HTML representation is unable to render, please try loading this page with nbviewer.org.</b></div><div class=\"sk-container\" hidden><div class=\"sk-item\"><div class=\"sk-estimator sk-toggleable\"><input class=\"sk-toggleable__control sk-hidden--visually\" id=\"sk-estimator-id-13\" type=\"checkbox\" checked><label for=\"sk-estimator-id-13\" class=\"sk-toggleable__label sk-toggleable__label-arrow\">RandomForestClassifier</label><div class=\"sk-toggleable__content\"><pre>RandomForestClassifier(bootstrap=False, max_depth=122, min_samples_leaf=2,\n",
       "                       min_samples_split=19, n_estimators=90, random_state=42)</pre></div></div></div></div></div>"
      ],
      "text/plain": [
       "RandomForestClassifier(bootstrap=False, max_depth=122, min_samples_leaf=2,\n",
       "                       min_samples_split=19, n_estimators=90, random_state=42)"
      ]
     },
     "execution_count": 58,
     "metadata": {},
     "output_type": "execute_result"
    }
   ],
   "source": [
    "clf = RandomForestClassifier(random_state=42,n_estimators = 90,min_samples_split = 19,min_samples_leaf = 2,max_features='sqrt',max_depth=122,criterion='gini',bootstrap=False)\n",
    "clf.fit(X_train, y_train)\n",
    "clf"
   ]
  },
  {
   "cell_type": "markdown",
   "metadata": {},
   "source": [
    "## predictions and evaluation"
   ]
  },
  {
   "cell_type": "code",
   "execution_count": 12,
   "metadata": {},
   "outputs": [
    {
     "name": "stdout",
     "output_type": "stream",
     "text": [
      "0.6741190355757882\n",
      "              precision    recall  f1-score   support\n",
      "\n",
      "           0       0.58      0.55      0.57     35586\n",
      "           1       0.84      0.73      0.78     35586\n",
      "           2       0.90      0.80      0.85     35586\n",
      "           3       0.75      0.70      0.73     35586\n",
      "           4       0.54      0.58      0.56     35586\n",
      "\n",
      "   micro avg       0.71      0.67      0.69    177930\n",
      "   macro avg       0.72      0.67      0.70    177930\n",
      "weighted avg       0.72      0.67      0.70    177930\n",
      " samples avg       0.67      0.67      0.67    177930\n",
      "\n"
     ]
    },
    {
     "name": "stderr",
     "output_type": "stream",
     "text": [
      "c:\\Users\\bobmst\\.conda\\envs\\ds310\\lib\\site-packages\\sklearn\\metrics\\_classification.py:1327: UndefinedMetricWarning: Precision and F-score are ill-defined and being set to 0.0 in samples with no predicted labels. Use `zero_division` parameter to control this behavior.\n",
      "  _warn_prf(average, modifier, msg_start, len(result))\n"
     ]
    }
   ],
   "source": [
    "# Old result\n",
    "clf_regular = RandomForestClassifier(random_state=42,max_depth=100)\n",
    "predictions = clf_regular.predict(X_test)\n",
    "print(accuracy_score(y_test, predictions))\n",
    "print(classification_report(y_test, predictions))\n"
   ]
  },
  {
   "cell_type": "code",
   "execution_count": 59,
   "metadata": {},
   "outputs": [
    {
     "name": "stdout",
     "output_type": "stream",
     "text": [
      "0.6583937503512617\n",
      "              precision    recall  f1-score   support\n",
      "\n",
      "           0       0.73      0.46      0.57     35586\n",
      "           1       0.85      0.77      0.81     35586\n",
      "           2       0.92      0.89      0.90     35586\n",
      "           3       0.79      0.72      0.75     35586\n",
      "           4       0.68      0.45      0.54     35586\n",
      "\n",
      "   micro avg       0.81      0.66      0.73    177930\n",
      "   macro avg       0.79      0.66      0.72    177930\n",
      "weighted avg       0.79      0.66      0.72    177930\n",
      " samples avg       0.66      0.66      0.66    177930\n",
      "\n"
     ]
    },
    {
     "name": "stderr",
     "output_type": "stream",
     "text": [
      "c:\\Users\\bobmst\\.conda\\envs\\ds310\\lib\\site-packages\\sklearn\\metrics\\_classification.py:1327: UndefinedMetricWarning: Precision and F-score are ill-defined and being set to 0.0 in samples with no predicted labels. Use `zero_division` parameter to control this behavior.\n",
      "  _warn_prf(average, modifier, msg_start, len(result))\n"
     ]
    }
   ],
   "source": [
    "predictions = clf.predict(X_test)\n",
    "print(accuracy_score(y_test, predictions))\n",
    "print(classification_report(y_test, predictions))\n"
   ]
  },
  {
   "cell_type": "markdown",
   "metadata": {},
   "source": [
    "Old accuracy with 100 depth: 0.6741190355757882\n",
    "\n",
    "New accuracy with hyperparameter tuning: 0.6583937503512617"
   ]
  },
  {
   "cell_type": "markdown",
   "metadata": {},
   "source": [
    "Even the accuracy is similar to the the decision tree classifier model, the precision imporved a lot with random forest"
   ]
  },
  {
   "cell_type": "markdown",
   "metadata": {},
   "source": [
    "The decisiontree's accuracy goes to 78 at depth 20. And the trend is still going up, we will try more depth now."
   ]
  },
  {
   "cell_type": "code",
   "execution_count": 64,
   "metadata": {},
   "outputs": [
    {
     "data": {
      "text/plain": [
       "array([[25252,  2202,  1669,  2256,  4207],\n",
       "       [ 7782, 27169,    80,   143,   412],\n",
       "       [ 2593,    30, 31271,  1479,   213],\n",
       "       [ 7258,   307,    14, 25456,  2551],\n",
       "       [13675,  2054,  1021,  2920, 15916]], dtype=int64)"
      ]
     },
     "execution_count": 64,
     "metadata": {},
     "output_type": "execute_result"
    }
   ],
   "source": [
    "matrix = confusion_matrix(y_test.argmax(axis=1), predictions.argmax(axis=1))\n",
    "matrix"
   ]
  },
  {
   "cell_type": "code",
   "execution_count": 65,
   "metadata": {},
   "outputs": [
    {
     "data": {
      "image/png": "[encoded data removed]",
      "text/plain": [
       "<Figure size 640x480 with 2 Axes>"
      ]
     },
     "metadata": {},
     "output_type": "display_data"
    }
   ],
   "source": [
    "import seaborn as sns\n",
    "import matplotlib.pyplot as plt\n",
    "%matplotlib inline\n",
    "\n",
    "sns.heatmap(matrix, annot = True, fmt = 'd')\n",
    "plt.show()"
   ]
  }
 ],
 "metadata": {
  "kernelspec": {
   "display_name": "Python 3.10.4 ('ds310')",
   "language": "python",
   "name": "python3"
  },
  "language_info": {
   "codemirror_mode": {
    "name": "ipython",
    "version": 3
   },
   "file_extension": ".py",
   "mimetype": "text/x-python",
   "name": "python",
   "nbconvert_exporter": "python",
   "pygments_lexer": "ipython3",
   "version": "3.10.4"
  },
  "orig_nbformat": 4,
  "vscode": {
   "interpreter": {
    "hash": "63b2e4803ce7e3942f46ee966fefc71cfd4e8e02c791c6d06064e47494c142e1"
   }
  }
 },
 "nbformat": 4,
 "nbformat_minor": 2
}
